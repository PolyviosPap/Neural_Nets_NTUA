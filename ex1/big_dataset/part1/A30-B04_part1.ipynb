{
 "cells": [
  {
   "cell_type": "markdown",
   "metadata": {
    "collapsed": true
   },
   "source": [
    "## Μέρος Α \n",
    "#### Στοιχεία Ομάδας\n",
    "\n",
    "Παπακωνσταντίνου Πολύβιος 03114892\n",
    "\n",
    "Πατρής Νικόλαος 03114861"
   ]
  },
  {
   "cell_type": "code",
   "execution_count": 1,
   "metadata": {},
   "outputs": [],
   "source": [
    "import warnings \n",
    "warnings.filterwarnings('ignore')"
   ]
  },
  {
   "cell_type": "markdown",
   "metadata": {},
   "source": [
    "## Μέρος Β"
   ]
  },
  {
   "cell_type": "markdown",
   "metadata": {},
   "source": [
    "#### Εισαγωγή του dataset  \n",
    "  \n",
    "Θα εισάγουμε και θα διαβάζουμε το csv αρχείο `spambase.data` με την χρήση της read_csv και option \"header=None\" γιατί η πρώτη γραμμή περιέχει δεδομένα."
   ]
  },
  {
   "cell_type": "code",
   "execution_count": 2,
   "metadata": {},
   "outputs": [],
   "source": [
    "import pandas as pd\n",
    "df = pd.read_csv(\"spambase.data\", header=None)"
   ]
  },
  {
   "cell_type": "markdown",
   "metadata": {},
   "source": [
    "#### Παρουσίαση του dataset.\n",
    "Στόχος του dataset είναι να εκπαιδεύσει ένα νευρωνικό να διακρίνει spam emails.\n",
    "\n",
    "Περιέχει 4601 δείγματα, με 57 χαρακτηριστικά. Τα πρώτα 48 από αυτά αφορούν τις συχνότητες εμφάνισης συγκεκριμένων λέξεων στα mails (τιμές στο [0.0 , 1.0]), τα επόμενα 6 τις συχνότητες εμφάνισης κάποιων χαρακτήρων (τιμές στο [0.0 , 1.0]) και τα υπόλοιπα 4 μετρήσεις για τα κεφαλαία γράμματα στα mails, όπως για παράδειγμα το σύνολο τους, ποια μέγιστη ακολουθία τους κλπ (τιμές στο [1, ..)).\n"
   ]
  },
  {
   "cell_type": "markdown",
   "metadata": {},
   "source": [
    "####  Αριθμός δειγμάτων και χαρακτηριστικών, είδος χαρακτηριστικών. Υπάρχουν μη διατεταγμένα χαρακτηριστικά και ποια είναι αυτά;"
   ]
  },
  {
   "cell_type": "code",
   "execution_count": 3,
   "metadata": {
    "scrolled": true
   },
   "outputs": [
    {
     "name": "stdout",
     "output_type": "stream",
     "text": [
      "# Samples: 4601, # Features: 57\n",
      "     0     1     2    3     4     5     6     7     8     9  ...    48     49  \\\n",
      "0  0.00  0.64  0.64  0.0  0.32  0.00  0.00  0.00  0.00  0.00 ...  0.00  0.000   \n",
      "1  0.21  0.28  0.50  0.0  0.14  0.28  0.21  0.07  0.00  0.94 ...  0.00  0.132   \n",
      "2  0.06  0.00  0.71  0.0  1.23  0.19  0.19  0.12  0.64  0.25 ...  0.01  0.143   \n",
      "3  0.00  0.00  0.00  0.0  0.63  0.00  0.31  0.63  0.31  0.63 ...  0.00  0.137   \n",
      "4  0.00  0.00  0.00  0.0  0.63  0.00  0.31  0.63  0.31  0.63 ...  0.00  0.135   \n",
      "\n",
      "    50     51     52     53     54   55    56  57  \n",
      "0  0.0  0.778  0.000  0.000  3.756   61   278   1  \n",
      "1  0.0  0.372  0.180  0.048  5.114  101  1028   1  \n",
      "2  0.0  0.276  0.184  0.010  9.821  485  2259   1  \n",
      "3  0.0  0.137  0.000  0.000  3.537   40   191   1  \n",
      "4  0.0  0.135  0.000  0.000  3.537   40   191   1  \n",
      "\n",
      "[5 rows x 58 columns]\n"
     ]
    }
   ],
   "source": [
    "print(\"# Samples: {}, # Features: {}\".format(df.shape[0], df.shape[1]-1))\n",
    "print(df.head())"
   ]
  },
  {
   "cell_type": "markdown",
   "metadata": {},
   "source": [
    "Όπως προαναφέρθηκε, έχουμε 4601 δείγματα και 57 χαρακτηριστικά."
   ]
  },
  {
   "cell_type": "markdown",
   "metadata": {},
   "source": [
    "#### Υπάρχουν επικεφαλίδες;  Αρίθμηση γραμμών;\n",
    "Δεν υπάρχουν επικεφαλίδες, ούτε αριθμήσεις γραμμών/δειγμάτων."
   ]
  },
  {
   "cell_type": "markdown",
   "metadata": {},
   "source": [
    "#### Ποιες είναι οι ετικέτες των κλάσεων και σε ποια κολόνα βρίσκονται; \n",
    "H 58η στήλη είναι εκείνη που περιγράφει την κλάση κάθε δείγματος: __1__ για spam mail ή __0__ για κανονικό."
   ]
  },
  {
   "cell_type": "code",
   "execution_count": 4,
   "metadata": {},
   "outputs": [
    {
     "name": "stdout",
     "output_type": "stream",
     "text": [
      "Unique Labels of samples: [1 0]\n"
     ]
    }
   ],
   "source": [
    "import numpy as np\n",
    "\n",
    "labels = df.iloc[:,-1].unique()\n",
    "print(\"Unique Labels of samples: {0}\".format(labels))"
   ]
  },
  {
   "cell_type": "markdown",
   "metadata": {},
   "source": [
    "#### Χρειάστηκε να κάνετε μετατροπές στα αρχεία text και ποιες?\n",
    "Αρχικά δε φαίνεται να χρειάζεται κάποια μετατροπή.\n",
    "\n",
    "Δεν έχουμε επικεφαλίδες, ούτε αριθμήσεις και όλες οι στήλες περιέχουν αριθμούς."
   ]
  },
  {
   "cell_type": "code",
   "execution_count": 5,
   "metadata": {},
   "outputs": [],
   "source": [
    "features_df = df.iloc[:,:-1]\n",
    "labels_df = df.iloc[:,-1]\n",
    "\n",
    "# μετατροπή σε numpy\n",
    "features = features_df.values\n",
    "labels = labels_df.values"
   ]
  },
  {
   "cell_type": "markdown",
   "metadata": {},
   "source": [
    "#### Υπάρχουν απουσιάζουσες τιμές; "
   ]
  },
  {
   "cell_type": "code",
   "execution_count": 6,
   "metadata": {},
   "outputs": [
    {
     "name": "stdout",
     "output_type": "stream",
     "text": [
      "False\n"
     ]
    }
   ],
   "source": [
    "missing = df.isnull().values.any()\n",
    "print(missing)"
   ]
  },
  {
   "cell_type": "markdown",
   "metadata": {},
   "source": [
    "Δεν υπάρχουν απουσιάζουσες τιμές."
   ]
  },
  {
   "cell_type": "markdown",
   "metadata": {},
   "source": [
    "#### Ποιος είναι ο αριθμός των κλάσεων και τα ποσοστά δειγμάτων τους επί του συνόλου;"
   ]
  },
  {
   "cell_type": "code",
   "execution_count": 7,
   "metadata": {},
   "outputs": [
    {
     "name": "stdout",
     "output_type": "stream",
     "text": [
      "Class frequencies: [2788 1813]\n",
      "Total samples: 4601\n",
      "Class percentage: [60.59552271 39.40447729]\n"
     ]
    }
   ],
   "source": [
    "frequencies = np.bincount(labels)\n",
    "total_samples = frequencies.sum()\n",
    "percentage = (frequencies / total_samples) * 100\n",
    "\n",
    "print(\"\"\"Class frequencies: {0}\n",
    "Total samples: {1}\n",
    "Class percentage: {2}\"\"\".format(frequencies, total_samples, percentage))"
   ]
  },
  {
   "cell_type": "markdown",
   "metadata": {},
   "source": [
    "Παρατηρούμε πως η μια κλάση μας είναι 1.5 φορά πιο συχνή από την άλλη, συνεπώς το dataset μας δεν είναι ισορροπημένο."
   ]
  },
  {
   "cell_type": "markdown",
   "metadata": {},
   "source": [
    "#### Διαχωρισμός σε train και test sets."
   ]
  },
  {
   "cell_type": "code",
   "execution_count": 8,
   "metadata": {},
   "outputs": [
    {
     "name": "stdout",
     "output_type": "stream",
     "text": [
      "Split: Train [1971 1249], Test [817 564]\n"
     ]
    }
   ],
   "source": [
    "#!pip install -U scikit-learn\n",
    "#!pip install -U numpy\n",
    "#!pip install -U pandas\n",
    "from sklearn.model_selection import train_test_split\n",
    "\n",
    "X_train, X_test, y_train, y_test = train_test_split(features, labels, test_size=0.30, random_state=23)\n",
    "print(\"Split: Train {0}, Test {1}\".format(np.bincount(y_train), np.bincount(y_test)))\n",
    "\n",
    "#X_train, X_test, y_train, y_test = train_test_split(features, labels, test_size=0.30, stratify=labels)\n",
    "#print(\"Split (Stratified): Train {0}, Test {1}\".format(np.bincount(y_train), np.bincount(y_test)))"
   ]
  },
  {
   "cell_type": "markdown",
   "metadata": {},
   "source": [
    "## Μέρος Γ\n"
   ]
  },
  {
   "cell_type": "code",
   "execution_count": 9,
   "metadata": {},
   "outputs": [],
   "source": [
    "from sklearn.dummy import DummyClassifier\n",
    "from sklearn.metrics import confusion_matrix\n",
    "from sklearn.neighbors import KNeighborsClassifier\n",
    "from sklearn.metrics import accuracy_score\n",
    "\n",
    "# Initialize some dummies classifiers\n",
    "\n",
    "dc_uniform = DummyClassifier(strategy=\"uniform\")\n",
    "dc_constant_0 = DummyClassifier(strategy=\"constant\", constant=0)\n",
    "dc_constant_1 = DummyClassifier(strategy=\"constant\", constant=1)\n",
    "dc_most_frequent = DummyClassifier(strategy=\"most_frequent\")\n",
    "dc_stratified = DummyClassifier(strategy=\"stratified\")"
   ]
  },
  {
   "cell_type": "code",
   "execution_count": 10,
   "metadata": {},
   "outputs": [
    {
     "data": {
      "text/plain": [
       "DummyClassifier(constant=None, random_state=None, strategy='stratified')"
      ]
     },
     "execution_count": 10,
     "metadata": {},
     "output_type": "execute_result"
    }
   ],
   "source": [
    "# Train each dummy classifier.\n",
    "\n",
    "dc_uniform.fit(X_train, y_train)\n",
    "dc_constant_0.fit(X_train, y_train)\n",
    "dc_constant_1.fit(X_train, y_train)\n",
    "dc_most_frequent.fit(X_train, y_train)\n",
    "dc_stratified.fit(X_train, y_train)"
   ]
  },
  {
   "cell_type": "code",
   "execution_count": 11,
   "metadata": {},
   "outputs": [],
   "source": [
    "# Predict values based on test set\n",
    "\n",
    "pred_uni = dc_uniform.predict(X_test)\n",
    "pred_const_0 = dc_constant_0.predict(X_test)\n",
    "pred_const_1 = dc_constant_1.predict(X_test)\n",
    "pred_freq = dc_most_frequent.predict(X_test)\n",
    "pred_strat = dc_stratified.predict(X_test)"
   ]
  },
  {
   "cell_type": "code",
   "execution_count": 12,
   "metadata": {
    "scrolled": true
   },
   "outputs": [],
   "source": [
    "# gaussianNB\n",
    "from sklearn.naive_bayes import GaussianNB\n",
    "gnb = GaussianNB()\n",
    "model = gnb.fit(X_train, y_train)\n",
    "pred_gnb = gnb.predict(X_test)"
   ]
  },
  {
   "cell_type": "code",
   "execution_count": 13,
   "metadata": {},
   "outputs": [],
   "source": [
    "# kNN Classifier, default k=5\n",
    "knn = KNeighborsClassifier(n_neighbors=5)\n",
    "knn.fit(X_train, y_train)\n",
    "pred_knn = knn.predict(X_test)"
   ]
  },
  {
   "cell_type": "code",
   "execution_count": 14,
   "metadata": {},
   "outputs": [],
   "source": [
    "# MLP με 1 επίπεδο κρυμμ΄ένων νευρώνων.\n",
    "from sklearn.neural_network import MLPClassifier\n",
    "from sklearn.metrics import classification_report\n",
    "\n",
    "mlp = MLPClassifier(solver='lbfgs', alpha=1e-5,\n",
    "                    hidden_layer_sizes=(1,), random_state=1)\n",
    "mlp.fit(X_train, y_train)\n",
    "pred_mlp = mlp.predict(X_test)"
   ]
  },
  {
   "cell_type": "markdown",
   "metadata": {},
   "source": [
    "#### Confusion matrix - Bar Plots F1 (micro/macro) Score\n",
    "\n",
    "Όλες οι προβλέψεις των ταξινομονητών υπολογίστικαν και αποθηκεύτηκαν σε ξεχωριστές μεταβλητές ώστε να αποφύγουμε τυχόν overwrites. Το επόμενο βήμα είναι να υπολογίσουμε τις κατάλληλες μετρικές και τους πίνακες σύγχυσης που θα μας βοηθήσουν στην ανάλυση των μοντέλων μας. Αποφασίσαμε να γράψουμε ορισμένες ρουτίνες για να αυτοματοποιήσουμε την διαδικασία, και να βοήθησουν στην καλύτερη αναπαράσταση των δεδομένων.\n",
    "\n",
    "`cnf_score_report`: Μια απλή συνάρτηση που την καλούμε με $y\\_test,\\ y\\_pred$, και επιστρέφει $recall,\\ precision, f1\\ scores,\\ confusion\\ matrices$."
   ]
  },
  {
   "cell_type": "code",
   "execution_count": 20,
   "metadata": {},
   "outputs": [],
   "source": [
    "from sklearn.metrics import confusion_matrix\n",
    "from sklearn.metrics import precision_recall_fscore_support\n",
    "\n",
    "def cnf_score_report(y_test, y_pred):\n",
    "    cnf_matrix = confusion_matrix(y_test, y_pred)\n",
    "    \n",
    "    f1_micro = precision_recall_fscore_support(y_test, y_pred, average='micro')[2]\n",
    "    recall_micro = precision_recall_fscore_support(y_test, y_pred, average='micro')[1]\n",
    "    precision_micro = precision_recall_fscore_support(y_test, y_pred, average='micro')[0]\n",
    "\n",
    "    f1_macro = precision_recall_fscore_support(y_test, y_pred, average='macro')[2]\n",
    "    recall_macro = precision_recall_fscore_support(y_test, y_pred, average='macro')[1]\n",
    "    precision_macro = precision_recall_fscore_support(y_test, y_pred, average='macro')[0]\n",
    "    \n",
    "    return (cnf_matrix, round(precision_micro,4), round(recall_micro,4), round(f1_micro,4), round(precision_macro,4), round(recall_macro,4), round(f1_macro,4))\n"
   ]
  },
  {
   "cell_type": "markdown",
   "metadata": {},
   "source": [
    "Η επόμενη συνάρτηση αφορά την παρουσίαση των πινάκων σύγχυσης. Θεωρήσαμε ότι η εμφάνιση τους σαν απλούς `numpy arrays` δεν θα βοηθούσε ιδιαίτερα στην μελέτη, οπότε προχωρήσαμε στην αναζήτηση μιας πιο εξειδικευμένης συνάρτησης, που με συνδυασμό με την βιβλιοθήκη `matplotlib`, θα τους εμφάνιζε με τρόπο παρόμοιο με αυτόν που είδαμε στο εργαστήριο. Ο παρακάτω κώδικας, είναι μία __ελαφρώς__ τροποποιημένη μορφή του αρχικού που βρήκαμε στην σελίδα του sklearn."
   ]
  },
  {
   "cell_type": "code",
   "execution_count": 16,
   "metadata": {},
   "outputs": [],
   "source": [
    "\"\"\"\n",
    "Confusion Matrix Plotter from sklearn\n",
    "https://scikit-learn.org/stable/auto_examples/model_selection/plot_confusion_matrix.html\n",
    "\"\"\"\n",
    "\n",
    "import itertools\n",
    "import matplotlib.pyplot as plt\n",
    "\n",
    "def plot_confusion_matrix(cm, classes,\n",
    "                          normalize=False,\n",
    "                          title='Confusion matrix',\n",
    "                          cmap=plt.cm.Blues):\n",
    "    \"\"\"\n",
    "    This function prints and plots the confusion matrix.\n",
    "    Normalization can be applied by setting `normalize=True`.\n",
    "    \"\"\"\n",
    "    if normalize:\n",
    "        cm = cm.astype('float') / cm.sum(axis=1)[:, np.newaxis]\n",
    "#         print(\"Normalized confusion matrix\")\n",
    "    else:\n",
    "        pass\n",
    "#         print('Confusion matrix, without normalization')\n",
    "\n",
    "#     print(cm)\n",
    "\n",
    "    plt.imshow(cm, interpolation='nearest', cmap=cmap)\n",
    "    plt.title(title)\n",
    "    plt.colorbar()\n",
    "    tick_marks = np.arange(len(classes))\n",
    "    plt.xticks(tick_marks, classes, rotation=45)\n",
    "    plt.yticks(tick_marks, classes)\n",
    "\n",
    "    fmt = '.2f' if normalize else 'd'\n",
    "    thresh = cm.max() / 2.\n",
    "    for i, j in itertools.product(range(cm.shape[0]), range(cm.shape[1])):\n",
    "        plt.text(j, i, format(cm[i, j], fmt),\n",
    "                 horizontalalignment=\"center\",\n",
    "                 color=\"black\" if cm[i, j] > thresh else \"black\")\n",
    "\n",
    "    plt.ylabel('True label')\n",
    "    plt.xlabel('Predicted label')\n",
    "    plt.tight_layout()"
   ]
  },
  {
   "cell_type": "markdown",
   "metadata": {},
   "source": [
    "Η επόμενη συνάρτηση κάνει χρήση της κλάσης που ανήκει κάθε ταξινομητής, και διαμορφώνει το κατάλληλο string, που θα χρησιμοποιηθεί ως όνομα του `x-axis` για κάθε ένα ταξινομητή τόσο στους πίνακες σύγχυσης όσο και στο barplot."
   ]
  },
  {
   "cell_type": "code",
   "execution_count": 17,
   "metadata": {},
   "outputs": [],
   "source": [
    "def transfrom_title(class_type):\n",
    "    split_title = class_type.replace(\")\", \"\").split(\"(\")\n",
    "    clf_name = split_title[0]\n",
    "    \n",
    "    if (clf_name == \"DummyClassifier\"):\n",
    "        return clf_name + split_title[1].split(\",\")[2]\n",
    "    elif (clf_name == \"KNeighborsClassifier\"):\n",
    "        return clf_name + split_title[1].split(\",\")[5]\n",
    "    elif (clf_name == \"GaussianNB\"):\n",
    "        return clf_name\n",
    "    elif (clf_name == \"MLPClassifier\"):\n",
    "        return clf_name + split_title[1].split(\",\")[7]"
   ]
  },
  {
   "cell_type": "markdown",
   "metadata": {},
   "source": [
    "Η `plot-report` χρησιμοποιεί τις παραπάνω τρεις συναρτήσεις που σχολιάσαμε και εμφανίζει σε διαφορετικό figure τους confusion matrices, για κάθε ένα ταξινομητή. Ως όρισμα μπορεί να δεχτεί και έναν μεμονωμένο ταξινομητή αλλά και μια λίστα εξ αυτών διαμορφώνοντας κατάλληλα το input για να δουλέψει η for loop. Επίσης δέχεται και μια λίστα ονομάτων, ώστε να αντιστοιχίσει κάθε binary κλάση, με το ονόμα που την περιγράφει."
   ]
  },
  {
   "cell_type": "code",
   "execution_count": 18,
   "metadata": {},
   "outputs": [],
   "source": [
    "def plot_report(clfs, X_test, y_test, classes):\n",
    "    if not isinstance(clfs, list):\n",
    "        clfs = [clfs]\n",
    "    \n",
    "    for i, clf in enumerate(clfs):\n",
    "        plt.figure(i)\n",
    "        y_pred = clf.predict(X_test)\n",
    "        cnf_matrix, precision_micro, recall_micro, f1_micro, precision_macro, recall_macro, f1_macro = cnf_score_report(y_test, y_pred)\n",
    "        \n",
    "        title = transfrom_title(str(clf))\n",
    "        title = \"{0} \\n [Micro] Precision: {1} Recall: {2}, F1: {3} \\n [Macro] Precision: {4} Recall: {5}, F1: {6}\".format(title, precision_micro, recall_micro, f1_micro, precision_macro, recall_macro, f1_macro)\n",
    "        plot_confusion_matrix(cnf_matrix, title=title, classes=classes)\n",
    "        \n",
    "    plt.show()\n",
    "        "
   ]
  },
  {
   "cell_type": "code",
   "execution_count": 21,
   "metadata": {
    "scrolled": false
   },
   "outputs": [
    {
     "data": {
      "image/png": "[encoded data removed]",
      "text/plain": [
       "<Figure size 432x288 with 2 Axes>"
      ]
     },
     "metadata": {
      "needs_background": "light"
     },
     "output_type": "display_data"
    },
    {
     "data": {
      "image/png": "[encoded data removed]",
      "text/plain": [
       "<Figure size 432x288 with 2 Axes>"
      ]
     },
     "metadata": {
      "needs_background": "light"
     },
     "output_type": "display_data"
    },
    {
     "data": {
      "image/png": "[encoded data removed]",
      "text/plain": [
       "<Figure size 432x288 with 2 Axes>"
      ]
     },
     "metadata": {
      "needs_background": "light"
     },
     "output_type": "display_data"
    },
    {
     "data": {
      "image/png": "[encoded data removed]",
      "text/plain": [
       "<Figure size 432x288 with 2 Axes>"
      ]
     },
     "metadata": {
      "needs_background": "light"
     },
     "output_type": "display_data"
    },
    {
     "data": {
      "image/png": "[encoded data removed]",
      "text/plain": [
       "<Figure size 432x288 with 2 Axes>"
      ]
     },
     "metadata": {
      "needs_background": "light"
     },
     "output_type": "display_data"
    },
    {
     "data": {
      "image/png": "[encoded data removed]",
      "text/plain": [
       "<Figure size 432x288 with 2 Axes>"
      ]
     },
     "metadata": {
      "needs_background": "light"
     },
     "output_type": "display_data"
    },
    {
     "data": {
      "image/png": "[encoded data removed]",
      "text/plain": [
       "<Figure size 432x288 with 2 Axes>"
      ]
     },
     "metadata": {
      "needs_background": "light"
     },
     "output_type": "display_data"
    },
    {
     "data": {
      "image/png": "[encoded data removed]",
      "text/plain": [
       "<Figure size 432x288 with 2 Axes>"
      ]
     },
     "metadata": {
      "needs_background": "light"
     },
     "output_type": "display_data"
    }
   ],
   "source": [
    "clfs = [dc_uniform, dc_constant_0, dc_constant_1, dc_most_frequent, dc_stratified, gnb, knn, mlp]\n",
    "plot_report(clfs, X_test, y_test, [\"spam\", \"non-spam\"])"
   ]
  },
  {
   "cell_type": "markdown",
   "metadata": {},
   "source": [
    "Η `barplot_score` εμφανίζει τα δύο ζητούμενα bar plots για τις δύο μετρικές $f1\\_micro,\\ f1\\_macro$. Επειδή τα ονόματα των ταξινομητών είναι αρκετά μεγάλα για τον x-άξονα, στην περίπτωση των __Dummies__ εμφανίζουμε μόνο την στρατηγική που ακολουθεί, ενώ στον __KNeighbors__ των αριθμό των γειτόνων."
   ]
  },
  {
   "cell_type": "code",
   "execution_count": 23,
   "metadata": {},
   "outputs": [],
   "source": [
    "def barplot_score(clfs, X_test, y_test):\n",
    "    if not isinstance(clfs, list):\n",
    "        clfs = [clfs]\n",
    "    \n",
    "    micro_l = []\n",
    "    macro_l = []\n",
    "    clf_name = []\n",
    "    \n",
    "    for clf in clfs:\n",
    "        _, _, _, f1_micro, _, _, f1_macro = cnf_score_report(y_test, clf.predict(X_test))\n",
    "        \n",
    "        micro_l.append(f1_micro)\n",
    "        macro_l.append(f1_macro)\n",
    "        \n",
    "        if (transfrom_title(str(clf)) == \"GaussianNB\"):\n",
    "            clf_name.append(\"GaussianNB\")\n",
    "        else:\n",
    "            clf_name.append(transfrom_title(str(clf)).split()[1])\n",
    "        \n",
    "    y_pos = np.arange(len(clf_name))\n",
    "    \n",
    "    plt.figure(1)\n",
    "    plt.bar(y_pos, micro_l, align='center', alpha=0.9)\n",
    "    plt.xticks(y_pos, clf_name, rotation=45)\n",
    "    plt.ylabel('Score')\n",
    "    plt.title('f1 micro')\n",
    "    plt.tight_layout()\n",
    "    \n",
    "    plt.figure(2)\n",
    "    plt.bar(y_pos, macro_l, align='center', alpha=0.9)\n",
    "    plt.xticks(y_pos, clf_name, rotation=45)\n",
    "    plt.ylabel('Score')\n",
    "    plt.title('f1 macro')\n",
    "    plt.tight_layout()"
   ]
  },
  {
   "cell_type": "code",
   "execution_count": 23,
   "metadata": {},
   "outputs": [
    {
     "data": {
      "image/png": "[encoded data removed]",
      "text/plain": [
       "<Figure size 432x288 with 1 Axes>"
      ]
     },
     "metadata": {
      "needs_background": "light"
     },
     "output_type": "display_data"
    },
    {
     "data": {
      "image/png": "[encoded data removed]",
      "text/plain": [
       "<Figure size 432x288 with 1 Axes>"
      ]
     },
     "metadata": {
      "needs_background": "light"
     },
     "output_type": "display_data"
    }
   ],
   "source": [
    "barplot_score(clfs, X_test, y_test)"
   ]
  },
  {
   "cell_type": "markdown",
   "metadata": {},
   "source": [
    "## Δ. Βελτιστοποίηση ταξινομητών"
   ]
  },
  {
   "cell_type": "markdown",
   "metadata": {},
   "source": [
    "### kNN.\n",
    "\n",
    "Θα ξεκινήσουμε με τη βελτιστοποίηση για τον kNN:"
   ]
  },
  {
   "cell_type": "code",
   "execution_count": 25,
   "metadata": {},
   "outputs": [],
   "source": [
    "from sklearn import neighbors\n",
    "from sklearn.metrics import classification_report\n",
    "from imblearn.pipeline import Pipeline\n",
    "\n",
    "# φέρνουμε τις γνωστές μας κλάσεις για preprocessing\n",
    "from sklearn.feature_selection import VarianceThreshold\n",
    "from sklearn.preprocessing import StandardScaler # φέρνουμε τον StandarScaler ως transformer που έχει .transform kai ΄όχι ως scale()\n",
    "from imblearn.over_sampling import RandomOverSampler\n",
    "from sklearn.decomposition import PCA\n",
    "\n",
    "# αρχικοποιούμε τους εκτιμητές (μετασχηματιστές και ταξινομητή) χωρίς παραμέτρους\n",
    "selector = VarianceThreshold()\n",
    "scaler = StandardScaler()\n",
    "ros = RandomOverSampler()\n",
    "pca = PCA()\n",
    "knn_ = neighbors.KNeighborsClassifier(n_jobs=-1) #χρησιμοποιούμε όλους τους πυρήνες του υπολογιστή."
   ]
  },
  {
   "cell_type": "markdown",
   "metadata": {},
   "source": [
    "#### kNN αξιολογώντας με f1-macro."
   ]
  },
  {
   "cell_type": "code",
   "execution_count": 26,
   "metadata": {},
   "outputs": [],
   "source": [
    "from sklearn.model_selection import GridSearchCV\n",
    "\n",
    "vthreshold = [0] #δε δέχεται κάτι άλλο.\n",
    "n_components = [10, 20, 30, 40, 50, 55]\n",
    "\n",
    "# οι υπερπαραμετροι του ταξινομητή.\n",
    "k = [1, 6, 11, 21, 31, 41] \n",
    "k_weights = ['uniform', 'distance']\n",
    "k_metric = ['euclidean', 'manhattan', 'chebyshev', 'minkowski']"
   ]
  },
  {
   "cell_type": "code",
   "execution_count": 27,
   "metadata": {},
   "outputs": [],
   "source": [
    "# ορίζουμε το pipeline.\n",
    "pipe_knn = Pipeline(steps=[('selector', selector), ('scaler', scaler), ('sampler', ros), ('pca', pca), ('kNN', knn_)], memory = 'tmp')"
   ]
  },
  {
   "cell_type": "code",
   "execution_count": 28,
   "metadata": {},
   "outputs": [],
   "source": [
    "# και τον estimator.\n",
    "estimator_knn_macro = GridSearchCV(pipe_knn, dict(selector__threshold=vthreshold, pca__n_components=n_components, kNN__n_neighbors=k, kNN__weights=k_weights, kNN__metric=k_metric), cv=5, scoring='f1_macro', n_jobs=-1)"
   ]
  },
  {
   "cell_type": "code",
   "execution_count": 29,
   "metadata": {},
   "outputs": [
    {
     "name": "stdout",
     "output_type": "stream",
     "text": [
      "Συνολικός χρόνος fit και predict: 149.76109790802002 seconds\n",
      "              precision    recall  f1-score   support\n",
      "\n",
      "           0       0.93      0.93      0.93       817\n",
      "           1       0.90      0.91      0.90       564\n",
      "\n",
      "   micro avg       0.92      0.92      0.92      1381\n",
      "   macro avg       0.92      0.92      0.92      1381\n",
      "weighted avg       0.92      0.92      0.92      1381\n",
      "\n"
     ]
    }
   ],
   "source": [
    "import time\n",
    "start_time = time.time()\n",
    "estimator_knn_macro.fit(X_train, y_train)\n",
    "preds_knn_macro = estimator_knn_macro.predict(X_test)\n",
    "print(\"Συνολικός χρόνος fit και predict: %s seconds\" % (time.time() - start_time))\n",
    "print(classification_report(y_test, preds_knn_macro))"
   ]
  },
  {
   "cell_type": "code",
   "execution_count": 30,
   "metadata": {
    "scrolled": true
   },
   "outputs": [
    {
     "name": "stdout",
     "output_type": "stream",
     "text": [
      "Pipeline(memory='tmp',\n",
      "     steps=[('selector', VarianceThreshold(threshold=0)), ('scaler', StandardScaler(copy=True, with_mean=True, with_std=True)), ('sampler', RandomOverSampler(random_state=None, ratio=None, return_indices=False,\n",
      "         sampling_strategy='auto')), ('pca', PCA(copy=True, iterated_power='auto', n_component...an',\n",
      "           metric_params=None, n_jobs=-1, n_neighbors=31, p=2,\n",
      "           weights='distance'))])\n",
      "{'kNN__metric': 'euclidean', 'kNN__n_neighbors': 31, 'kNN__weights': 'distance', 'pca__n_components': 40, 'selector__threshold': 0}\n"
     ]
    }
   ],
   "source": [
    "print(estimator_knn_macro.best_estimator_)\n",
    "print(estimator_knn_macro.best_params_)"
   ]
  },
  {
   "cell_type": "markdown",
   "metadata": {},
   "source": [
    "#### kNN με f1-micro."
   ]
  },
  {
   "cell_type": "code",
   "execution_count": 31,
   "metadata": {},
   "outputs": [],
   "source": [
    "estimator_knn_micro = GridSearchCV(pipe_knn, dict(selector__threshold=vthreshold, pca__n_components=n_components, kNN__n_neighbors=k, kNN__weights=k_weights, kNN__metric=k_metric), cv=5, scoring='f1_micro', n_jobs=-1)"
   ]
  },
  {
   "cell_type": "code",
   "execution_count": 32,
   "metadata": {},
   "outputs": [
    {
     "name": "stdout",
     "output_type": "stream",
     "text": [
      "Συνολικός χρόνος fit και predict: 147.40819478034973 seconds\n",
      "              precision    recall  f1-score   support\n",
      "\n",
      "           0       0.93      0.93      0.93       817\n",
      "           1       0.90      0.91      0.90       564\n",
      "\n",
      "   micro avg       0.92      0.92      0.92      1381\n",
      "   macro avg       0.92      0.92      0.92      1381\n",
      "weighted avg       0.92      0.92      0.92      1381\n",
      "\n"
     ]
    }
   ],
   "source": [
    "import time\n",
    "start_time = time.time()\n",
    "estimator_knn_micro.fit(X_train, y_train)\n",
    "preds_knn_micro = estimator_knn_micro.predict(X_test)\n",
    "print(\"Συνολικός χρόνος fit και predict: %s seconds\" % (time.time() - start_time))\n",
    "print(classification_report(y_test, preds_knn_micro ))"
   ]
  },
  {
   "cell_type": "code",
   "execution_count": 33,
   "metadata": {
    "scrolled": true
   },
   "outputs": [
    {
     "name": "stdout",
     "output_type": "stream",
     "text": [
      "Pipeline(memory='tmp',\n",
      "     steps=[('selector', VarianceThreshold(threshold=0)), ('scaler', StandardScaler(copy=True, with_mean=True, with_std=True)), ('sampler', RandomOverSampler(random_state=None, ratio=None, return_indices=False,\n",
      "         sampling_strategy='auto')), ('pca', PCA(copy=True, iterated_power='auto', n_component...an',\n",
      "           metric_params=None, n_jobs=-1, n_neighbors=31, p=2,\n",
      "           weights='distance'))])\n",
      "{'kNN__metric': 'euclidean', 'kNN__n_neighbors': 31, 'kNN__weights': 'distance', 'pca__n_components': 40, 'selector__threshold': 0}\n"
     ]
    }
   ],
   "source": [
    "print(estimator_knn_micro.best_estimator_)\n",
    "print(estimator_knn_micro.best_params_)"
   ]
  },
  {
   "cell_type": "markdown",
   "metadata": {},
   "source": [
    "Για τον knn βρήκαμε τις εξής βέλτιστες υπερπαραμέτρους: {'metric': 'euclidean', 'neighbors': 31, 'weights': 'distance', 'pca components': 40}\n",
    "\n",
    "Θα προσπαθήσουμε να τις βελτιώσουμε περαιτέρω, επιλέγοντας αυτή τη φορά τιμές κοντά σε αυτές που βρήκαμε μόλις."
   ]
  },
  {
   "cell_type": "code",
   "execution_count": 34,
   "metadata": {},
   "outputs": [],
   "source": [
    "n_components_knn = [37, 38, 39, 40, 41, 42, 43]\n",
    "k_new = [28, 29, 30, 31, 32, 33, 34, 35]"
   ]
  },
  {
   "cell_type": "code",
   "execution_count": 35,
   "metadata": {},
   "outputs": [],
   "source": [
    "# με f1 macro.\n",
    "estimator_knn_macro_new = GridSearchCV(pipe_knn, dict(selector__threshold=vthreshold, pca__n_components=n_components_knn, kNN__n_neighbors=k_new, kNN__weights=k_weights, kNN__metric=k_metric), cv=5, scoring='f1_macro', n_jobs=-1)"
   ]
  },
  {
   "cell_type": "code",
   "execution_count": 36,
   "metadata": {},
   "outputs": [
    {
     "name": "stdout",
     "output_type": "stream",
     "text": [
      "Συνολικός χρόνος fit και predict: 316.47090768814087 seconds\n",
      "              precision    recall  f1-score   support\n",
      "\n",
      "           0       0.93      0.93      0.93       817\n",
      "           1       0.90      0.91      0.90       564\n",
      "\n",
      "   micro avg       0.92      0.92      0.92      1381\n",
      "   macro avg       0.92      0.92      0.92      1381\n",
      "weighted avg       0.92      0.92      0.92      1381\n",
      "\n"
     ]
    }
   ],
   "source": [
    "start_time = time.time()\n",
    "estimator_knn_macro_new.fit(X_train, y_train)\n",
    "preds_knn_macro_new = estimator_knn_macro_new.predict(X_test)\n",
    "print(\"Συνολικός χρόνος fit και predict: %s seconds\" % (time.time() - start_time))\n",
    "print(classification_report(y_test, preds_knn_macro_new))"
   ]
  },
  {
   "cell_type": "code",
   "execution_count": 37,
   "metadata": {},
   "outputs": [
    {
     "name": "stdout",
     "output_type": "stream",
     "text": [
      "Pipeline(memory='tmp',\n",
      "     steps=[('selector', VarianceThreshold(threshold=0)), ('scaler', StandardScaler(copy=True, with_mean=True, with_std=True)), ('sampler', RandomOverSampler(random_state=None, ratio=None, return_indices=False,\n",
      "         sampling_strategy='auto')), ('pca', PCA(copy=True, iterated_power='auto', n_component...an',\n",
      "           metric_params=None, n_jobs=-1, n_neighbors=31, p=2,\n",
      "           weights='distance'))])\n",
      "{'kNN__metric': 'euclidean', 'kNN__n_neighbors': 31, 'kNN__weights': 'distance', 'pca__n_components': 40, 'selector__threshold': 0}\n"
     ]
    }
   ],
   "source": [
    "print(estimator_knn_macro_new.best_estimator_)\n",
    "print(estimator_knn_macro_new.best_params_)"
   ]
  },
  {
   "cell_type": "code",
   "execution_count": 38,
   "metadata": {},
   "outputs": [],
   "source": [
    "# με f1 micro.\n",
    "estimator_knn_micro_new = GridSearchCV(pipe_knn, dict(selector__threshold=vthreshold, pca__n_components=n_components_knn, kNN__n_neighbors=k_new, kNN__weights=k_weights, kNN__metric=k_metric), cv=5, scoring='f1_micro', n_jobs=-1)"
   ]
  },
  {
   "cell_type": "code",
   "execution_count": 39,
   "metadata": {},
   "outputs": [
    {
     "name": "stdout",
     "output_type": "stream",
     "text": [
      "Συνολικός χρόνος fit και predict: 313.1477198600769 seconds\n",
      "              precision    recall  f1-score   support\n",
      "\n",
      "           0       0.93      0.93      0.93       817\n",
      "           1       0.90      0.91      0.90       564\n",
      "\n",
      "   micro avg       0.92      0.92      0.92      1381\n",
      "   macro avg       0.92      0.92      0.92      1381\n",
      "weighted avg       0.92      0.92      0.92      1381\n",
      "\n"
     ]
    }
   ],
   "source": [
    "start_time = time.time()\n",
    "estimator_knn_micro_new.fit(X_train, y_train)\n",
    "preds_knn_micro_new = estimator_knn_micro_new.predict(X_test)\n",
    "print(\"Συνολικός χρόνος fit και predict: %s seconds\" % (time.time() - start_time))\n",
    "print(classification_report(y_test, preds_knn_micro_new))"
   ]
  },
  {
   "cell_type": "code",
   "execution_count": 40,
   "metadata": {
    "scrolled": true
   },
   "outputs": [
    {
     "name": "stdout",
     "output_type": "stream",
     "text": [
      "Pipeline(memory='tmp',\n",
      "     steps=[('selector', VarianceThreshold(threshold=0)), ('scaler', StandardScaler(copy=True, with_mean=True, with_std=True)), ('sampler', RandomOverSampler(random_state=None, ratio=None, return_indices=False,\n",
      "         sampling_strategy='auto')), ('pca', PCA(copy=True, iterated_power='auto', n_component...an',\n",
      "           metric_params=None, n_jobs=-1, n_neighbors=31, p=2,\n",
      "           weights='distance'))])\n",
      "{'kNN__metric': 'euclidean', 'kNN__n_neighbors': 31, 'kNN__weights': 'distance', 'pca__n_components': 40, 'selector__threshold': 0}\n"
     ]
    }
   ],
   "source": [
    "print(estimator_knn_micro_new.best_estimator_)\n",
    "print(estimator_knn_micro_new.best_params_)"
   ]
  },
  {
   "cell_type": "markdown",
   "metadata": {},
   "source": [
    "Παρατηρούμε πως οι τιμές των υπερπαραμέτρων παραμένουν ίδιες, συνεπώς είναι οι βέλτιστες."
   ]
  },
  {
   "cell_type": "markdown",
   "metadata": {},
   "source": [
    "### GaussianNB."
   ]
  },
  {
   "cell_type": "markdown",
   "metadata": {},
   "source": [
    "Θα ακολουθήσουμε την ίδια διαδικαδία, αυτή τη φορά για τον GaussianNB."
   ]
  },
  {
   "cell_type": "markdown",
   "metadata": {},
   "source": [
    "#### gnb με f1-macro."
   ]
  },
  {
   "cell_type": "code",
   "execution_count": 50,
   "metadata": {},
   "outputs": [],
   "source": [
    "from sklearn.naive_bayes import GaussianNB\n",
    "gnb_ = GaussianNB()\n",
    "\n",
    "var_sm = [1e-9, 1e-8, 1e-7, 1e-6, 1e-5, 1e-4, 1e-3, 1e-2, 1e-1]\n",
    "pipe_gnb = Pipeline(steps=[('selector', selector), ('scaler', scaler), ('sampler', ros), ('pca', pca), ('GaussianNB', gnb_)], memory = 'tmp')"
   ]
  },
  {
   "cell_type": "code",
   "execution_count": 51,
   "metadata": {},
   "outputs": [],
   "source": [
    "estimator_gnb_macro = GridSearchCV(pipe_gnb, dict(selector__threshold=vthreshold, pca__n_components=n_components, GaussianNB__var_smoothing=var_sm), cv=5, scoring='f1_macro', n_jobs=-1)"
   ]
  },
  {
   "cell_type": "code",
   "execution_count": 52,
   "metadata": {},
   "outputs": [
    {
     "name": "stdout",
     "output_type": "stream",
     "text": [
      "Συνολικός χρόνος fit και predict: 3.617914915084839 seconds\n",
      "              precision    recall  f1-score   support\n",
      "\n",
      "           0       0.81      0.93      0.87       817\n",
      "           1       0.87      0.69      0.77       564\n",
      "\n",
      "   micro avg       0.83      0.83      0.83      1381\n",
      "   macro avg       0.84      0.81      0.82      1381\n",
      "weighted avg       0.83      0.83      0.82      1381\n",
      "\n"
     ]
    }
   ],
   "source": [
    "start_time = time.time()\n",
    "estimator_gnb_macro.fit(X_train, y_train)\n",
    "preds_gnb_macro = estimator_gnb_macro.predict(X_test)\n",
    "print(\"Συνολικός χρόνος fit και predict: %s seconds\" % (time.time() - start_time))\n",
    "print(classification_report(y_test, preds_gnb_macro))"
   ]
  },
  {
   "cell_type": "code",
   "execution_count": 53,
   "metadata": {
    "scrolled": true
   },
   "outputs": [
    {
     "name": "stdout",
     "output_type": "stream",
     "text": [
      "Pipeline(memory='tmp',\n",
      "     steps=[('selector', VarianceThreshold(threshold=0)), ('scaler', StandardScaler(copy=True, with_mean=True, with_std=True)), ('sampler', RandomOverSampler(random_state=None, ratio=None, return_indices=False,\n",
      "         sampling_strategy='auto')), ('pca', PCA(copy=True, iterated_power='auto', n_components=30, random_state=None,\n",
      "  svd_solver='auto', tol=0.0, whiten=False)), ('GaussianNB', GaussianNB(priors=None, var_smoothing=0.01))])\n",
      "{'GaussianNB__var_smoothing': 0.01, 'pca__n_components': 30, 'selector__threshold': 0}\n"
     ]
    }
   ],
   "source": [
    "print(estimator_gnb_macro.best_estimator_)\n",
    "print(estimator_gnb_macro.best_params_)"
   ]
  },
  {
   "cell_type": "markdown",
   "metadata": {},
   "source": [
    "#### gnb με f1-micro."
   ]
  },
  {
   "cell_type": "code",
   "execution_count": 55,
   "metadata": {},
   "outputs": [],
   "source": [
    "estimator_gnb_micro = GridSearchCV(pipe_gnb, dict(selector__threshold=vthreshold, pca__n_components=n_components, GaussianNB__var_smoothing=var_sm), cv=5, scoring='f1_micro', n_jobs=-1)"
   ]
  },
  {
   "cell_type": "code",
   "execution_count": 56,
   "metadata": {
    "scrolled": true
   },
   "outputs": [
    {
     "name": "stdout",
     "output_type": "stream",
     "text": [
      "Συνολικός χρόνος fit και predict: 3.6362369060516357 seconds\n",
      "              precision    recall  f1-score   support\n",
      "\n",
      "           0       0.81      0.93      0.87       817\n",
      "           1       0.87      0.69      0.77       564\n",
      "\n",
      "   micro avg       0.83      0.83      0.83      1381\n",
      "   macro avg       0.84      0.81      0.82      1381\n",
      "weighted avg       0.83      0.83      0.82      1381\n",
      "\n"
     ]
    }
   ],
   "source": [
    "start_time = time.time()\n",
    "estimator_gnb_micro.fit(X_train, y_train)\n",
    "preds_gnb_micro = estimator_gnb_micro.predict(X_test)\n",
    "print(\"Συνολικός χρόνος fit και predict: %s seconds\" % (time.time() - start_time))\n",
    "print(classification_report(y_test, preds_gnb_micro))"
   ]
  },
  {
   "cell_type": "code",
   "execution_count": 57,
   "metadata": {
    "scrolled": false
   },
   "outputs": [
    {
     "name": "stdout",
     "output_type": "stream",
     "text": [
      "Pipeline(memory='tmp',\n",
      "     steps=[('selector', VarianceThreshold(threshold=0)), ('scaler', StandardScaler(copy=True, with_mean=True, with_std=True)), ('sampler', RandomOverSampler(random_state=None, ratio=None, return_indices=False,\n",
      "         sampling_strategy='auto')), ('pca', PCA(copy=True, iterated_power='auto', n_components=30, random_state=None,\n",
      "  svd_solver='auto', tol=0.0, whiten=False)), ('GaussianNB', GaussianNB(priors=None, var_smoothing=0.01))])\n",
      "{'GaussianNB__var_smoothing': 0.01, 'pca__n_components': 30, 'selector__threshold': 0}\n"
     ]
    }
   ],
   "source": [
    "print(estimator_gnb_micro.best_estimator_)\n",
    "print(estimator_gnb_micro.best_params_)"
   ]
  },
  {
   "cell_type": "markdown",
   "metadata": {},
   "source": [
    "Για τον Gaussian αρχικά βρήκαμε τις παρακάτω βέλτιστες υπερπαραμέτρους: {'var smoothing': 0.01, 'pca components': 30}\n",
    "\n",
    "Ας ορίσουμε νέες τιμές."
   ]
  },
  {
   "cell_type": "code",
   "execution_count": 58,
   "metadata": {},
   "outputs": [],
   "source": [
    "n_components_gnb = [27, 28, 29, 30, 31, 32, 33]\n",
    "var_sm_new = [0.007, 0.008, 0.009, 0.01, 0.011, 0.012, 0.013]"
   ]
  },
  {
   "cell_type": "code",
   "execution_count": 59,
   "metadata": {},
   "outputs": [],
   "source": [
    "# με f1 macro.\n",
    "estimator_gnb_macro_new = GridSearchCV(pipe_gnb, dict(selector__threshold=vthreshold, pca__n_components=n_components_gnb, GaussianNB__var_smoothing=var_sm_new), cv=5, scoring='f1_macro', n_jobs=-1)"
   ]
  },
  {
   "cell_type": "code",
   "execution_count": 60,
   "metadata": {
    "scrolled": true
   },
   "outputs": [
    {
     "name": "stdout",
     "output_type": "stream",
     "text": [
      "Συνολικός χρόνος fit και predict: 3.1941702365875244 seconds\n",
      "              precision    recall  f1-score   support\n",
      "\n",
      "           0       0.81      0.93      0.86       817\n",
      "           1       0.87      0.68      0.76       564\n",
      "\n",
      "   micro avg       0.83      0.83      0.83      1381\n",
      "   macro avg       0.84      0.81      0.81      1381\n",
      "weighted avg       0.83      0.83      0.82      1381\n",
      "\n"
     ]
    }
   ],
   "source": [
    "start_time = time.time()\n",
    "estimator_gnb_macro_new.fit(X_train, y_train)\n",
    "preds_gnb_macro_new = estimator_gnb_macro_new.predict(X_test)\n",
    "print(\"Συνολικός χρόνος fit και predict: %s seconds\" % (time.time() - start_time))\n",
    "print(classification_report(y_test, preds_gnb_macro_new))"
   ]
  },
  {
   "cell_type": "code",
   "execution_count": 61,
   "metadata": {},
   "outputs": [
    {
     "name": "stdout",
     "output_type": "stream",
     "text": [
      "Pipeline(memory='tmp',\n",
      "     steps=[('selector', VarianceThreshold(threshold=0)), ('scaler', StandardScaler(copy=True, with_mean=True, with_std=True)), ('sampler', RandomOverSampler(random_state=None, ratio=None, return_indices=False,\n",
      "         sampling_strategy='auto')), ('pca', PCA(copy=True, iterated_power='auto', n_components=30, random_state=None,\n",
      "  svd_solver='auto', tol=0.0, whiten=False)), ('GaussianNB', GaussianNB(priors=None, var_smoothing=0.012))])\n",
      "{'GaussianNB__var_smoothing': 0.012, 'pca__n_components': 30, 'selector__threshold': 0}\n"
     ]
    }
   ],
   "source": [
    "print(estimator_gnb_macro_new.best_estimator_)\n",
    "print(estimator_gnb_macro_new.best_params_)"
   ]
  },
  {
   "cell_type": "code",
   "execution_count": 62,
   "metadata": {},
   "outputs": [],
   "source": [
    "# f1 micro.\n",
    "estimator_gnb_micro_new = GridSearchCV(pipe_gnb, dict(selector__threshold=vthreshold, pca__n_components=n_components_gnb, GaussianNB__var_smoothing=var_sm_new), cv=5, scoring='f1_micro', n_jobs=-1)"
   ]
  },
  {
   "cell_type": "code",
   "execution_count": 63,
   "metadata": {},
   "outputs": [
    {
     "name": "stdout",
     "output_type": "stream",
     "text": [
      "Συνολικός χρόνος fit και predict: 3.1167423725128174 seconds\n",
      "              precision    recall  f1-score   support\n",
      "\n",
      "           0       0.81      0.93      0.86       817\n",
      "           1       0.87      0.68      0.76       564\n",
      "\n",
      "   micro avg       0.83      0.83      0.83      1381\n",
      "   macro avg       0.84      0.81      0.81      1381\n",
      "weighted avg       0.83      0.83      0.82      1381\n",
      "\n"
     ]
    }
   ],
   "source": [
    "start_time = time.time()\n",
    "estimator_gnb_micro_new.fit(X_train, y_train)\n",
    "preds_gnb_micro_new = estimator_gnb_micro_new.predict(X_test)\n",
    "print(\"Συνολικός χρόνος fit και predict: %s seconds\" % (time.time() - start_time))\n",
    "print(classification_report(y_test, preds_gnb_micro_new))"
   ]
  },
  {
   "cell_type": "code",
   "execution_count": 64,
   "metadata": {
    "scrolled": true
   },
   "outputs": [
    {
     "name": "stdout",
     "output_type": "stream",
     "text": [
      "Pipeline(memory='tmp',\n",
      "     steps=[('selector', VarianceThreshold(threshold=0)), ('scaler', StandardScaler(copy=True, with_mean=True, with_std=True)), ('sampler', RandomOverSampler(random_state=None, ratio=None, return_indices=False,\n",
      "         sampling_strategy='auto')), ('pca', PCA(copy=True, iterated_power='auto', n_components=30, random_state=None,\n",
      "  svd_solver='auto', tol=0.0, whiten=False)), ('GaussianNB', GaussianNB(priors=None, var_smoothing=0.012))])\n",
      "{'GaussianNB__var_smoothing': 0.012, 'pca__n_components': 30, 'selector__threshold': 0}\n"
     ]
    }
   ],
   "source": [
    "print(estimator_gnb_micro_new.best_estimator_)\n",
    "print(estimator_gnb_micro_new.best_params_)"
   ]
  },
  {
   "cell_type": "markdown",
   "metadata": {},
   "source": [
    "Παρατηρούμε πως αυτή τη φορά και με τον f1-macro και f1-micro υπολογίσαμε ότι η καλύτερη τιμή για το var_smoothing είναι ίση με 0.012. Ο n_components παραμένει ίσος με 30."
   ]
  },
  {
   "cell_type": "markdown",
   "metadata": {},
   "source": [
    "### dummies."
   ]
  },
  {
   "cell_type": "markdown",
   "metadata": {},
   "source": [
    "Συνεχίζουμε με τους dummies.\n",
    "\n",
    "Τώρα δεν έχουμε υπερπαμέτρους προς βελτιστοποίηση, οπότε τα πράγματα είναι πιο απλά."
   ]
  },
  {
   "cell_type": "code",
   "execution_count": 79,
   "metadata": {
    "scrolled": true
   },
   "outputs": [
    {
     "name": "stdout",
     "output_type": "stream",
     "text": [
      "Συνολικός χρόνος fit και predict: 0.4214136600494385 seconds\n",
      "              precision    recall  f1-score   support\n",
      "\n",
      "           0       0.60      0.50      0.54       817\n",
      "           1       0.41      0.51      0.46       564\n",
      "\n",
      "   micro avg       0.50      0.50      0.50      1381\n",
      "   macro avg       0.50      0.50      0.50      1381\n",
      "weighted avg       0.52      0.50      0.51      1381\n",
      "\n",
      "Pipeline(memory='tmp',\n",
      "     steps=[('selector', VarianceThreshold(threshold=0)), ('scaler', StandardScaler(copy=True, with_mean=True, with_std=True)), ('sampler', RandomOverSampler(random_state=None, ratio=None, return_indices=False,\n",
      "         sampling_strategy='auto')), ('pca', PCA(copy=True, iterated_power='auto', n_components=40, random_state=None,\n",
      "  svd_solver='auto', tol=0.0, whiten=False)), ('DummyClassifier', DummyClassifier(constant=None, random_state=None, strategy='uniform'))])\n",
      "{'pca__n_components': 40, 'selector__threshold': 0}\n"
     ]
    }
   ],
   "source": [
    "# uniform.\n",
    "# f1 macro.\n",
    "from sklearn.dummy import DummyClassifier\n",
    "dc_uni_f1_macro = DummyClassifier(strategy=\"uniform\")\n",
    "pipe = Pipeline(steps=[('selector', selector), ('scaler', scaler), ('sampler', ros), ('pca', pca), ('DummyClassifier', dc_uni_f1_macro)], memory = 'tmp')\n",
    "estimator_dc_uni_macro = GridSearchCV(pipe, dict(selector__threshold=vthreshold, pca__n_components=n_components), cv=5, scoring='f1_macro', n_jobs=-1)\n",
    "start_time = time.time()\n",
    "estimator_dc_uni_macro.fit(X_train, y_train)\n",
    "preds_dc_uni_macro = estimator_dc_uni_macro.predict(X_test)\n",
    "print(\"Συνολικός χρόνος fit και predict: %s seconds\" % (time.time() - start_time))\n",
    "print(classification_report(y_test, preds_dc_uni_macro))\n",
    "print(estimator_dc_uni_macro.best_estimator_)\n",
    "print(estimator_dc_uni_macro.best_params_)"
   ]
  },
  {
   "cell_type": "code",
   "execution_count": 80,
   "metadata": {
    "scrolled": true
   },
   "outputs": [
    {
     "name": "stdout",
     "output_type": "stream",
     "text": [
      "Συνολικός χρόνος fit και predict: 0.4247567653656006 seconds\n",
      "              precision    recall  f1-score   support\n",
      "\n",
      "           0       0.60      0.53      0.56       817\n",
      "           1       0.42      0.49      0.45       564\n",
      "\n",
      "   micro avg       0.51      0.51      0.51      1381\n",
      "   macro avg       0.51      0.51      0.51      1381\n",
      "weighted avg       0.52      0.51      0.52      1381\n",
      "\n",
      "Pipeline(memory='tmp',\n",
      "     steps=[('selector', VarianceThreshold(threshold=0)), ('scaler', StandardScaler(copy=True, with_mean=True, with_std=True)), ('sampler', RandomOverSampler(random_state=None, ratio=None, return_indices=False,\n",
      "         sampling_strategy='auto')), ('pca', PCA(copy=True, iterated_power='auto', n_components=50, random_state=None,\n",
      "  svd_solver='auto', tol=0.0, whiten=False)), ('DummyClassifier', DummyClassifier(constant=None, random_state=None, strategy='uniform'))])\n",
      "{'pca__n_components': 50, 'selector__threshold': 0}\n"
     ]
    }
   ],
   "source": [
    "# uniform.\n",
    "# f1 micro.\n",
    "dc_uni_f1_micro = DummyClassifier(strategy=\"uniform\")\n",
    "pipe = Pipeline(steps=[('selector', selector), ('scaler', scaler), ('sampler', ros), ('pca', pca), ('DummyClassifier', dc_uni_f1_micro)], memory = 'tmp')\n",
    "estimator_dc_uni_micro = GridSearchCV(pipe, dict(selector__threshold=vthreshold, pca__n_components=n_components), cv=5, scoring='f1_micro', n_jobs=-1)\n",
    "start_time = time.time()\n",
    "estimator_dc_uni_micro.fit(X_train, y_train)\n",
    "preds_dc_uni_micro = estimator_dc_uni_micro.predict(X_test)\n",
    "print(\"Συνολικός χρόνος fit και predict: %s seconds\" % (time.time() - start_time))\n",
    "print(classification_report(y_test, preds_dc_uni_micro))\n",
    "print(estimator_dc_uni_micro.best_estimator_)\n",
    "print(estimator_dc_uni_micro.best_params_)"
   ]
  },
  {
   "cell_type": "code",
   "execution_count": 81,
   "metadata": {
    "scrolled": true
   },
   "outputs": [
    {
     "name": "stdout",
     "output_type": "stream",
     "text": [
      "Συνολικός χρόνος fit και predict: 0.4247562885284424 seconds\n",
      "              precision    recall  f1-score   support\n",
      "\n",
      "           0       0.59      1.00      0.74       817\n",
      "           1       0.00      0.00      0.00       564\n",
      "\n",
      "   micro avg       0.59      0.59      0.59      1381\n",
      "   macro avg       0.30      0.50      0.37      1381\n",
      "weighted avg       0.35      0.59      0.44      1381\n",
      "\n",
      "Pipeline(memory='tmp',\n",
      "     steps=[('selector', VarianceThreshold(threshold=0)), ('scaler', StandardScaler(copy=True, with_mean=True, with_std=True)), ('sampler', RandomOverSampler(random_state=None, ratio=None, return_indices=False,\n",
      "         sampling_strategy='auto')), ('pca', PCA(copy=True, iterated_power='auto', n_components=10, random_state=None,\n",
      "  svd_solver='auto', tol=0.0, whiten=False)), ('DummyClassifier', DummyClassifier(constant=0, random_state=None, strategy='constant'))])\n",
      "{'pca__n_components': 10, 'selector__threshold': 0}\n"
     ]
    }
   ],
   "source": [
    "# constant 0.\n",
    "# f1 macro.\n",
    "from sklearn.dummy import DummyClassifier\n",
    "dc_con_0_f1_macro = DummyClassifier(strategy=\"constant\", constant=0)\n",
    "pipe = Pipeline(steps=[('selector', selector), ('scaler', scaler), ('sampler', ros), ('pca', pca), ('DummyClassifier', dc_con_0_f1_macro)], memory = 'tmp')\n",
    "estimator_dc_con_0_macro = GridSearchCV(pipe, dict(selector__threshold=vthreshold, pca__n_components=n_components), cv=5, scoring='f1_macro', n_jobs=-1)\n",
    "start_time = time.time()\n",
    "estimator_dc_con_0_macro.fit(X_train, y_train)\n",
    "preds_dc_con_0_macro = estimator_dc_con_0_macro.predict(X_test)\n",
    "print(\"Συνολικός χρόνος fit και predict: %s seconds\" % (time.time() - start_time))\n",
    "print(classification_report(y_test, preds_dc_con_0_macro))\n",
    "print(estimator_dc_con_0_macro.best_estimator_)\n",
    "print(estimator_dc_con_0_macro.best_params_)"
   ]
  },
  {
   "cell_type": "code",
   "execution_count": 82,
   "metadata": {},
   "outputs": [
    {
     "name": "stdout",
     "output_type": "stream",
     "text": [
      "Συνολικός χρόνος fit και predict: 0.40486621856689453 seconds\n",
      "              precision    recall  f1-score   support\n",
      "\n",
      "           0       0.59      1.00      0.74       817\n",
      "           1       0.00      0.00      0.00       564\n",
      "\n",
      "   micro avg       0.59      0.59      0.59      1381\n",
      "   macro avg       0.30      0.50      0.37      1381\n",
      "weighted avg       0.35      0.59      0.44      1381\n",
      "\n",
      "Pipeline(memory='tmp',\n",
      "     steps=[('selector', VarianceThreshold(threshold=0)), ('scaler', StandardScaler(copy=True, with_mean=True, with_std=True)), ('sampler', RandomOverSampler(random_state=None, ratio=None, return_indices=False,\n",
      "         sampling_strategy='auto')), ('pca', PCA(copy=True, iterated_power='auto', n_components=10, random_state=None,\n",
      "  svd_solver='auto', tol=0.0, whiten=False)), ('DummyClassifier', DummyClassifier(constant=0, random_state=None, strategy='constant'))])\n",
      "{'pca__n_components': 10, 'selector__threshold': 0}\n"
     ]
    }
   ],
   "source": [
    "#constant 0\n",
    "# f1 micro.\n",
    "from sklearn.dummy import DummyClassifier\n",
    "dc_con_0_f1_micro = DummyClassifier(strategy=\"constant\", constant=0)\n",
    "pipe = Pipeline(steps=[('selector', selector), ('scaler', scaler), ('sampler', ros), ('pca', pca), ('DummyClassifier', dc_con_0_f1_micro)], memory = 'tmp')\n",
    "estimator_dc_con_0_micro = GridSearchCV(pipe, dict(selector__threshold=vthreshold, pca__n_components=n_components), cv=5, scoring='f1_micro', n_jobs=-1)\n",
    "start_time = time.time()\n",
    "estimator_dc_con_0_micro.fit(X_train, y_train)\n",
    "preds_dc_con_0_micro = estimator_dc_con_0_micro.predict(X_test)\n",
    "print(\"Συνολικός χρόνος fit και predict: %s seconds\" % (time.time() - start_time))\n",
    "print(classification_report(y_test, preds_dc_con_0_micro))\n",
    "print(estimator_dc_con_0_micro.best_estimator_)\n",
    "print(estimator_dc_con_0_micro.best_params_)"
   ]
  },
  {
   "cell_type": "code",
   "execution_count": 70,
   "metadata": {},
   "outputs": [
    {
     "name": "stdout",
     "output_type": "stream",
     "text": [
      "Συνολικός χρόνος fit και predict: 0.4197502136230469 seconds\n",
      "              precision    recall  f1-score   support\n",
      "\n",
      "           0       0.00      0.00      0.00       817\n",
      "           1       0.41      1.00      0.58       564\n",
      "\n",
      "   micro avg       0.41      0.41      0.41      1381\n",
      "   macro avg       0.20      0.50      0.29      1381\n",
      "weighted avg       0.17      0.41      0.24      1381\n",
      "\n",
      "Pipeline(memory='tmp',\n",
      "     steps=[('selector', VarianceThreshold(threshold=0)), ('scaler', StandardScaler(copy=True, with_mean=True, with_std=True)), ('sampler', RandomOverSampler(random_state=None, ratio=None, return_indices=False,\n",
      "         sampling_strategy='auto')), ('pca', PCA(copy=True, iterated_power='auto', n_components=10, random_state=None,\n",
      "  svd_solver='auto', tol=0.0, whiten=False)), ('DummyClassifier', DummyClassifier(constant=1, random_state=None, strategy='constant'))])\n",
      "{'pca__n_components': 10, 'selector__threshold': 0}\n"
     ]
    }
   ],
   "source": [
    "# constant 1.\n",
    "# f1 macro.\n",
    "from sklearn.dummy import DummyClassifier\n",
    "dc_con_1_f1_macro = DummyClassifier(strategy=\"constant\", constant=1)\n",
    "pipe = Pipeline(steps=[('selector', selector), ('scaler', scaler), ('sampler', ros), ('pca', pca), ('DummyClassifier', dc_con_1_f1_macro)], memory = 'tmp')\n",
    "estimator_dc_con_1_macro = GridSearchCV(pipe, dict(selector__threshold=vthreshold, pca__n_components=n_components), cv=5, scoring='f1_macro', n_jobs=-1)\n",
    "start_time = time.time()\n",
    "estimator_dc_con_1_macro.fit(X_train, y_train)\n",
    "preds_dc_con_1_macro = estimator_dc_con_1_macro.predict(X_test)\n",
    "print(\"Συνολικός χρόνος fit και predict: %s seconds\" % (time.time() - start_time))\n",
    "print(classification_report(y_test, preds_dc_con_1_macro))\n",
    "print(estimator_dc_con_1_macro.best_estimator_)\n",
    "print(estimator_dc_con_1_macro.best_params_)"
   ]
  },
  {
   "cell_type": "code",
   "execution_count": 71,
   "metadata": {},
   "outputs": [
    {
     "name": "stdout",
     "output_type": "stream",
     "text": [
      "Συνολικός χρόνος fit και predict: 0.41082072257995605 seconds\n",
      "              precision    recall  f1-score   support\n",
      "\n",
      "           0       0.00      0.00      0.00       817\n",
      "           1       0.41      1.00      0.58       564\n",
      "\n",
      "   micro avg       0.41      0.41      0.41      1381\n",
      "   macro avg       0.20      0.50      0.29      1381\n",
      "weighted avg       0.17      0.41      0.24      1381\n",
      "\n",
      "Pipeline(memory='tmp',\n",
      "     steps=[('selector', VarianceThreshold(threshold=0)), ('scaler', StandardScaler(copy=True, with_mean=True, with_std=True)), ('sampler', RandomOverSampler(random_state=None, ratio=None, return_indices=False,\n",
      "         sampling_strategy='auto')), ('pca', PCA(copy=True, iterated_power='auto', n_components=10, random_state=None,\n",
      "  svd_solver='auto', tol=0.0, whiten=False)), ('DummyClassifier', DummyClassifier(constant=1, random_state=None, strategy='constant'))])\n",
      "{'pca__n_components': 10, 'selector__threshold': 0}\n"
     ]
    }
   ],
   "source": [
    "# constant 1.\n",
    "# f1 micro.\n",
    "from sklearn.dummy import DummyClassifier\n",
    "dc_con_1_f1_micro = DummyClassifier(strategy=\"constant\", constant=1)\n",
    "pipe = Pipeline(steps=[('selector', selector), ('scaler', scaler), ('sampler', ros), ('pca', pca), ('DummyClassifier', dc_con_1_f1_micro)], memory = 'tmp')\n",
    "estimator_dc_con_1_micro = GridSearchCV(pipe, dict(selector__threshold=vthreshold, pca__n_components=n_components), cv=5, scoring='f1_micro', n_jobs=-1)\n",
    "start_time = time.time()\n",
    "estimator_dc_con_1_micro.fit(X_train, y_train)\n",
    "preds_dc_con_1_micro = estimator_dc_con_1_micro.predict(X_test)\n",
    "print(\"Συνολικός χρόνος fit και predict: %s seconds\" % (time.time() - start_time))\n",
    "print(classification_report(y_test, preds_dc_con_1_micro))\n",
    "print(estimator_dc_con_1_micro.best_estimator_)\n",
    "print(estimator_dc_con_1_micro.best_params_)"
   ]
  },
  {
   "cell_type": "code",
   "execution_count": 72,
   "metadata": {},
   "outputs": [],
   "source": [
    "dc_most_frequent = DummyClassifier(strategy=\"most_frequent\")\n",
    "dc_stratified = DummyClassifier(strategy=\"stratified\")"
   ]
  },
  {
   "cell_type": "code",
   "execution_count": 73,
   "metadata": {},
   "outputs": [
    {
     "name": "stdout",
     "output_type": "stream",
     "text": [
      "Συνολικός χρόνος fit και predict: 0.40398454666137695 seconds\n",
      "              precision    recall  f1-score   support\n",
      "\n",
      "           0       0.59      1.00      0.74       817\n",
      "           1       0.00      0.00      0.00       564\n",
      "\n",
      "   micro avg       0.59      0.59      0.59      1381\n",
      "   macro avg       0.30      0.50      0.37      1381\n",
      "weighted avg       0.35      0.59      0.44      1381\n",
      "\n",
      "Pipeline(memory='tmp',\n",
      "     steps=[('selector', VarianceThreshold(threshold=0)), ('scaler', StandardScaler(copy=True, with_mean=True, with_std=True)), ('sampler', RandomOverSampler(random_state=None, ratio=None, return_indices=False,\n",
      "         sampling_strategy='auto')), ('pca', PCA(copy=True, iterated_power='auto', n_components=10, random_state=None,\n",
      "  svd_solver='auto', tol=0.0, whiten=False)), ('DummyClassifier', DummyClassifier(constant=None, random_state=None, strategy='most_frequent'))])\n",
      "{'pca__n_components': 10, 'selector__threshold': 0}\n"
     ]
    }
   ],
   "source": [
    "# most frequent.\n",
    "# f1 macro.\n",
    "from sklearn.dummy import DummyClassifier\n",
    "dc_freq_f1_macro = DummyClassifier(strategy=\"most_frequent\")\n",
    "pipe = Pipeline(steps=[('selector', selector), ('scaler', scaler), ('sampler', ros), ('pca', pca), ('DummyClassifier', dc_freq_f1_macro)], memory = 'tmp')\n",
    "estimator_dc_freq_macro = GridSearchCV(pipe, dict(selector__threshold=vthreshold, pca__n_components=n_components), cv=5, scoring='f1_macro', n_jobs=-1)\n",
    "start_time = time.time()\n",
    "estimator_dc_freq_macro.fit(X_train, y_train)\n",
    "preds_dc_freq_macro = estimator_dc_freq_macro.predict(X_test)\n",
    "print(\"Συνολικός χρόνος fit και predict: %s seconds\" % (time.time() - start_time))\n",
    "print(classification_report(y_test, preds_dc_freq_macro))\n",
    "print(estimator_dc_freq_macro.best_estimator_)\n",
    "print(estimator_dc_freq_macro.best_params_)"
   ]
  },
  {
   "cell_type": "code",
   "execution_count": 74,
   "metadata": {},
   "outputs": [
    {
     "name": "stdout",
     "output_type": "stream",
     "text": [
      "Συνολικός χρόνος fit και predict: 0.41869473457336426 seconds\n",
      "              precision    recall  f1-score   support\n",
      "\n",
      "           0       0.59      1.00      0.74       817\n",
      "           1       0.00      0.00      0.00       564\n",
      "\n",
      "   micro avg       0.59      0.59      0.59      1381\n",
      "   macro avg       0.30      0.50      0.37      1381\n",
      "weighted avg       0.35      0.59      0.44      1381\n",
      "\n",
      "Pipeline(memory='tmp',\n",
      "     steps=[('selector', VarianceThreshold(threshold=0)), ('scaler', StandardScaler(copy=True, with_mean=True, with_std=True)), ('sampler', RandomOverSampler(random_state=None, ratio=None, return_indices=False,\n",
      "         sampling_strategy='auto')), ('pca', PCA(copy=True, iterated_power='auto', n_components=10, random_state=None,\n",
      "  svd_solver='auto', tol=0.0, whiten=False)), ('DummyClassifier', DummyClassifier(constant=None, random_state=None, strategy='most_frequent'))])\n",
      "{'pca__n_components': 10, 'selector__threshold': 0}\n"
     ]
    }
   ],
   "source": [
    "# f1 micro.\n",
    "from sklearn.dummy import DummyClassifier\n",
    "dc_freq_f1_micro = DummyClassifier(strategy=\"most_frequent\")\n",
    "pipe = Pipeline(steps=[('selector', selector), ('scaler', scaler), ('sampler', ros), ('pca', pca), ('DummyClassifier', dc_freq_f1_micro)], memory = 'tmp')\n",
    "estimator_dc_freq_micro = GridSearchCV(pipe, dict(selector__threshold=vthreshold, pca__n_components=n_components), cv=5, scoring='f1_micro', n_jobs=-1)\n",
    "start_time = time.time()\n",
    "estimator_dc_freq_micro.fit(X_train, y_train)\n",
    "preds_dc_freq_micro = estimator_dc_freq_micro.predict(X_test)\n",
    "print(\"Συνολικός χρόνος fit και predict: %s seconds\" % (time.time() - start_time))\n",
    "print(classification_report(y_test, preds_dc_freq_micro))\n",
    "print(estimator_dc_freq_micro.best_estimator_)\n",
    "print(estimator_dc_freq_micro.best_params_)"
   ]
  },
  {
   "cell_type": "code",
   "execution_count": 75,
   "metadata": {},
   "outputs": [
    {
     "name": "stdout",
     "output_type": "stream",
     "text": [
      "Συνολικός χρόνος fit και predict: 0.4301259517669678 seconds\n",
      "              precision    recall  f1-score   support\n",
      "\n",
      "           0       0.58      0.50      0.54       817\n",
      "           1       0.40      0.49      0.44       564\n",
      "\n",
      "   micro avg       0.49      0.49      0.49      1381\n",
      "   macro avg       0.49      0.49      0.49      1381\n",
      "weighted avg       0.51      0.49      0.50      1381\n",
      "\n",
      "Pipeline(memory='tmp',\n",
      "     steps=[('selector', VarianceThreshold(threshold=0)), ('scaler', StandardScaler(copy=True, with_mean=True, with_std=True)), ('sampler', RandomOverSampler(random_state=None, ratio=None, return_indices=False,\n",
      "         sampling_strategy='auto')), ('pca', PCA(copy=True, iterated_power='auto', n_components=50, random_state=None,\n",
      "  svd_solver='auto', tol=0.0, whiten=False)), ('DummyClassifier', DummyClassifier(constant=None, random_state=None, strategy='stratified'))])\n",
      "{'pca__n_components': 50, 'selector__threshold': 0}\n"
     ]
    }
   ],
   "source": [
    "# stratified.\n",
    "# f1 macro.\n",
    "from sklearn.dummy import DummyClassifier\n",
    "dc_strat_f1_macro = DummyClassifier(strategy=\"stratified\")\n",
    "pipe = Pipeline(steps=[('selector', selector), ('scaler', scaler), ('sampler', ros), ('pca', pca), ('DummyClassifier', dc_strat_f1_macro)], memory = 'tmp')\n",
    "estimator_dc_strat_macro = GridSearchCV(pipe, dict(selector__threshold=vthreshold, pca__n_components=n_components), cv=5, scoring='f1_macro', n_jobs=-1)\n",
    "start_time = time.time()\n",
    "estimator_dc_strat_macro.fit(X_train, y_train)\n",
    "preds_dc_strat_macro = estimator_dc_strat_macro.predict(X_test)\n",
    "print(\"Συνολικός χρόνος fit και predict: %s seconds\" % (time.time() - start_time))\n",
    "print(classification_report(y_test, preds_dc_strat_macro))\n",
    "print(estimator_dc_strat_macro.best_estimator_)\n",
    "print(estimator_dc_strat_macro.best_params_)"
   ]
  },
  {
   "cell_type": "code",
   "execution_count": 76,
   "metadata": {},
   "outputs": [
    {
     "name": "stdout",
     "output_type": "stream",
     "text": [
      "Συνολικός χρόνος fit και predict: 0.4187180995941162 seconds\n",
      "              precision    recall  f1-score   support\n",
      "\n",
      "           0       0.60      0.50      0.55       817\n",
      "           1       0.42      0.52      0.46       564\n",
      "\n",
      "   micro avg       0.51      0.51      0.51      1381\n",
      "   macro avg       0.51      0.51      0.51      1381\n",
      "weighted avg       0.53      0.51      0.51      1381\n",
      "\n",
      "Pipeline(memory='tmp',\n",
      "     steps=[('selector', VarianceThreshold(threshold=0)), ('scaler', StandardScaler(copy=True, with_mean=True, with_std=True)), ('sampler', RandomOverSampler(random_state=None, ratio=None, return_indices=False,\n",
      "         sampling_strategy='auto')), ('pca', PCA(copy=True, iterated_power='auto', n_components=55, random_state=None,\n",
      "  svd_solver='auto', tol=0.0, whiten=False)), ('DummyClassifier', DummyClassifier(constant=None, random_state=None, strategy='stratified'))])\n",
      "{'pca__n_components': 55, 'selector__threshold': 0}\n"
     ]
    }
   ],
   "source": [
    "# stratified.\n",
    "# f1 micro.\n",
    "from sklearn.dummy import DummyClassifier\n",
    "dc_strat_f1_micro = DummyClassifier(strategy=\"stratified\")\n",
    "pipe = Pipeline(steps=[('selector', selector), ('scaler', scaler), ('sampler', ros), ('pca', pca), ('DummyClassifier', dc_strat_f1_micro)], memory = 'tmp')\n",
    "estimator_dc_strat_micro = GridSearchCV(pipe, dict(selector__threshold=vthreshold, pca__n_components=n_components), cv=5, scoring='f1_micro', n_jobs=-1)\n",
    "start_time = time.time()\n",
    "estimator_dc_strat_micro.fit(X_train, y_train)\n",
    "preds_dc_strat_micro = estimator_dc_strat_micro.predict(X_test)\n",
    "print(\"Συνολικός χρόνος fit και predict: %s seconds\" % (time.time() - start_time))\n",
    "print(classification_report(y_test, preds_dc_strat_micro))\n",
    "print(estimator_dc_strat_micro.best_estimator_)\n",
    "print(estimator_dc_strat_micro.best_params_)"
   ]
  },
  {
   "cell_type": "markdown",
   "metadata": {},
   "source": [
    "Βρήκαμε λοιπόν πως για τη στρατηγική 'uniform' με f1-macro βρίσκουμε βέλτιστους n_components = 40 και για f1-micro = 50. Σημειώνεται βέβαια πως λόγω της φύσης της uniform, αν τρέξουμε ξανά τα αντίστοιχα κελιά θα βρούμε άλλες τιμές.\n",
    "\n",
    "Για την 'constant 0' και με τους 2 τρόπους καταλήγουμε σε n_components = 10.\n",
    "\n",
    "Στις 'constant 1' και 'most frequent' καταλήγουμε επίσης σε n_components = 10.\n",
    "\n",
    "Στην 'stratified' με τη f1-macro υπολογίζουμε n_components = 50, ενώ με την f1-micro σε 55."
   ]
  }
 ],
 "metadata": {
  "kernelspec": {
   "display_name": "Python 3",
   "language": "python",
   "name": "python3"
  },
  "language_info": {
   "codemirror_mode": {
    "name": "ipython",
    "version": 3
   },
   "file_extension": ".py",
   "mimetype": "text/x-python",
   "name": "python",
   "nbconvert_exporter": "python",
   "pygments_lexer": "ipython3",
   "version": "3.6.6"
  }
 },
 "nbformat": 4,
 "nbformat_minor": 2
}
