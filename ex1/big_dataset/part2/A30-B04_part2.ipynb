{
 "cells": [
  {
   "cell_type": "markdown",
   "metadata": {},
   "source": [
    "### MLP με pipeline.\n",
    "\n",
    "Στο τελικό στάδιο βελτιστοποίησης του MLP, θα προεπεξεργαστούμε τα δεδομένα μας, κάνοντας χρήση του pipeline."
   ]
  },
  {
   "cell_type": "code",
   "execution_count": 1,
   "metadata": {},
   "outputs": [],
   "source": [
    "import pandas as pd\n",
    "df = pd.read_csv(\"spambase.data\", header=None)"
   ]
  },
  {
   "cell_type": "code",
   "execution_count": 2,
   "metadata": {},
   "outputs": [],
   "source": [
    "features_df = df.iloc[:,:-1]\n",
    "labels_df = df.iloc[:,-1]\n",
    "\n",
    "features = features_df.values\n",
    "labels = labels_df.values"
   ]
  },
  {
   "cell_type": "code",
   "execution_count": 3,
   "metadata": {},
   "outputs": [],
   "source": [
    "from sklearn.model_selection import train_test_split\n",
    "\n",
    "X_train, X_test, y_train, y_test = train_test_split(features, labels, test_size=0.3, random_state=42)\n"
   ]
  },
  {
   "cell_type": "code",
   "execution_count": 4,
   "metadata": {},
   "outputs": [
    {
     "name": "stdout",
     "output_type": "stream",
     "text": [
      "(3220, 57)\n"
     ]
    }
   ],
   "source": [
    "import numpy as np\n",
    "\n",
    "np.bincount(y_test)\n",
    "print(X_train.shape)"
   ]
  },
  {
   "cell_type": "code",
   "execution_count": 5,
   "metadata": {},
   "outputs": [],
   "source": [
    "from imblearn.pipeline import Pipeline\n",
    "from sklearn.feature_selection import VarianceThreshold\n",
    "from sklearn.preprocessing import StandardScaler\n",
    "from imblearn.over_sampling import RandomOverSampler\n",
    "from sklearn.decomposition import PCA\n",
    "from sklearn.neural_network import MLPClassifier\n"
   ]
  },
  {
   "cell_type": "code",
   "execution_count": 6,
   "metadata": {},
   "outputs": [],
   "source": [
    "from sklearn.model_selection import cross_val_score\n",
    "from sklearn.model_selection import GridSearchCV\n",
    "from sklearn.metrics import classification_report\n"
   ]
  },
  {
   "cell_type": "code",
   "execution_count": 7,
   "metadata": {},
   "outputs": [],
   "source": [
    "X_train_small = X_train[:500]\n",
    "y_train_small = y_train[:500]"
   ]
  },
  {
   "cell_type": "code",
   "execution_count": 8,
   "metadata": {},
   "outputs": [
    {
     "data": {
      "text/plain": [
       "array([  5,  25,  45,  65,  85, 105, 125, 145, 165, 185])"
      ]
     },
     "execution_count": 8,
     "metadata": {},
     "output_type": "execute_result"
    }
   ],
   "source": [
    "np.arange(5, 200, 20)"
   ]
  },
  {
   "cell_type": "code",
   "execution_count": 9,
   "metadata": {},
   "outputs": [],
   "source": [
    "selector = VarianceThreshold()\n",
    "scaler = StandardScaler()\n",
    "ros = RandomOverSampler()\n",
    "pca = PCA()\n",
    "mlp = MLPClassifier()"
   ]
  },
  {
   "cell_type": "code",
   "execution_count": 10,
   "metadata": {},
   "outputs": [],
   "source": [
    "from sklearn.model_selection import GridSearchCV\n",
    "\n",
    "n_components = [10, 20, 30, 40, 50, 55]"
   ]
  },
  {
   "cell_type": "code",
   "execution_count": 11,
   "metadata": {},
   "outputs": [],
   "source": [
    "pipe_mlp = Pipeline(steps=[('scaler', scaler), ('sampler', ros), ('pca', pca), ('mlp', mlp)], memory = 'tmp')\n"
   ]
  },
  {
   "cell_type": "code",
   "execution_count": 31,
   "metadata": {
    "scrolled": true
   },
   "outputs": [
    {
     "name": "stderr",
     "output_type": "stream",
     "text": [
      "D:\\Anaconda3\\lib\\site-packages\\sklearn\\neural_network\\multilayer_perceptron.py:562: ConvergenceWarning: Stochastic Optimizer: Maximum iterations (800) reached and the optimization hasn't converged yet.\n",
      "  % self.max_iter, ConvergenceWarning)\n"
     ]
    },
    {
     "data": {
      "text/plain": [
       "Pipeline(memory='tmp',\n",
       "     steps=[('scaler', StandardScaler(copy=True, with_mean=True, with_std=True)), ('sampler', RandomOverSampler(random_state=None, ratio=None, return_indices=False,\n",
       "         sampling_strategy='auto')), ('pca', PCA(copy=True, iterated_power='auto', n_components=30, random_state=None,\n",
       "  svd_solver='auto', ...=True, solver='adam', tol=0.0001,\n",
       "       validation_fraction=0.1, verbose=False, warm_start=False))])"
      ]
     },
     "execution_count": 31,
     "metadata": {},
     "output_type": "execute_result"
    }
   ],
   "source": [
    "# testing adam.\n",
    "params = dict(\n",
    "    pca__n_components = n_components,\n",
    "    mlp__solver = ['adam'],\n",
    "    mlp__activation = ['tanh'],\n",
    "    mlp__max_iter = [800], \n",
    "    mlp__alpha = 10.0 ** -np.arange(7, 8), \n",
    "    mlp__hidden_layer_sizes = [30, 35],\n",
    "    mlp__learning_rate = ['invscaling']\n",
    ")\n",
    "\n",
    "mlp_macro = GridSearchCV(pipe_mlp, params, cv=5, scoring='f1_micro', n_jobs=-1)\n",
    "mlp_macro.fit(X_train_small, y_train_small)\n",
    "\n",
    "mlp_macro.best_params_\n",
    "mlp_macro.best_estimator_"
   ]
  },
  {
   "cell_type": "code",
   "execution_count": 32,
   "metadata": {
    "scrolled": false
   },
   "outputs": [
    {
     "name": "stdout",
     "output_type": "stream",
     "text": [
      "              precision    recall  f1-score   support\n",
      "\n",
      "           0       0.94      0.91      0.92       804\n",
      "           1       0.88      0.91      0.90       577\n",
      "\n",
      "   micro avg       0.91      0.91      0.91      1381\n",
      "   macro avg       0.91      0.91      0.91      1381\n",
      "weighted avg       0.91      0.91      0.91      1381\n",
      "\n"
     ]
    }
   ],
   "source": [
    "preds = mlp_macro.predict(X_test)\n",
    "print(classification_report(y_test, preds))"
   ]
  },
  {
   "cell_type": "code",
   "execution_count": 16,
   "metadata": {},
   "outputs": [
    {
     "data": {
      "text/plain": [
       "Pipeline(memory='tmp',\n",
       "     steps=[('scaler', StandardScaler(copy=True, with_mean=True, with_std=True)), ('sampler', RandomOverSampler(random_state=None, ratio=None, return_indices=False,\n",
       "         sampling_strategy='auto')), ('pca', PCA(copy=True, iterated_power='auto', n_components=40, random_state=None,\n",
       "  svd_solver='auto', ...True, solver='lbfgs', tol=0.0001,\n",
       "       validation_fraction=0.1, verbose=False, warm_start=False))])"
      ]
     },
     "execution_count": 16,
     "metadata": {},
     "output_type": "execute_result"
    }
   ],
   "source": [
    "# testing lbfgs.\n",
    "params = dict(\n",
    "    pca__n_components = n_components,\n",
    "    mlp__solver = ['lbfgs'],\n",
    "    mlp__activation = ['logistic'],\n",
    "    mlp__max_iter = [700, 800, 900], \n",
    "    mlp__alpha = 10.0 ** -np.arange(7, 10), \n",
    "    mlp__hidden_layer_sizes = [20, 25],\n",
    "    mlp__learning_rate = ['constant', 'invscaling', 'adaptive']\n",
    ")\n",
    "                       \n",
    "mlp_macro_v1 = GridSearchCV(pipe_mlp, params, cv=5, scoring='f1_macro', n_jobs=-1)\n",
    "mlp_macro_v1.fit(X_train_small, y_train_small)\n",
    "\n",
    "mlp_macro_v1.best_params_\n",
    "mlp_macro_v1.best_estimator_"
   ]
  },
  {
   "cell_type": "code",
   "execution_count": 17,
   "metadata": {
    "scrolled": true
   },
   "outputs": [
    {
     "name": "stdout",
     "output_type": "stream",
     "text": [
      "              precision    recall  f1-score   support\n",
      "\n",
      "           0       0.87      0.88      0.87       804\n",
      "           1       0.83      0.81      0.82       577\n",
      "\n",
      "   micro avg       0.85      0.85      0.85      1381\n",
      "   macro avg       0.85      0.85      0.85      1381\n",
      "weighted avg       0.85      0.85      0.85      1381\n",
      "\n"
     ]
    }
   ],
   "source": [
    "preds_v1 = mlp_macro_v1.predict(X_test)\n",
    "print(classification_report(y_test, preds_v1))"
   ]
  },
  {
   "cell_type": "markdown",
   "metadata": {},
   "source": [
    "Παρατηρούμε όμως πως όταν προεπεξεργαζόμαστε τα δεδομένα μας πριν το gridsearch τα scores είναι αρκετά χαμηλότερα από πριν, καθώς κυμαίνονται στο ~0.87.\n",
    "\n",
    "Αυτό συμβαίνει επειδή η φύση των δεδομένων μας δε βοηθά τη διαδικασία του pipeline, αφού για παράδειγμα οι τελευταίες 3 στήλες περιέχουν τιμές μεγαλύτερες του 1 και οι υπόλοιπες είναι φραγμένες στο [0.0 , 1.0]"
   ]
  },
  {
   "cell_type": "code",
   "execution_count": 21,
   "metadata": {
    "scrolled": true
   },
   "outputs": [
    {
     "data": {
      "text/plain": [
       "{'activation': 'logistic',\n",
       " 'alpha': 1e-07,\n",
       " 'hidden_layer_sizes': 25,\n",
       " 'max_iter': 800,\n",
       " 'solver': 'adam'}"
      ]
     },
     "execution_count": 21,
     "metadata": {},
     "output_type": "execute_result"
    }
   ],
   "source": [
    "parameters = {\n",
    "    'solver': ['adam'], \n",
    "    'activation': ['logistic'],\n",
    "    'max_iter': [800], \n",
    "    'alpha': 10.0 ** -np.arange(7, 8), \n",
    "    'hidden_layer_sizes':[25]\n",
    "}\n",
    "\n",
    "clf_h1 = MLPClassifier()\n",
    "clf_grid_h1 = GridSearchCV(clf_h1, parameters, cv=5, scoring=\"f1_micro\", n_jobs=-1)\n",
    "clf_grid_h1.fit(X_train, y_train)\n",
    "preds_h1 = clf_grid_h1.predict(X_test)\n",
    "\n",
    "clf_grid_h1.best_params_\n"
   ]
  },
  {
   "cell_type": "code",
   "execution_count": 22,
   "metadata": {},
   "outputs": [
    {
     "name": "stdout",
     "output_type": "stream",
     "text": [
      "              precision    recall  f1-score   support\n",
      "\n",
      "           0       0.96      0.93      0.94       804\n",
      "           1       0.91      0.94      0.93       577\n",
      "\n",
      "   micro avg       0.94      0.94      0.94      1381\n",
      "   macro avg       0.93      0.94      0.93      1381\n",
      "weighted avg       0.94      0.94      0.94      1381\n",
      "\n"
     ]
    }
   ],
   "source": [
    "print(classification_report(y_test, preds_h1))"
   ]
  },
  {
   "cell_type": "code",
   "execution_count": null,
   "metadata": {},
   "outputs": [],
   "source": []
  }
 ],
 "metadata": {
  "kernelspec": {
   "display_name": "Python 3",
   "language": "python",
   "name": "python3"
  },
  "language_info": {
   "codemirror_mode": {
    "name": "ipython",
    "version": 3
   },
   "file_extension": ".py",
   "mimetype": "text/x-python",
   "name": "python",
   "nbconvert_exporter": "python",
   "pygments_lexer": "ipython3",
   "version": "3.6.6"
  }
 },
 "nbformat": 4,
 "nbformat_minor": 2
}
