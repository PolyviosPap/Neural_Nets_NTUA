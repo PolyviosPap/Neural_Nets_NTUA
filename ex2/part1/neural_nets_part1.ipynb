{
 "cells": [
  {
   "cell_type": "markdown",
   "metadata": {
    "colab_type": "text",
    "id": "hLFXD3IePSyL"
   },
   "source": [
    "# Εργαστηριακή Άσκηση 2. Μη επιβλεπόμενη μάθηση. \n",
    "\n",
    "## Σύστημα συστάσεων βασισμένο στο περιεχόμενο\n",
    "\n",
    "### Παπακωνσταντίνου Πολύβιος 03114892\n",
    "### Πατρής Νικόλαος 03114861"
   ]
  },
  {
   "cell_type": "markdown",
   "metadata": {
    "colab_type": "text",
    "id": "aViHqlQcPSyP"
   },
   "source": [
    "## Εισαγωγή του Dataset"
   ]
  },
  {
   "cell_type": "markdown",
   "metadata": {
    "colab_type": "text",
    "id": "2ZVmdDExPSyQ"
   },
   "source": [
    "Το σύνολο δεδομένων με το οποίο θα δουλέψουμε είναι βασισμένο στο [Carnegie Mellon Movie Summary Corpus](http://www.cs.cmu.edu/~ark/personas/). Πρόκειται για ένα dataset με περίπου 40.000 περιγραφές ταινιών. Η περιγραφή κάθε ταινίας αποτελείται από τον τίτλο της, μια ή περισσότερες ετικέτες που χαρακτηρίζουν το είδος της ταινίας και τέλος τη σύνοψη της υπόθεσής της. Αρχικά εισάγουμε το dataset στο dataframe `df_data_1`: "
   ]
  },
  {
   "cell_type": "code",
   "execution_count": 1,
   "metadata": {
    "colab": {},
    "colab_type": "code",
    "id": "62SOj46gPSyS"
   },
   "outputs": [],
   "source": [
    "import pandas as pd\n",
    "\n",
    "dataset_url = \"https://drive.google.com/uc?export=download&id=1PdkVDENX12tQliCk_HtUnAUbfxXvnWuG\"\n",
    "# make direct link for drive docs this way https://www.labnol.org/internet/direct-links-for-google-drive/28356/\n",
    "df_data_1 = pd.read_csv(dataset_url, sep='\\t',  header=None, quoting=3, error_bad_lines=False)"
   ]
  },
  {
   "cell_type": "markdown",
   "metadata": {
    "colab_type": "text",
    "id": "7TAEZGdIPSyW"
   },
   "source": [
    "Κάθε ομάδα θα δουλέψει σε ένα μοναδικό υποσύνολο 5.000 ταινιών (διαφορετικό dataset για κάθε ομάδα) ανάλογα με τον αριθμό (seed) που το έχει ανατεθεί στο `spreadsheets`. Στην περίπτωση μας ο αριθμός είναι 30."
   ]
  },
  {
   "cell_type": "code",
   "execution_count": 2,
   "metadata": {
    "colab": {},
    "colab_type": "code",
    "id": "2POlqDjkPSyY"
   },
   "outputs": [],
   "source": [
    "import numpy as np\n",
    "\n",
    "# βάλτε το seed που αντιστοιχεί στην ομάδα σας\n",
    "team_seed_number = 30\n",
    "\n",
    "movie_seeds_url = \"https://drive.google.com/uc?export=download&id=1NkzL6rqv4DYxGY-XTKkmPqEoJ8fNbMk_\"\n",
    "df_data_2 = pd.read_csv(movie_seeds_url, header=None, error_bad_lines=False)\n",
    "\n",
    "# επιλέγεται \n",
    "my_index = df_data_2.iloc[team_seed_number,:].values\n",
    "\n",
    "titles = df_data_1.iloc[:, [2]].values[my_index] # movie titles (string)\n",
    "categories = df_data_1.iloc[:, [3]].values[my_index] # movie categories (string)\n",
    "bins = df_data_1.iloc[:, [4]]\n",
    "catbins = bins[4].str.split(',', expand=True).values.astype(np.float)[my_index] # movie categories in binary form (1 feature per category)\n",
    "summaries =  df_data_1.iloc[:, [5]].values[my_index] # movie summaries (string)\n",
    "corpus = summaries[:,0].tolist() # list form of summaries"
   ]
  },
  {
   "cell_type": "markdown",
   "metadata": {
    "colab_type": "text",
    "id": "If66lkwxPSyb"
   },
   "source": [
    "- Ο πίνακας **titles** περιέχει τους τίτλους των ταινιών. Παράδειγμα: 'Sid and Nancy'.\n",
    "- O πίνακας **categories** περιέχει τις κατηγορίες (είδη) της ταινίας υπό τη μορφή string. Παράδειγμα: '\"Tragedy\",  \"Indie\",  \"Punk rock\",  \"Addiction Drama\",  \"Cult\",  \"Musical\",  \"Drama\",  \"Biopic \\[feature\\]\",  \"Romantic drama\",  \"Romance Film\",  \"Biographical film\"'. Παρατηρούμε ότι είναι μια comma separated λίστα strings, με κάθε string να είναι μια κατηγορία.\n",
    "- Ο πίνακας **catbins** περιλαμβάνει πάλι τις κατηγορίες των ταινιών αλλά σε δυαδική μορφή ([one hot encoding](https://hackernoon.com/what-is-one-hot-encoding-why-and-when-do-you-have-to-use-it-e3c6186d008f)). Έχει διαστάσεις 5.000 x 322 (όσες οι διαφορετικές κατηγορίες). Αν η ταινία ανήκει στο συγκεκριμένο είδος η αντίστοιχη στήλη παίρνει την τιμή 1, αλλιώς παίρνει την τιμή 0.\n",
    "- Ο πίνακας **summaries** και η λίστα **corpus** περιλαμβάνουν τις συνόψεις των ταινιών (η corpus είναι απλά ο summaries σε μορφή λίστας). Κάθε σύνοψη είναι ένα (συνήθως μεγάλο) string. Παράδειγμα: *'The film is based on the real story of a Soviet Internal Troops soldier who killed his entire unit  as a result of Dedovschina. The plot unfolds mostly on board of the prisoner transport rail car guarded by a unit of paramilitary conscripts.'*\n",
    "- Θεωρούμε ως **ID** της κάθε ταινίας τον αριθμό γραμμής της ή το αντίστοιχο στοιχείο της λίστας. Παράδειγμα: για να τυπώσουμε τη σύνοψη της ταινίας με `ID=99` (την εκατοστή) θα γράψουμε `print(corpus[99])`."
   ]
  },
  {
   "cell_type": "code",
   "execution_count": 3,
   "metadata": {
    "colab": {},
    "colab_type": "code",
    "id": "k_7A3KXLp0qS"
   },
   "outputs": [
    {
     "name": "stdout",
     "output_type": "stream",
     "text": [
      "['A Very Long Engagement']\n",
      "['\"World cinema\",  \"Period piece\",  \"Drama\",  \"War film\",  \"Romantic drama\",  \"Romance Film\"']\n",
      "[0. 0. 0. 0. 0. 0. 0. 0. 0. 0. 0. 0. 0. 0. 0. 0. 0. 0. 0. 0. 0. 0. 0. 0.\n",
      " 0. 0. 0. 0. 0. 0. 0. 0. 0. 0. 0. 0. 0. 0. 0. 0. 0. 0. 0. 0. 0. 0. 0. 0.\n",
      " 0. 0. 0. 0. 0. 0. 0. 0. 0. 0. 0. 0. 0. 0. 0. 0. 0. 0. 0. 0. 0. 0. 0. 0.\n",
      " 0. 0. 0. 0. 0. 0. 0. 0. 0. 0. 0. 0. 0. 0. 0. 0. 0. 0. 0. 0. 0. 0. 0. 0.\n",
      " 0. 0. 0. 0. 0. 0. 0. 0. 0. 1. 0. 0. 0. 0. 0. 0. 0. 0. 0. 0. 0. 0. 0. 0.\n",
      " 0. 0. 0. 0. 0. 0. 0. 0. 0. 0. 0. 0. 0. 0. 0. 0. 0. 0. 0. 0. 0. 0. 0. 0.\n",
      " 0. 0. 0. 0. 0. 0. 0. 0. 0. 0. 0. 0. 0. 0. 0. 0. 0. 0. 0. 0. 0. 0. 0. 0.\n",
      " 0. 0. 0. 0. 0. 0. 0. 0. 0. 0. 0. 0. 0. 0. 0. 0. 0. 0. 0. 0. 0. 0. 0. 0.\n",
      " 0. 0. 0. 0. 0. 0. 0. 0. 0. 0. 0. 0. 0. 0. 0. 0. 0. 0. 0. 0. 0. 0. 0. 0.\n",
      " 0. 0. 0. 0. 0. 0. 0. 0. 0. 0. 0. 0. 0. 0. 0. 1. 0. 0. 0. 0. 0. 0. 0. 0.\n",
      " 0. 0. 0. 0. 0. 0. 0. 0. 0. 0. 0. 0. 0. 0. 0. 0. 1. 0. 1. 0. 0. 0. 0. 0.\n",
      " 0. 0. 0. 0. 0. 0. 0. 0. 0. 0. 0. 0. 0. 0. 0. 0. 0. 0. 0. 0. 0. 0. 0. 0.\n",
      " 0. 0. 0. 0. 0. 0. 0. 0. 0. 0. 0. 0. 0. 0. 0. 0. 0. 0. 0. 0. 0. 0. 0. 0.\n",
      " 1. 0. 0. 0. 0. 0. 1. 0. 0. 0.]\n",
      "Five French soldiers are convicted of self-mutilation in order to escape military service during World War I. They are condemned to face near certain death in the no man's land between the French and German trench lines. It appears that all of them were killed in a subsequent battle, but Mathilde, the fiancée of one of the soldiers, refuses to give up hope and begins to uncover clues as to what actually took place on the battlefield. She is all the while driven by the constant reminder of what her fiancé had carved into one of the bells of the church near their home, MMM for Manech Aime Mathilde . Along the way, she discovers the brutally corrupt system used by the French government to deal with those who tried to escape the front. She also discovers the stories of the other men who were sentenced to the no man's land as a punishment. She, with the help of a private investigator, attempts to find out what happened to her fiancé. The story is told both from the point of view of the fiancée in Paris and the French countryside—mostly Brittany—of the 1920s, and through flashbacks to the battlefield.\n"
     ]
    }
   ],
   "source": [
    "ID = 99\n",
    "print(titles[ID])\n",
    "print(categories[ID])\n",
    "print(catbins[ID])\n",
    "print(corpus[ID])"
   ]
  },
  {
   "cell_type": "markdown",
   "metadata": {
    "colab_type": "text",
    "id": "UTNgwBfjPSyc"
   },
   "source": [
    "# Εφαρμογή 1. Υλοποίηση συστήματος συστάσεων ταινιών βασισμένο στο περιεχόμενο\n",
    "<img src=\"http://clture.org/wp-content/uploads/2015/12/Netflix-Streaming-End-of-Year-Posts.jpg\" width=\"50%\">"
   ]
  },
  {
   "cell_type": "markdown",
   "metadata": {
    "colab_type": "text",
    "id": "rnA2RP8GPSyf"
   },
   "source": [
    "Η πρώτη εφαρμογή που θα αναπτύξετε θα είναι ένα [σύστημα συστάσεων](https://en.wikipedia.org/wiki/Recommender_system) ταινιών βασισμένο στο περιεχόμενο (content based recommender system). Τα συστήματα συστάσεων στοχεύουν στο να προτείνουν αυτόματα στο χρήστη αντικείμενα από μια συλλογή τα οποία ιδανικά θέλουμε να βρει ενδιαφέροντα ο χρήστης. Η κατηγοριοποίηση των συστημάτων συστάσεων βασίζεται στο πώς γίνεται η επιλογή (filtering) των συστηνόμενων αντικειμένων. Οι δύο κύριες κατηγορίες είναι η συνεργατική διήθηση (collaborative filtering) όπου το σύστημα προτείνει στο χρήστη αντικείμενα που έχουν αξιολογηθεί θετικά από χρήστες που έχουν παρόμοιο με αυτόν ιστορικό αξιολογήσεων και η διήθηση με βάση το περιεχόμενο (content based filtering), όπου προτείνονται στο χρήστη αντικείμενα με παρόμοιο περιεχόμενο (με βάση κάποια χαρακτηριστικά) με αυτά που έχει προηγουμένως αξιολογήσει θετικά.\n",
    "\n",
    "Το σύστημα συστάσεων που θα αναπτύξετε θα βασίζεται στο **περιεχόμενο** και συγκεκριμένα στις συνόψεις των ταινιών (corpus). \n"
   ]
  },
  {
   "cell_type": "markdown",
   "metadata": {
    "colab_type": "text",
    "id": "DD5KuSKrxQ8I"
   },
   "source": [
    "## Μετατροπή σε TFIDF\n",
    "\n",
    "Το πρώτο βήμα θα είναι λοιπόν να μετατρέψετε το corpus σε αναπαράσταση tf-idf:"
   ]
  },
  {
   "cell_type": "code",
   "execution_count": 4,
   "metadata": {
    "colab": {},
    "colab_type": "code",
    "id": "s5YP6XCZPSyh"
   },
   "outputs": [],
   "source": [
    "from sklearn.feature_extraction.text import TfidfVectorizer\n",
    "vectorizer = TfidfVectorizer()\n",
    "vectorizer.fit(corpus)\n",
    "corpus_tf_idf = vectorizer.transform(corpus)"
   ]
  },
  {
   "cell_type": "markdown",
   "metadata": {
    "colab_type": "text",
    "id": "H-uRZK3EPSyl"
   },
   "source": [
    "Η συνάρτηση [TfidfVectorizer](http://scikit-learn.org/stable/modules/generated/sklearn.feature_extraction.text.TfidfVectorizer.html) όπως καλείται εδώ **δεν είναι βελτιστοποιημένη**. Οι επιλογές των μεθόδων και παραμέτρων της μπορεί να έχουν **δραματική επίδραση στην ποιότητα των συστάσεων** και είναι διαφορετικές για κάθε dataset. Επίσης, οι επιλογές αυτές έχουν πολύ μεγάλη επίδραση και στη **διαστατικότητα και όγκο των δεδομένων**. Η διαστατικότητα των δεδομένων με τη σειρά της θα έχει πολύ μεγάλη επίδραση στους **χρόνους εκπαίδευσης**, ιδιαίτερα στη δεύτερη εφαρμογή της άσκησης. "
   ]
  },
  {
   "cell_type": "code",
   "execution_count": 5,
   "metadata": {
    "colab": {},
    "colab_type": "code",
    "id": "y_Cw0brpnisF"
   },
   "outputs": [
    {
     "name": "stdout",
     "output_type": "stream",
     "text": [
      "(5000, 48964)\n"
     ]
    }
   ],
   "source": [
    "print(corpus_tf_idf.shape)"
   ]
  },
  {
   "cell_type": "markdown",
   "metadata": {},
   "source": [
    "Παρατηρούμε ότι το μέγεθος του **tf-idf** πίνακα στην περίπτωση του default vectorizer είναι δραματικά μεγάλο. Με μια γρήγορη ματιά φαίνεται ότι λέξεις χωρίς κανένα ουσιαστικό νοηματικό περιεχόμενο επίλεγονται ως features του vector. "
   ]
  },
  {
   "cell_type": "code",
   "execution_count": 6,
   "metadata": {},
   "outputs": [
    {
     "name": "stdout",
     "output_type": "stream",
     "text": [
      "['00', '000', '00007693', '000th', '001', '003', '007', '008', '00pm', '01'] ['सल', 'हत', 'हतर', '山田', '张勇手', '正正正', '王孝忠', '王炳彧', '赵平原', '高老忠']\n"
     ]
    }
   ],
   "source": [
    "print(vectorizer.get_feature_names()[:10], vectorizer.get_feature_names()[48954:])"
   ]
  },
  {
   "cell_type": "markdown",
   "metadata": {},
   "source": [
    "*Unicodes, αριθμοί, σημειά στήξης* και πολλά αλλά αντιστοιχιζόνται σε features και επιβαρύνουν ιδιαίτερα την ποιότητα των συστάσεων που θα προκύψουν από το dataset μας. Οι λύσεις που έχουμε στην διάθεση μας είναι οι εξής: \n",
    "\n",
    "- δημιουργία ένος δικού μας tokenizer που θα ανταποκρύνεται καλύτερα στο dataset μας\n",
    "- απόρριψη λέξεων που δεν προσφέρουν σημασιολογική αξία στο κείμενο, όπως κύρια ονόματα ή λέξεις όπως \"the\", \"a\", \"to\", \"and\", \"he\", \"she\" κοκ. (stopwords)\n",
    "- ενδεχομένως Stemming & Lemmatization \n",
    "- και τέλος κατάλληλο tuning τως παραμέτρων του TfidfVectorizer()."
   ]
  },
  {
   "cell_type": "code",
   "execution_count": 7,
   "metadata": {},
   "outputs": [],
   "source": [
    "import string\n",
    "import nltk\n",
    "from nltk.stem import WordNetLemmatizer\n",
    "from nltk.stem.porter import PorterStemmer\n",
    "from nltk.corpus import stopwords\n",
    "\n",
    "porter_stemmer = PorterStemmer()\n",
    "wordnet_lemmatizer = WordNetLemmatizer()\n",
    "\n",
    "stop_words = list(stopwords.words('english'))\n",
    "punctuation = list(string.punctuation)\n",
    "numbers = list(\"0123456789\")\n",
    "\n",
    "invalid = set(numbers + punctuation)\n",
    "\n",
    "def thorough_filter(words):\n",
    "    filtered_words = []\n",
    "    for word in words:\n",
    "        pun = []\n",
    "        valid_flag = True\n",
    "        \n",
    "        for letter in word:\n",
    "            if letter in invalid:\n",
    "                valid_flag = False\n",
    "                break\n",
    "                \n",
    "        if valid_flag:\n",
    "            filtered_words.append(word)\n",
    "    return filtered_words\n",
    "\n",
    "def tokenize(corpus):\n",
    "    words = nltk.word_tokenize(corpus.lower())\n",
    "    filtered_words = [word for word in words if word not in stop_words]\n",
    "    filtered_words = thorough_filter(filtered_words)\n",
    "    porter_stemmer = PorterStemmer()\n",
    "    stem_words = [porter_stemmer.stem(word) for word in filtered_words]\n",
    "    return stem_words"
   ]
  },
  {
   "cell_type": "code",
   "execution_count": 8,
   "metadata": {},
   "outputs": [],
   "source": [
    "vectorizer = TfidfVectorizer(max_df=0.4, min_df=5, tokenizer=tokenize, strip_accents=ascii)\n",
    "corpus_tf_idf = vectorizer.fit_transform(corpus)"
   ]
  },
  {
   "cell_type": "code",
   "execution_count": 9,
   "metadata": {},
   "outputs": [
    {
     "name": "stdout",
     "output_type": "stream",
     "text": [
      "(5000, 8866)\n"
     ]
    }
   ],
   "source": [
    "print(corpus_tf_idf.shape)"
   ]
  },
  {
   "cell_type": "code",
   "execution_count": 10,
   "metadata": {},
   "outputs": [
    {
     "name": "stdout",
     "output_type": "stream",
     "text": [
      "['aaron', 'aback', 'abandon', 'abbi', 'abbot', 'abbott', 'abdic', 'abdomen', 'abduct', 'abe'] ['zealand', 'zeppelin', 'zero', 'zhang', 'zhao', 'zoe', 'zombi', 'zone', 'zoo', 'zoom']\n"
     ]
    }
   ],
   "source": [
    "print(vectorizer.get_feature_names()[:10], vectorizer.get_feature_names()[8856:])"
   ]
  },
  {
   "cell_type": "markdown",
   "metadata": {},
   "source": [
    "Ως τελευταία προσπάθεια μπορούμε να \"πειράξουμε\" τα όρια των επιτρεπτών συχνοτήτων των λέξεων `max_df, min_df`. Θα ασχοληθούμε πρώτα με το άνω όριο **(max_df)** και έπειτα με το **(min_df)**."
   ]
  },
  {
   "cell_type": "code",
   "execution_count": 11,
   "metadata": {},
   "outputs": [
    {
     "name": "stdout",
     "output_type": "stream",
     "text": [
      "(5000, 8815)\n",
      "(5000, 8866)\n",
      "(5000, 8868)\n"
     ]
    }
   ],
   "source": [
    "vectorizer = TfidfVectorizer(max_df=0.2, min_df=5, tokenizer=tokenize, strip_accents=ascii)\n",
    "corpus_tf_idf = vectorizer.fit_transform(corpus)\n",
    "print(corpus_tf_idf.shape)\n",
    "\n",
    "vectorizer = TfidfVectorizer(max_df=0.4, min_df=5, tokenizer=tokenize, strip_accents=ascii)\n",
    "corpus_tf_idf = vectorizer.fit_transform(corpus)\n",
    "print(corpus_tf_idf.shape)\n",
    "\n",
    "vectorizer = TfidfVectorizer(max_df=0.6, min_df=5, tokenizer=tokenize, strip_accents=ascii)\n",
    "corpus_tf_idf = vectorizer.fit_transform(corpus)\n",
    "print(corpus_tf_idf.shape)"
   ]
  },
  {
   "cell_type": "markdown",
   "metadata": {},
   "source": [
    "Παρατηρούμε ότι η μέγιστη τιμή επηρεάζει ελάχιστα το πλήθος των features του vectorizer, καθώς οι περισσότεροι όροι δεν φτάνουν σε τόσα υψηλά (~0.2) ποσοστά συγκέντρωσης στο dataset. Το μόνο που μένει να παραμετροποιηθεί είναι το κάτω όριο της μετρικής document freq."
   ]
  },
  {
   "cell_type": "code",
   "execution_count": 12,
   "metadata": {},
   "outputs": [
    {
     "name": "stdout",
     "output_type": "stream",
     "text": [
      "(5000, 8866)\n",
      "(5000, 5808)\n",
      "(5000, 4509)\n",
      "(5000, 3748)\n"
     ]
    }
   ],
   "source": [
    "vectorizer = TfidfVectorizer(max_df=0.4, min_df=5, tokenizer=tokenize, strip_accents=ascii)\n",
    "corpus_tf_idf = vectorizer.fit_transform(corpus)\n",
    "print(corpus_tf_idf.shape)\n",
    "\n",
    "vectorizer = TfidfVectorizer(max_df=0.4, min_df=10, tokenizer=tokenize, strip_accents=ascii)\n",
    "corpus_tf_idf = vectorizer.fit_transform(corpus)\n",
    "print(corpus_tf_idf.shape)\n",
    "\n",
    "vectorizer = TfidfVectorizer(max_df=0.4, min_df=15, tokenizer=tokenize, strip_accents=ascii)\n",
    "corpus_tf_idf = vectorizer.fit_transform(corpus)\n",
    "print(corpus_tf_idf.shape)\n",
    "\n",
    "vectorizer = TfidfVectorizer(max_df=0.4, min_df=20, tokenizer=tokenize, strip_accents=ascii)\n",
    "corpus_tf_idf = vectorizer.fit_transform(corpus)\n",
    "print(corpus_tf_idf.shape)"
   ]
  },
  {
   "cell_type": "markdown",
   "metadata": {},
   "source": [
    "Το μόνο που καταφέραμε σε αυτό το στάδιο ήταν να ελέγχουμε ορισμένες **καλές** τιμές για τις παραμέτρους μας. Θα πρέπει να επαλανάβουμε ορισμένα από τα βήματα αυτά όταν θα θέσουμε τον Vectorizer στο σύστημα συστάσεων."
   ]
  },
  {
   "cell_type": "markdown",
   "metadata": {
    "colab_type": "text",
    "id": "3LsmvSyVykTU"
   },
   "source": [
    "## Υλοποίηση του συστήματος συστάσεων\n",
    "\n",
    "Το σύστημα συστάσεων που θα φτιάξουμε θα είναι μια συνάρτηση `content_recommender` με δύο ορίσματα `target_movie` και `max_recommendations`. Στην `target_movie` περνάμε το ID μιας ταινίας-στόχου για την οποία μας ενδιαφέρει να βρούμε παρόμοιες ως προς το περιεχόμενο (τη σύνοψη) ταινίες, `max_recommendations` στο πλήθος.\n",
    "\n",
    "- Για τις `max_recommendations` ταινίες (πλην της ίδιας της ταινίας-στόχου που έχει cosine similarity 1 με τον εαυτό της) με τη μεγαλύτερη ομοιότητα συνημιτόνου (σε φθίνουσα σειρά), τυπώστε σειρά σύστασης (1 πιο κοντινή, 2 η δεύτερη πιο κοντινή κλπ), id, τίτλο, σύνοψη, κατηγορίες (categories)"
   ]
  },
  {
   "cell_type": "code",
   "execution_count": 13,
   "metadata": {},
   "outputs": [
    {
     "data": {
      "text/plain": [
       "5000"
      ]
     },
     "execution_count": 13,
     "metadata": {},
     "output_type": "execute_result"
    }
   ],
   "source": [
    "corpus_tf_idf.shape[0]"
   ]
  },
  {
   "cell_type": "code",
   "execution_count": 14,
   "metadata": {},
   "outputs": [],
   "source": [
    "import scipy as sp\n",
    "\n",
    "def content_recommender(target_movie, max_recommendations):\n",
    "    similarity = []\n",
    "    movies_tfidf = corpus_tf_idf.toarray()\n",
    "    \n",
    "    for val in movies_tfidf:\n",
    "        similarity.append(1.0-sp.spatial.distance.cosine(movies_tfidf[target_movie], val))\n",
    "    \n",
    "    similarity = np.argsort(similarity, kind='quicksort')[::-1]\n",
    "    \n",
    "    return similarity[1:max_recommendations+1]\n",
    "\n",
    "target_movie = 749\n",
    "max_recommendations = 2\n",
    "\n",
    "def report_movie(title, movie_id):\n",
    "    print(\"\"\"\n",
    "    -- {0}[{1}] {2} --\n",
    "    Categories: {3}\n",
    "    Summary: {4:<10}...\n",
    "    {5}\n",
    "    \"\"\".format(title, movie_id, titles[movie_id], categories[movie_id], corpus[movie_id][:400], \"-\" * 100))\n",
    "    \n",
    "def report_recommendations(target_movie, max_recommendations):\n",
    "    report_movie(\"Target Movie\", target_movie)\n",
    "    \n",
    "    i = 1\n",
    "    for rec in content_recommender(target_movie, max_recommendations):\n",
    "        report_movie(\"Recommended #{0}\".format(i) , rec)\n",
    "        i += 1\n",
    "    "
   ]
  },
  {
   "cell_type": "code",
   "execution_count": 15,
   "metadata": {},
   "outputs": [
    {
     "name": "stdout",
     "output_type": "stream",
     "text": [
      "\n",
      "    -- Target Movie[742] ['Vengeance of the Zombies'] --\n",
      "    Categories: ['\"Zombie Film\",  \"Drama\",  \"Horror\",  \"Creature Film\",  \"World cinema\"']\n",
      "    Summary: In this zombie horror film, a mysterious man rampages throughout England killing unsuspecting women. Each time a victim is murdered, they are brought back to life by an East Indian named Kantaka  to join his army of zombies....\n",
      "    ----------------------------------------------------------------------------------------------------\n",
      "    \n",
      "\n",
      "    -- Recommended #1[2812] ['Alien Dead'] --\n",
      "    Categories: ['\"Zombie Film\",  \"Science Fiction\",  \"Horror\"']\n",
      "    Summary: A meteor strikes a houseboat in the swamps near a southern town, causing the people on the houseboat to become zombies. The zombies feed on the alligators in the swamp and when they run out of alligators, they start going for the citizens. When the people start to disappear, a local scientist tries to figure out what's happening and how to stop the zombies from killing more people....\n",
      "    ----------------------------------------------------------------------------------------------------\n",
      "    \n",
      "\n",
      "    -- Recommended #2[1753] ['House of the Dead'] --\n",
      "    Categories: ['\"Thriller\",  \"Horror\",  \"World cinema\",  \"Action/Adventure\",  \"Zombie Film\",  \"Action\",  \"Teen\"']\n",
      "    Summary: The film begins with Simon  and Greg  planning to take a boat to an island rave party. They meet up with Alicia , Karma  and Cynthia . Karma has a crush on Simon, Simon has a crush on Alicia and Cynthia is Greg's girlfriend. When they arrive at the dock, they find the boat to take them to the island has already left. They hitch a ride instead with Victor Kirk  and his first mate Salish . A cop nam...\n",
      "    ----------------------------------------------------------------------------------------------------\n",
      "    \n"
     ]
    }
   ],
   "source": [
    "report_recommendations(742, 2)"
   ]
  },
  {
   "cell_type": "markdown",
   "metadata": {
    "colab_type": "text",
    "id": "8IvHkTUHyu78"
   },
   "source": [
    "## Βελτιστοποίηση\n",
    "\n",
    "   Αφού υλοποιήσαμε τη συνάρτηση `content_recommender` θα την χρησιμοποιήσουμε για να βελτιστοποιήσουμε περαιτέρω τον `TfidfVectorizer`. Επειδή ήδη στο προηγούμενο παράδειγμα οι ταινίες που μας ___πρότεινε___ είχαν κοινό νοηματικό περιεχόμενο (Zombies, Thriller) θα προσπαθήσουμε να αυξήσουμε την τιμή του `max_recommendations` για να δούμε πότε αρχίζουμε να έχουμε απόκληση. Ως πρώτο βήμα θα αποδείξουμε ότι η χρήση του tokenizer που γράψαμε παρέχει καλύτερα αποτελέσματα απο εκείνα του default που κάνει χρήση ο `TfidfVectorizer`."
   ]
  },
  {
   "cell_type": "code",
   "execution_count": 16,
   "metadata": {},
   "outputs": [
    {
     "name": "stdout",
     "output_type": "stream",
     "text": [
      "Default Vectorizer Shape:  (5000, 4819)\n",
      "\n",
      "    -- Target Movie[1753] ['House of the Dead'] --\n",
      "    Categories: ['\"Thriller\",  \"Horror\",  \"World cinema\",  \"Action/Adventure\",  \"Zombie Film\",  \"Action\",  \"Teen\"']\n",
      "    Summary: The film begins with Simon  and Greg  planning to take a boat to an island rave party. They meet up with Alicia , Karma  and Cynthia . Karma has a crush on Simon, Simon has a crush on Alicia and Cynthia is Greg's girlfriend. When they arrive at the dock, they find the boat to take them to the island has already left. They hitch a ride instead with Victor Kirk  and his first mate Salish . A cop nam...\n",
      "    ----------------------------------------------------------------------------------------------------\n",
      "    \n",
      "\n",
      "    -- Recommended #1[2812] ['Alien Dead'] --\n",
      "    Categories: ['\"Zombie Film\",  \"Science Fiction\",  \"Horror\"']\n",
      "    Summary: A meteor strikes a houseboat in the swamps near a southern town, causing the people on the houseboat to become zombies. The zombies feed on the alligators in the swamp and when they run out of alligators, they start going for the citizens. When the people start to disappear, a local scientist tries to figure out what's happening and how to stop the zombies from killing more people....\n",
      "    ----------------------------------------------------------------------------------------------------\n",
      "    \n",
      "\n",
      "    -- Recommended #2[3060] ['Hell of the Living Dead'] --\n",
      "    Categories: ['\"Zombie Film\",  \"Science Fiction\",  \"Horror\",  \"World cinema\"']\n",
      "    Summary: The film opens at a top secret chemical research facility called Hope Center #1 where a chemical leak in one of the modules at the facility turns the entire staff into flesh-eating zombies. The movie then shifts to an unnamed European country with a four-man team of commandos led by Lt. Mike London  being deployed to eliminate a group of terrorists who have taken hostages inside a large building. ...\n",
      "    ----------------------------------------------------------------------------------------------------\n",
      "    \n",
      "\n",
      "    -- Recommended #3[3616] ['The Strawberry Statement'] --\n",
      "    Categories: ['\"Drama\",  \"Comedy-drama\",  \"Romance Film\",  \"Satire\",  \"Coming of age\"']\n",
      "    Summary: Simon , a student at a fictional university in San Francisco  is indifferent to the student protests around him, until walking in on a naked woman  in his dormitory roommate's bed. While she quickly runs over to the toilets to dress, Simon protests to his roommate that their time should only be devoted to studying, so they can get good jobs and lots of money. Coming back clothed, the woman refuses...\n",
      "    ----------------------------------------------------------------------------------------------------\n",
      "    \n",
      "\n",
      "    -- Recommended #4[2131] ['The Saint'] --\n",
      "    Categories: ['\"Thriller\",  \"Crime Fiction\",  \"Action\",  \"Action/Adventure\",  \"Spy\"']\n",
      "    Summary: At the Saint Ignatius Orphanage, a rebellious boy named John Rossi refers to himself as \"Simon Templar\" and leads a group of fellow orphans as they attempt to run away to escape their harsh treatment. When Simon is caught by the head priest, he witnesses the tragic death of a girl he had taken a liking to when she accidentally falls from a balcony. As an adult, Simon —now a professional thief dubb...\n",
      "    ----------------------------------------------------------------------------------------------------\n",
      "    \n",
      "\n",
      "    -- Recommended #5[742] ['Vengeance of the Zombies'] --\n",
      "    Categories: ['\"Zombie Film\",  \"Drama\",  \"Horror\",  \"Creature Film\",  \"World cinema\"']\n",
      "    Summary: In this zombie horror film, a mysterious man rampages throughout England killing unsuspecting women. Each time a victim is murdered, they are brought back to life by an East Indian named Kantaka  to join his army of zombies....\n",
      "    ----------------------------------------------------------------------------------------------------\n",
      "    \n",
      "\n",
      "    -- Recommended #6[3035] ['Death on the Nile'] --\n",
      "    Categories: ['\"Thriller\",  \"Mystery\",  \"Crime Fiction\",  \"Drama\"']\n",
      "    Summary: Jacqueline De Bellefort  introduces her fiancé, Simon Doyle , to her wealthy friend Linnet Ridgeway  in the hope that Linnet will give him a job. Instead, Linnet marries Simon herself and they head off for a honeymoon in Egypt . A bitter Jacqueline follows them to Egypt, appearing wherever they go. Hercule Poirot  is also on holiday in Egypt. While staying in the same hotel as the newlyweds, he is...\n",
      "    ----------------------------------------------------------------------------------------------------\n",
      "    \n",
      "\n",
      "    -- Recommended #7[47] ['Eat Me!'] --\n",
      "    Categories: ['\"Zombie Film\"']\n",
      "    Summary: A Brooklyn garage band, General Malacarne, survives a radioactive event and have to battle against zombies to what they believe is the safe haven of Long Island....\n",
      "    ----------------------------------------------------------------------------------------------------\n",
      "    \n",
      "\n",
      "    -- Recommended #8[2806] ['Hatchet II'] --\n",
      "    Categories: ['\"Thriller\",  \"Horror\",  \"Cult\",  \"Comedy\",  \"Black comedy\",  \"Action\",  \"Slasher\"']\n",
      "    Summary: Picking up immediately where the first film ended, Marybeth  is attacked by Victor Crowley , but manages to escape. Jack Cracker  finds her, pulls her out of the river, and takes her back to his cabin. After finding out her last name, he forces her to leave, telling her that if she wants help, she needs to see Reverend Zombie . Moments after she leaves Jack is killed by Victor Crowley who severs h...\n",
      "    ----------------------------------------------------------------------------------------------------\n",
      "    \n",
      "\n",
      "    -- Recommended #9[1491] ['Night of the Living Dead'] --\n",
      "    Categories: ['\"Horror\",  \"Indie\",  \"Doomsday film\",  \"Black-and-white\",  \"Cult\",  \"Mystery\",  \"Splatter film\",  \"Zombie Film\"']\n",
      "    Summary: The story begins with the siblings Barbra  and Johnny  driving to rural Pennsylvania to visit their father's grave. In the graveyard Johnny teases Barbra that \"They're coming to get you, Barbra\" and then they are violently attacked by a strange man . Johnny tries to rescue his sister, but is killed after he falls and cracks his head on a gravestone. Barbra flees with the zombie in pursuit to a far...\n",
      "    ----------------------------------------------------------------------------------------------------\n",
      "    \n",
      "\n",
      "    -- Recommended #10[3908] ['Welcome'] --\n",
      "    Categories: ['\"Romantic drama\",  \"Romance Film\",  \"Drama\",  \"World cinema\"']\n",
      "    Summary: The film tells the story of Simon Calmat , a French swimming coach who is divorcing his wife Marion . Simon tries to help a young Iraqi-Kurdish illegal Immigrant, Bilal Kayani , whose dream is to cross the English Channel from Calais in France to the United Kingdom by any means possible to be reunited with his girlfriend Mina . Meanwhile, Mina's father strongly opposes Bilal's plans as he wants to...\n",
      "    ----------------------------------------------------------------------------------------------------\n",
      "    \n",
      "\n",
      "    -- Recommended #11[1051] ['Komodo vs. Cobra'] --\n",
      "    Categories: ['\"Science Fiction\",  \"Horror\",  \"Creature Film\",  \"Monster\"']\n",
      "    Summary: A team of environmentalists, including a reporter, her camera man, and an environmentalist's famous girlfriend charter a boat and with the captain, sail to a military island. They suspect the island is hosting to illegal activities. Upon arrival, however, they find no one. They finally reach a deserted house, where they find Dr. Susan Richardson, who tells them that everyone on the island is dead,...\n",
      "    ----------------------------------------------------------------------------------------------------\n",
      "    \n",
      "\n",
      "    -- Recommended #12[1475] ['Doctor in the House'] --\n",
      "    Categories: ['\"Parody\",  \"Drama\",  \"Comedy\",  \"Film adaptation\"']\n",
      "    Summary: The story follows the fortunes of Simon Sparrow , starting as a new medical student at the fictional St Swithin's Hospital in London. His five years of student life, involving drinking, dating women, and falling foul of the rigid hospital authorities, provide many humorous incidents. When he has to leave his first choice of lodgings to get away from his landlady's amorous daughter , he ends up wit...\n",
      "    ----------------------------------------------------------------------------------------------------\n",
      "    \n",
      "\n",
      "    -- Recommended #13[4159] ['Book of Blood'] --\n",
      "    Categories: ['\"Mystery\",  \"Horror\"']\n",
      "    Summary: A hooded, disfigured man is eating at a diner, being watched by a stranger. The stranger is Wyburd , who has been stalking the young man. He convinces the boy to join him in his truck, where the boy passes out and awakens strapped to a table. Wyburd offers the boy a choice: a slow death, or a quick and clean death by hearing the story of the Book of Blood: a series of scars and inscriptions carved...\n",
      "    ----------------------------------------------------------------------------------------------------\n",
      "    \n",
      "\n",
      "    -- Recommended #14[1568] ['Doctor in Distress'] --\n",
      "    Categories: ['\"Romantic comedy\",  \"Comedy\"']\n",
      "    Summary: Simon Sparrow, now a senior doctor at St Swithins, falls in love with Delia, a model and aspiring actress. They eventually move in together, but then she goes to Italy to try out for a film. Meanwhile, Spratt injures his back in a fall. Placed under the care of physiotherapist Iris Marchant, he is initially hostile, but soon succumbs to her charms. He turns to his friend Simon for advice. Simon se...\n",
      "    ----------------------------------------------------------------------------------------------------\n",
      "    \n",
      "\n",
      "    -- Recommended #15[2526] ['The Incredibly Strange Creatures Who Stopped Living and Became Mixed-Up Zombies'] --\n",
      "    Categories: ['\"Parody\",  \"Zombie Film\",  \"Musical\",  \"Horror\"']\n",
      "    Summary: Jerry , his girlfriend Angela , and his buddy Harold  head out for a day at the carnival. In one venue, a dance number is performed by Marge , an alcoholic who drinks before and between shows, and her partner, Bill Ward, for a small audience. There Jerry sees stripper Carmelita  who hypnotizes him with her icy stare and he is compelled to see her act. Carmelita is the young sister of powerful fort...\n",
      "    ----------------------------------------------------------------------------------------------------\n",
      "    \n"
     ]
    }
   ],
   "source": [
    "vectorizer = TfidfVectorizer(max_df=0.2, min_df=20, stop_words='english')\n",
    "corpus_tf_idf = vectorizer.fit_transform(corpus)\n",
    "print('Default Vectorizer Shape: ', corpus_tf_idf.shape)\n",
    "\n",
    "report_recommendations(1753, 15)"
   ]
  },
  {
   "cell_type": "code",
   "execution_count": 17,
   "metadata": {},
   "outputs": [
    {
     "name": "stdout",
     "output_type": "stream",
     "text": [
      "Better Vectorizer Shape:  (5000, 5808)\n",
      "\n",
      "    -- Target Movie[1753] ['House of the Dead'] --\n",
      "    Categories: ['\"Thriller\",  \"Horror\",  \"World cinema\",  \"Action/Adventure\",  \"Zombie Film\",  \"Action\",  \"Teen\"']\n",
      "    Summary: The film begins with Simon  and Greg  planning to take a boat to an island rave party. They meet up with Alicia , Karma  and Cynthia . Karma has a crush on Simon, Simon has a crush on Alicia and Cynthia is Greg's girlfriend. When they arrive at the dock, they find the boat to take them to the island has already left. They hitch a ride instead with Victor Kirk  and his first mate Salish . A cop nam...\n",
      "    ----------------------------------------------------------------------------------------------------\n",
      "    \n",
      "\n",
      "    -- Recommended #1[2812] ['Alien Dead'] --\n",
      "    Categories: ['\"Zombie Film\",  \"Science Fiction\",  \"Horror\"']\n",
      "    Summary: A meteor strikes a houseboat in the swamps near a southern town, causing the people on the houseboat to become zombies. The zombies feed on the alligators in the swamp and when they run out of alligators, they start going for the citizens. When the people start to disappear, a local scientist tries to figure out what's happening and how to stop the zombies from killing more people....\n",
      "    ----------------------------------------------------------------------------------------------------\n",
      "    \n",
      "\n",
      "    -- Recommended #2[2806] ['Hatchet II'] --\n",
      "    Categories: ['\"Thriller\",  \"Horror\",  \"Cult\",  \"Comedy\",  \"Black comedy\",  \"Action\",  \"Slasher\"']\n",
      "    Summary: Picking up immediately where the first film ended, Marybeth  is attacked by Victor Crowley , but manages to escape. Jack Cracker  finds her, pulls her out of the river, and takes her back to his cabin. After finding out her last name, he forces her to leave, telling her that if she wants help, she needs to see Reverend Zombie . Moments after she leaves Jack is killed by Victor Crowley who severs h...\n",
      "    ----------------------------------------------------------------------------------------------------\n",
      "    \n",
      "\n",
      "    -- Recommended #3[4265] ['First Platoon'] --\n",
      "    Categories: ['\"Comedy film\",  \"Horror\"']\n",
      "    Summary: First Platoon centers around Rock Brannigan ([[Scott Gibson  and his ragtag squad of ex-military zombie hunters trying to make a living in the desert Southwest two years after the zombie apocalypse. Along the way they encounter the grizzled Pa Jericho , and the eccentric Rex Necro ....\n",
      "    ----------------------------------------------------------------------------------------------------\n",
      "    \n",
      "\n",
      "    -- Recommended #4[742] ['Vengeance of the Zombies'] --\n",
      "    Categories: ['\"Zombie Film\",  \"Drama\",  \"Horror\",  \"Creature Film\",  \"World cinema\"']\n",
      "    Summary: In this zombie horror film, a mysterious man rampages throughout England killing unsuspecting women. Each time a victim is murdered, they are brought back to life by an East Indian named Kantaka  to join his army of zombies....\n",
      "    ----------------------------------------------------------------------------------------------------\n",
      "    \n",
      "\n",
      "    -- Recommended #5[3060] ['Hell of the Living Dead'] --\n",
      "    Categories: ['\"Zombie Film\",  \"Science Fiction\",  \"Horror\",  \"World cinema\"']\n",
      "    Summary: The film opens at a top secret chemical research facility called Hope Center #1 where a chemical leak in one of the modules at the facility turns the entire staff into flesh-eating zombies. The movie then shifts to an unnamed European country with a four-man team of commandos led by Lt. Mike London  being deployed to eliminate a group of terrorists who have taken hostages inside a large building. ...\n",
      "    ----------------------------------------------------------------------------------------------------\n",
      "    \n",
      "\n",
      "    -- Recommended #6[2295] ['Meet the Parents'] --\n",
      "    Categories: ['\"Romantic comedy\",  \"Romance Film\",  \"Screwball comedy\",  \"Comedy\"']\n",
      "    Summary: Gaylord \"Greg\" Focker  is a nurse living in Chicago. He intends to propose to his girlfriend Pam Byrnes , but his plan is disrupted when he learns that Pam's sister's fiance had asked Pam's father for permission before proposing. Greg and Pam travel to Pam's parents' house to attend Pam's sister's wedding. Greg hopes to propose to Pam in front of her family after receiving her father's permission....\n",
      "    ----------------------------------------------------------------------------------------------------\n",
      "    \n",
      "\n",
      "    -- Recommended #7[1491] ['Night of the Living Dead'] --\n",
      "    Categories: ['\"Horror\",  \"Indie\",  \"Doomsday film\",  \"Black-and-white\",  \"Cult\",  \"Mystery\",  \"Splatter film\",  \"Zombie Film\"']\n",
      "    Summary: The story begins with the siblings Barbra  and Johnny  driving to rural Pennsylvania to visit their father's grave. In the graveyard Johnny teases Barbra that \"They're coming to get you, Barbra\" and then they are violently attacked by a strange man . Johnny tries to rescue his sister, but is killed after he falls and cracks his head on a gravestone. Barbra flees with the zombie in pursuit to a far...\n",
      "    ----------------------------------------------------------------------------------------------------\n",
      "    \n",
      "\n",
      "    -- Recommended #8[2526] ['The Incredibly Strange Creatures Who Stopped Living and Became Mixed-Up Zombies'] --\n",
      "    Categories: ['\"Parody\",  \"Zombie Film\",  \"Musical\",  \"Horror\"']\n",
      "    Summary: Jerry , his girlfriend Angela , and his buddy Harold  head out for a day at the carnival. In one venue, a dance number is performed by Marge , an alcoholic who drinks before and between shows, and her partner, Bill Ward, for a small audience. There Jerry sees stripper Carmelita  who hypnotizes him with her icy stare and he is compelled to see her act. Carmelita is the young sister of powerful fort...\n",
      "    ----------------------------------------------------------------------------------------------------\n",
      "    \n",
      "\n",
      "    -- Recommended #9[605] ['Plane Dead'] --\n",
      "    Categories: ['\"Zombie Film\",  \"Black comedy\",  \"Action\",  \"Horror\"']\n",
      "    Summary: On a routine flight from Los Angeles to Paris, a renegade group of scientists has smuggled aboard a secret container holding a fellow scientist infected with a deadly genetically engineered virus which reanimates the dead. The virus is a variant of the malaria virus created by three scientists. They discovered and manufactured the virus with the intent of turning it into a biological weapon. Their...\n",
      "    ----------------------------------------------------------------------------------------------------\n",
      "    \n",
      "\n",
      "    -- Recommended #10[2689] ['Killing Birds'] --\n",
      "    Categories: ['\"Zombie Film\",  \"Natural horror films\",  \"Horror\",  \"World cinema\"']\n",
      "    Summary: Fred Brown, a soldier, returns to Louisiana from the Vietnam war to find his wife  in bed with another man, and kills them both and his parents , only sparing his son. While he is cleaning his knife, a falcon attacks him and tears out his left eye and blinds him in the other. He ends up at a hospital where he says goodbye to the child before he is taken into foster care. Twenty years later, a smal...\n",
      "    ----------------------------------------------------------------------------------------------------\n",
      "    \n",
      "\n",
      "    -- Recommended #11[3576] ['The Ward'] --\n",
      "    Categories: ['\"Thriller\",  \"Psychological thriller\",  \"Horror\",  \"Haunted House Film\",  \"Supernatural\"']\n",
      "    Summary: At the North Bend Psychiatric Hospital in 1966, a young patient named Tammy is attacked and killed by an unseen force during the night. Kristen , a troubled young woman sets fire to an abandoned farmhouse. The local police take her to the psychiatric hospital. She is taken to the ward where she meets other patients: Iris , Sarah , Emily , and Zoey , and is given Tammy's old room. She meets Dr. Str...\n",
      "    ----------------------------------------------------------------------------------------------------\n",
      "    \n",
      "\n",
      "    -- Recommended #12[1911] ['Do Gaz Zameen Ke Neeche'] --\n",
      "    Categories: ['\"Horror\"']\n",
      "    Summary: A rich young scientist rescues a woman and marries her, only to have her and her uncle murder him for his money... but he returns as a zombie, because his experiments involved raising the dead....\n",
      "    ----------------------------------------------------------------------------------------------------\n",
      "    \n",
      "\n",
      "    -- Recommended #13[47] ['Eat Me!'] --\n",
      "    Categories: ['\"Zombie Film\"']\n",
      "    Summary: A Brooklyn garage band, General Malacarne, survives a radioactive event and have to battle against zombies to what they believe is the safe haven of Long Island....\n",
      "    ----------------------------------------------------------------------------------------------------\n",
      "    \n",
      "\n",
      "    -- Recommended #14[3616] ['The Strawberry Statement'] --\n",
      "    Categories: ['\"Drama\",  \"Comedy-drama\",  \"Romance Film\",  \"Satire\",  \"Coming of age\"']\n",
      "    Summary: Simon , a student at a fictional university in San Francisco  is indifferent to the student protests around him, until walking in on a naked woman  in his dormitory roommate's bed. While she quickly runs over to the toilets to dress, Simon protests to his roommate that their time should only be devoted to studying, so they can get good jobs and lots of money. Coming back clothed, the woman refuses...\n",
      "    ----------------------------------------------------------------------------------------------------\n",
      "    \n",
      "\n",
      "    -- Recommended #15[2131] ['The Saint'] --\n",
      "    Categories: ['\"Thriller\",  \"Crime Fiction\",  \"Action\",  \"Action/Adventure\",  \"Spy\"']\n",
      "    Summary: At the Saint Ignatius Orphanage, a rebellious boy named John Rossi refers to himself as \"Simon Templar\" and leads a group of fellow orphans as they attempt to run away to escape their harsh treatment. When Simon is caught by the head priest, he witnesses the tragic death of a girl he had taken a liking to when she accidentally falls from a balcony. As an adult, Simon —now a professional thief dubb...\n",
      "    ----------------------------------------------------------------------------------------------------\n",
      "    \n"
     ]
    }
   ],
   "source": [
    "vectorizer = TfidfVectorizer(max_df=0.4, min_df=10, tokenizer=tokenize, strip_accents=ascii)\n",
    "corpus_tf_idf = vectorizer.fit_transform(corpus)\n",
    "print('Better Vectorizer Shape: ', corpus_tf_idf.shape)\n",
    "\n",
    "report_recommendations(1753, 15)"
   ]
  },
  {
   "cell_type": "markdown",
   "metadata": {},
   "source": [
    "    Ήδη από την 9η ταινία η default υλοποίηση του Vectorizer αρχίζει να ξεφεύγει απο το context της target_movie."
   ]
  },
  {
   "cell_type": "markdown",
   "metadata": {},
   "source": [
    "Ως πρώτη απόπειρα θα προσπαθήσουμε να εισάγωγουμε μαζί με μονό **tokens**, και ορισμένα _n-grams_, ώστε λέξεις που βρίσκονται κοντά στο κείμενο και χαρακτηρίζονται από κοινό σημασιολογικό περιέχομενο να αποτελούν και αυτές πλέον features. Το πρόβλημα με της χρήση των _ngrams_ είναι ότι μεγαλώνουν αρκέτα το `corpus_tf_idf`, χωρίς πάντα να έχουν δραματικά αποτελέσματα."
   ]
  },
  {
   "cell_type": "code",
   "execution_count": 18,
   "metadata": {},
   "outputs": [],
   "source": [
    "vectorizer = TfidfVectorizer(max_df=0.4, min_df=10, ngram_range=(1,3), tokenizer=tokenize, strip_accents=ascii)\n",
    "corpus_tf_idf = vectorizer.fit_transform(corpus)"
   ]
  },
  {
   "cell_type": "code",
   "execution_count": 19,
   "metadata": {
    "scrolled": true
   },
   "outputs": [
    {
     "name": "stdout",
     "output_type": "stream",
     "text": [
      "\n",
      "    -- Target Movie[1753] ['House of the Dead'] --\n",
      "    Categories: ['\"Thriller\",  \"Horror\",  \"World cinema\",  \"Action/Adventure\",  \"Zombie Film\",  \"Action\",  \"Teen\"']\n",
      "    Summary: The film begins with Simon  and Greg  planning to take a boat to an island rave party. They meet up with Alicia , Karma  and Cynthia . Karma has a crush on Simon, Simon has a crush on Alicia and Cynthia is Greg's girlfriend. When they arrive at the dock, they find the boat to take them to the island has already left. They hitch a ride instead with Victor Kirk  and his first mate Salish . A cop nam...\n",
      "    ----------------------------------------------------------------------------------------------------\n",
      "    \n",
      "\n",
      "    -- Recommended #1[2806] ['Hatchet II'] --\n",
      "    Categories: ['\"Thriller\",  \"Horror\",  \"Cult\",  \"Comedy\",  \"Black comedy\",  \"Action\",  \"Slasher\"']\n",
      "    Summary: Picking up immediately where the first film ended, Marybeth  is attacked by Victor Crowley , but manages to escape. Jack Cracker  finds her, pulls her out of the river, and takes her back to his cabin. After finding out her last name, he forces her to leave, telling her that if she wants help, she needs to see Reverend Zombie . Moments after she leaves Jack is killed by Victor Crowley who severs h...\n",
      "    ----------------------------------------------------------------------------------------------------\n",
      "    \n",
      "\n",
      "    -- Recommended #2[2812] ['Alien Dead'] --\n",
      "    Categories: ['\"Zombie Film\",  \"Science Fiction\",  \"Horror\"']\n",
      "    Summary: A meteor strikes a houseboat in the swamps near a southern town, causing the people on the houseboat to become zombies. The zombies feed on the alligators in the swamp and when they run out of alligators, they start going for the citizens. When the people start to disappear, a local scientist tries to figure out what's happening and how to stop the zombies from killing more people....\n",
      "    ----------------------------------------------------------------------------------------------------\n",
      "    \n",
      "\n",
      "    -- Recommended #3[3060] ['Hell of the Living Dead'] --\n",
      "    Categories: ['\"Zombie Film\",  \"Science Fiction\",  \"Horror\",  \"World cinema\"']\n",
      "    Summary: The film opens at a top secret chemical research facility called Hope Center #1 where a chemical leak in one of the modules at the facility turns the entire staff into flesh-eating zombies. The movie then shifts to an unnamed European country with a four-man team of commandos led by Lt. Mike London  being deployed to eliminate a group of terrorists who have taken hostages inside a large building. ...\n",
      "    ----------------------------------------------------------------------------------------------------\n",
      "    \n",
      "\n",
      "    -- Recommended #4[742] ['Vengeance of the Zombies'] --\n",
      "    Categories: ['\"Zombie Film\",  \"Drama\",  \"Horror\",  \"Creature Film\",  \"World cinema\"']\n",
      "    Summary: In this zombie horror film, a mysterious man rampages throughout England killing unsuspecting women. Each time a victim is murdered, they are brought back to life by an East Indian named Kantaka  to join his army of zombies....\n",
      "    ----------------------------------------------------------------------------------------------------\n",
      "    \n",
      "\n",
      "    -- Recommended #5[4265] ['First Platoon'] --\n",
      "    Categories: ['\"Comedy film\",  \"Horror\"']\n",
      "    Summary: First Platoon centers around Rock Brannigan ([[Scott Gibson  and his ragtag squad of ex-military zombie hunters trying to make a living in the desert Southwest two years after the zombie apocalypse. Along the way they encounter the grizzled Pa Jericho , and the eccentric Rex Necro ....\n",
      "    ----------------------------------------------------------------------------------------------------\n",
      "    \n",
      "\n",
      "    -- Recommended #6[2295] ['Meet the Parents'] --\n",
      "    Categories: ['\"Romantic comedy\",  \"Romance Film\",  \"Screwball comedy\",  \"Comedy\"']\n",
      "    Summary: Gaylord \"Greg\" Focker  is a nurse living in Chicago. He intends to propose to his girlfriend Pam Byrnes , but his plan is disrupted when he learns that Pam's sister's fiance had asked Pam's father for permission before proposing. Greg and Pam travel to Pam's parents' house to attend Pam's sister's wedding. Greg hopes to propose to Pam in front of her family after receiving her father's permission....\n",
      "    ----------------------------------------------------------------------------------------------------\n",
      "    \n",
      "\n",
      "    -- Recommended #7[1491] ['Night of the Living Dead'] --\n",
      "    Categories: ['\"Horror\",  \"Indie\",  \"Doomsday film\",  \"Black-and-white\",  \"Cult\",  \"Mystery\",  \"Splatter film\",  \"Zombie Film\"']\n",
      "    Summary: The story begins with the siblings Barbra  and Johnny  driving to rural Pennsylvania to visit their father's grave. In the graveyard Johnny teases Barbra that \"They're coming to get you, Barbra\" and then they are violently attacked by a strange man . Johnny tries to rescue his sister, but is killed after he falls and cracks his head on a gravestone. Barbra flees with the zombie in pursuit to a far...\n",
      "    ----------------------------------------------------------------------------------------------------\n",
      "    \n",
      "\n",
      "    -- Recommended #8[2526] ['The Incredibly Strange Creatures Who Stopped Living and Became Mixed-Up Zombies'] --\n",
      "    Categories: ['\"Parody\",  \"Zombie Film\",  \"Musical\",  \"Horror\"']\n",
      "    Summary: Jerry , his girlfriend Angela , and his buddy Harold  head out for a day at the carnival. In one venue, a dance number is performed by Marge , an alcoholic who drinks before and between shows, and her partner, Bill Ward, for a small audience. There Jerry sees stripper Carmelita  who hypnotizes him with her icy stare and he is compelled to see her act. Carmelita is the young sister of powerful fort...\n",
      "    ----------------------------------------------------------------------------------------------------\n",
      "    \n",
      "\n",
      "    -- Recommended #9[605] ['Plane Dead'] --\n",
      "    Categories: ['\"Zombie Film\",  \"Black comedy\",  \"Action\",  \"Horror\"']\n",
      "    Summary: On a routine flight from Los Angeles to Paris, a renegade group of scientists has smuggled aboard a secret container holding a fellow scientist infected with a deadly genetically engineered virus which reanimates the dead. The virus is a variant of the malaria virus created by three scientists. They discovered and manufactured the virus with the intent of turning it into a biological weapon. Their...\n",
      "    ----------------------------------------------------------------------------------------------------\n",
      "    \n",
      "\n",
      "    -- Recommended #10[2689] ['Killing Birds'] --\n",
      "    Categories: ['\"Zombie Film\",  \"Natural horror films\",  \"Horror\",  \"World cinema\"']\n",
      "    Summary: Fred Brown, a soldier, returns to Louisiana from the Vietnam war to find his wife  in bed with another man, and kills them both and his parents , only sparing his son. While he is cleaning his knife, a falcon attacks him and tears out his left eye and blinds him in the other. He ends up at a hospital where he says goodbye to the child before he is taken into foster care. Twenty years later, a smal...\n",
      "    ----------------------------------------------------------------------------------------------------\n",
      "    \n",
      "\n",
      "    -- Recommended #11[3576] ['The Ward'] --\n",
      "    Categories: ['\"Thriller\",  \"Psychological thriller\",  \"Horror\",  \"Haunted House Film\",  \"Supernatural\"']\n",
      "    Summary: At the North Bend Psychiatric Hospital in 1966, a young patient named Tammy is attacked and killed by an unseen force during the night. Kristen , a troubled young woman sets fire to an abandoned farmhouse. The local police take her to the psychiatric hospital. She is taken to the ward where she meets other patients: Iris , Sarah , Emily , and Zoey , and is given Tammy's old room. She meets Dr. Str...\n",
      "    ----------------------------------------------------------------------------------------------------\n",
      "    \n",
      "\n",
      "    -- Recommended #12[3616] ['The Strawberry Statement'] --\n",
      "    Categories: ['\"Drama\",  \"Comedy-drama\",  \"Romance Film\",  \"Satire\",  \"Coming of age\"']\n",
      "    Summary: Simon , a student at a fictional university in San Francisco  is indifferent to the student protests around him, until walking in on a naked woman  in his dormitory roommate's bed. While she quickly runs over to the toilets to dress, Simon protests to his roommate that their time should only be devoted to studying, so they can get good jobs and lots of money. Coming back clothed, the woman refuses...\n",
      "    ----------------------------------------------------------------------------------------------------\n",
      "    \n",
      "\n",
      "    -- Recommended #13[47] ['Eat Me!'] --\n",
      "    Categories: ['\"Zombie Film\"']\n",
      "    Summary: A Brooklyn garage band, General Malacarne, survives a radioactive event and have to battle against zombies to what they believe is the safe haven of Long Island....\n",
      "    ----------------------------------------------------------------------------------------------------\n",
      "    \n",
      "\n",
      "    -- Recommended #14[1911] ['Do Gaz Zameen Ke Neeche'] --\n",
      "    Categories: ['\"Horror\"']\n",
      "    Summary: A rich young scientist rescues a woman and marries her, only to have her and her uncle murder him for his money... but he returns as a zombie, because his experiments involved raising the dead....\n",
      "    ----------------------------------------------------------------------------------------------------\n",
      "    \n",
      "\n",
      "    -- Recommended #15[2131] ['The Saint'] --\n",
      "    Categories: ['\"Thriller\",  \"Crime Fiction\",  \"Action\",  \"Action/Adventure\",  \"Spy\"']\n",
      "    Summary: At the Saint Ignatius Orphanage, a rebellious boy named John Rossi refers to himself as \"Simon Templar\" and leads a group of fellow orphans as they attempt to run away to escape their harsh treatment. When Simon is caught by the head priest, he witnesses the tragic death of a girl he had taken a liking to when she accidentally falls from a balcony. As an adult, Simon —now a professional thief dubb...\n",
      "    ----------------------------------------------------------------------------------------------------\n",
      "    \n"
     ]
    }
   ],
   "source": [
    "report_recommendations(1753, 15)"
   ]
  },
  {
   "cell_type": "markdown",
   "metadata": {},
   "source": [
    "      Τα αποτελέσματα δεν είναι ιδιαίτερα ικανοποιητικά καθώς φαίνεται οι προτάσεις που μας επιστρέφει να μην διαφέρουν κατά πολύ με αυτές του αρχικού παρόλο που καταλήξαμε με σχεδόν 25% μεγαλύτερο μέγεθος πίνακα. "
   ]
  },
  {
   "cell_type": "markdown",
   "metadata": {},
   "source": [
    "Στα παρακάτω κελιά θα προσπαθήσομυε να τροποποιήσουμε τις παραμέτρους του `TfidfVectorizer`, ώστε να καταφέρουμε να πετύχουμε ακριβέστερα αποτελέσματα και ενδεχομένως μικρότερο μέγεθος στον τελικό πίνακα. Θα ξεκινήσουμε κανονικοποιώντας τα διανύσματα και θα προσθέσουμε έπειτα θα εφαρμόσουμε _sublinear tf scaling_."
   ]
  },
  {
   "cell_type": "code",
   "execution_count": 20,
   "metadata": {},
   "outputs": [
    {
     "name": "stdout",
     "output_type": "stream",
     "text": [
      "(5000, 3748)\n"
     ]
    }
   ],
   "source": [
    "vectorizer = TfidfVectorizer(max_df=0.4, min_df=20, tokenizer=tokenize, strip_accents=ascii, norm='l1')\n",
    "corpus_tf_idf = vectorizer.fit_transform(corpus)\n",
    "print(corpus_tf_idf.shape)"
   ]
  },
  {
   "cell_type": "code",
   "execution_count": 21,
   "metadata": {},
   "outputs": [
    {
     "name": "stdout",
     "output_type": "stream",
     "text": [
      "\n",
      "    -- Target Movie[1753] ['House of the Dead'] --\n",
      "    Categories: ['\"Thriller\",  \"Horror\",  \"World cinema\",  \"Action/Adventure\",  \"Zombie Film\",  \"Action\",  \"Teen\"']\n",
      "    Summary: The film begins with Simon  and Greg  planning to take a boat to an island rave party. They meet up with Alicia , Karma  and Cynthia . Karma has a crush on Simon, Simon has a crush on Alicia and Cynthia is Greg's girlfriend. When they arrive at the dock, they find the boat to take them to the island has already left. They hitch a ride instead with Victor Kirk  and his first mate Salish . A cop nam...\n",
      "    ----------------------------------------------------------------------------------------------------\n",
      "    \n",
      "\n",
      "    -- Recommended #1[2812] ['Alien Dead'] --\n",
      "    Categories: ['\"Zombie Film\",  \"Science Fiction\",  \"Horror\"']\n",
      "    Summary: A meteor strikes a houseboat in the swamps near a southern town, causing the people on the houseboat to become zombies. The zombies feed on the alligators in the swamp and when they run out of alligators, they start going for the citizens. When the people start to disappear, a local scientist tries to figure out what's happening and how to stop the zombies from killing more people....\n",
      "    ----------------------------------------------------------------------------------------------------\n",
      "    \n",
      "\n",
      "    -- Recommended #2[2806] ['Hatchet II'] --\n",
      "    Categories: ['\"Thriller\",  \"Horror\",  \"Cult\",  \"Comedy\",  \"Black comedy\",  \"Action\",  \"Slasher\"']\n",
      "    Summary: Picking up immediately where the first film ended, Marybeth  is attacked by Victor Crowley , but manages to escape. Jack Cracker  finds her, pulls her out of the river, and takes her back to his cabin. After finding out her last name, he forces her to leave, telling her that if she wants help, she needs to see Reverend Zombie . Moments after she leaves Jack is killed by Victor Crowley who severs h...\n",
      "    ----------------------------------------------------------------------------------------------------\n",
      "    \n",
      "\n",
      "    -- Recommended #3[4265] ['First Platoon'] --\n",
      "    Categories: ['\"Comedy film\",  \"Horror\"']\n",
      "    Summary: First Platoon centers around Rock Brannigan ([[Scott Gibson  and his ragtag squad of ex-military zombie hunters trying to make a living in the desert Southwest two years after the zombie apocalypse. Along the way they encounter the grizzled Pa Jericho , and the eccentric Rex Necro ....\n",
      "    ----------------------------------------------------------------------------------------------------\n",
      "    \n",
      "\n",
      "    -- Recommended #4[3060] ['Hell of the Living Dead'] --\n",
      "    Categories: ['\"Zombie Film\",  \"Science Fiction\",  \"Horror\",  \"World cinema\"']\n",
      "    Summary: The film opens at a top secret chemical research facility called Hope Center #1 where a chemical leak in one of the modules at the facility turns the entire staff into flesh-eating zombies. The movie then shifts to an unnamed European country with a four-man team of commandos led by Lt. Mike London  being deployed to eliminate a group of terrorists who have taken hostages inside a large building. ...\n",
      "    ----------------------------------------------------------------------------------------------------\n",
      "    \n",
      "\n",
      "    -- Recommended #5[742] ['Vengeance of the Zombies'] --\n",
      "    Categories: ['\"Zombie Film\",  \"Drama\",  \"Horror\",  \"Creature Film\",  \"World cinema\"']\n",
      "    Summary: In this zombie horror film, a mysterious man rampages throughout England killing unsuspecting women. Each time a victim is murdered, they are brought back to life by an East Indian named Kantaka  to join his army of zombies....\n",
      "    ----------------------------------------------------------------------------------------------------\n",
      "    \n",
      "\n",
      "    -- Recommended #6[3576] ['The Ward'] --\n",
      "    Categories: ['\"Thriller\",  \"Psychological thriller\",  \"Horror\",  \"Haunted House Film\",  \"Supernatural\"']\n",
      "    Summary: At the North Bend Psychiatric Hospital in 1966, a young patient named Tammy is attacked and killed by an unseen force during the night. Kristen , a troubled young woman sets fire to an abandoned farmhouse. The local police take her to the psychiatric hospital. She is taken to the ward where she meets other patients: Iris , Sarah , Emily , and Zoey , and is given Tammy's old room. She meets Dr. Str...\n",
      "    ----------------------------------------------------------------------------------------------------\n",
      "    \n",
      "\n",
      "    -- Recommended #7[2526] ['The Incredibly Strange Creatures Who Stopped Living and Became Mixed-Up Zombies'] --\n",
      "    Categories: ['\"Parody\",  \"Zombie Film\",  \"Musical\",  \"Horror\"']\n",
      "    Summary: Jerry , his girlfriend Angela , and his buddy Harold  head out for a day at the carnival. In one venue, a dance number is performed by Marge , an alcoholic who drinks before and between shows, and her partner, Bill Ward, for a small audience. There Jerry sees stripper Carmelita  who hypnotizes him with her icy stare and he is compelled to see her act. Carmelita is the young sister of powerful fort...\n",
      "    ----------------------------------------------------------------------------------------------------\n",
      "    \n",
      "\n",
      "    -- Recommended #8[1491] ['Night of the Living Dead'] --\n",
      "    Categories: ['\"Horror\",  \"Indie\",  \"Doomsday film\",  \"Black-and-white\",  \"Cult\",  \"Mystery\",  \"Splatter film\",  \"Zombie Film\"']\n",
      "    Summary: The story begins with the siblings Barbra  and Johnny  driving to rural Pennsylvania to visit their father's grave. In the graveyard Johnny teases Barbra that \"They're coming to get you, Barbra\" and then they are violently attacked by a strange man . Johnny tries to rescue his sister, but is killed after he falls and cracks his head on a gravestone. Barbra flees with the zombie in pursuit to a far...\n",
      "    ----------------------------------------------------------------------------------------------------\n",
      "    \n",
      "\n",
      "    -- Recommended #9[605] ['Plane Dead'] --\n",
      "    Categories: ['\"Zombie Film\",  \"Black comedy\",  \"Action\",  \"Horror\"']\n",
      "    Summary: On a routine flight from Los Angeles to Paris, a renegade group of scientists has smuggled aboard a secret container holding a fellow scientist infected with a deadly genetically engineered virus which reanimates the dead. The virus is a variant of the malaria virus created by three scientists. They discovered and manufactured the virus with the intent of turning it into a biological weapon. Their...\n",
      "    ----------------------------------------------------------------------------------------------------\n",
      "    \n",
      "\n",
      "    -- Recommended #10[2689] ['Killing Birds'] --\n",
      "    Categories: ['\"Zombie Film\",  \"Natural horror films\",  \"Horror\",  \"World cinema\"']\n",
      "    Summary: Fred Brown, a soldier, returns to Louisiana from the Vietnam war to find his wife  in bed with another man, and kills them both and his parents , only sparing his son. While he is cleaning his knife, a falcon attacks him and tears out his left eye and blinds him in the other. He ends up at a hospital where he says goodbye to the child before he is taken into foster care. Twenty years later, a smal...\n",
      "    ----------------------------------------------------------------------------------------------------\n",
      "    \n"
     ]
    }
   ],
   "source": [
    "report_recommendations(1753, 10)"
   ]
  },
  {
   "cell_type": "code",
   "execution_count": 22,
   "metadata": {},
   "outputs": [
    {
     "name": "stdout",
     "output_type": "stream",
     "text": [
      "(5000, 3748)\n"
     ]
    }
   ],
   "source": [
    "vectorizer = TfidfVectorizer(max_df=0.4, min_df=20, tokenizer=tokenize, strip_accents=ascii, norm='l2')\n",
    "corpus_tf_idf = vectorizer.fit_transform(corpus)\n",
    "print(corpus_tf_idf.shape)"
   ]
  },
  {
   "cell_type": "code",
   "execution_count": 23,
   "metadata": {},
   "outputs": [
    {
     "name": "stdout",
     "output_type": "stream",
     "text": [
      "\n",
      "    -- Target Movie[1753] ['House of the Dead'] --\n",
      "    Categories: ['\"Thriller\",  \"Horror\",  \"World cinema\",  \"Action/Adventure\",  \"Zombie Film\",  \"Action\",  \"Teen\"']\n",
      "    Summary: The film begins with Simon  and Greg  planning to take a boat to an island rave party. They meet up with Alicia , Karma  and Cynthia . Karma has a crush on Simon, Simon has a crush on Alicia and Cynthia is Greg's girlfriend. When they arrive at the dock, they find the boat to take them to the island has already left. They hitch a ride instead with Victor Kirk  and his first mate Salish . A cop nam...\n",
      "    ----------------------------------------------------------------------------------------------------\n",
      "    \n",
      "\n",
      "    -- Recommended #1[2812] ['Alien Dead'] --\n",
      "    Categories: ['\"Zombie Film\",  \"Science Fiction\",  \"Horror\"']\n",
      "    Summary: A meteor strikes a houseboat in the swamps near a southern town, causing the people on the houseboat to become zombies. The zombies feed on the alligators in the swamp and when they run out of alligators, they start going for the citizens. When the people start to disappear, a local scientist tries to figure out what's happening and how to stop the zombies from killing more people....\n",
      "    ----------------------------------------------------------------------------------------------------\n",
      "    \n",
      "\n",
      "    -- Recommended #2[2806] ['Hatchet II'] --\n",
      "    Categories: ['\"Thriller\",  \"Horror\",  \"Cult\",  \"Comedy\",  \"Black comedy\",  \"Action\",  \"Slasher\"']\n",
      "    Summary: Picking up immediately where the first film ended, Marybeth  is attacked by Victor Crowley , but manages to escape. Jack Cracker  finds her, pulls her out of the river, and takes her back to his cabin. After finding out her last name, he forces her to leave, telling her that if she wants help, she needs to see Reverend Zombie . Moments after she leaves Jack is killed by Victor Crowley who severs h...\n",
      "    ----------------------------------------------------------------------------------------------------\n",
      "    \n",
      "\n",
      "    -- Recommended #3[4265] ['First Platoon'] --\n",
      "    Categories: ['\"Comedy film\",  \"Horror\"']\n",
      "    Summary: First Platoon centers around Rock Brannigan ([[Scott Gibson  and his ragtag squad of ex-military zombie hunters trying to make a living in the desert Southwest two years after the zombie apocalypse. Along the way they encounter the grizzled Pa Jericho , and the eccentric Rex Necro ....\n",
      "    ----------------------------------------------------------------------------------------------------\n",
      "    \n",
      "\n",
      "    -- Recommended #4[3060] ['Hell of the Living Dead'] --\n",
      "    Categories: ['\"Zombie Film\",  \"Science Fiction\",  \"Horror\",  \"World cinema\"']\n",
      "    Summary: The film opens at a top secret chemical research facility called Hope Center #1 where a chemical leak in one of the modules at the facility turns the entire staff into flesh-eating zombies. The movie then shifts to an unnamed European country with a four-man team of commandos led by Lt. Mike London  being deployed to eliminate a group of terrorists who have taken hostages inside a large building. ...\n",
      "    ----------------------------------------------------------------------------------------------------\n",
      "    \n",
      "\n",
      "    -- Recommended #5[742] ['Vengeance of the Zombies'] --\n",
      "    Categories: ['\"Zombie Film\",  \"Drama\",  \"Horror\",  \"Creature Film\",  \"World cinema\"']\n",
      "    Summary: In this zombie horror film, a mysterious man rampages throughout England killing unsuspecting women. Each time a victim is murdered, they are brought back to life by an East Indian named Kantaka  to join his army of zombies....\n",
      "    ----------------------------------------------------------------------------------------------------\n",
      "    \n",
      "\n",
      "    -- Recommended #6[3576] ['The Ward'] --\n",
      "    Categories: ['\"Thriller\",  \"Psychological thriller\",  \"Horror\",  \"Haunted House Film\",  \"Supernatural\"']\n",
      "    Summary: At the North Bend Psychiatric Hospital in 1966, a young patient named Tammy is attacked and killed by an unseen force during the night. Kristen , a troubled young woman sets fire to an abandoned farmhouse. The local police take her to the psychiatric hospital. She is taken to the ward where she meets other patients: Iris , Sarah , Emily , and Zoey , and is given Tammy's old room. She meets Dr. Str...\n",
      "    ----------------------------------------------------------------------------------------------------\n",
      "    \n",
      "\n",
      "    -- Recommended #7[2526] ['The Incredibly Strange Creatures Who Stopped Living and Became Mixed-Up Zombies'] --\n",
      "    Categories: ['\"Parody\",  \"Zombie Film\",  \"Musical\",  \"Horror\"']\n",
      "    Summary: Jerry , his girlfriend Angela , and his buddy Harold  head out for a day at the carnival. In one venue, a dance number is performed by Marge , an alcoholic who drinks before and between shows, and her partner, Bill Ward, for a small audience. There Jerry sees stripper Carmelita  who hypnotizes him with her icy stare and he is compelled to see her act. Carmelita is the young sister of powerful fort...\n",
      "    ----------------------------------------------------------------------------------------------------\n",
      "    \n",
      "\n",
      "    -- Recommended #8[1491] ['Night of the Living Dead'] --\n",
      "    Categories: ['\"Horror\",  \"Indie\",  \"Doomsday film\",  \"Black-and-white\",  \"Cult\",  \"Mystery\",  \"Splatter film\",  \"Zombie Film\"']\n",
      "    Summary: The story begins with the siblings Barbra  and Johnny  driving to rural Pennsylvania to visit their father's grave. In the graveyard Johnny teases Barbra that \"They're coming to get you, Barbra\" and then they are violently attacked by a strange man . Johnny tries to rescue his sister, but is killed after he falls and cracks his head on a gravestone. Barbra flees with the zombie in pursuit to a far...\n",
      "    ----------------------------------------------------------------------------------------------------\n",
      "    \n",
      "\n",
      "    -- Recommended #9[605] ['Plane Dead'] --\n",
      "    Categories: ['\"Zombie Film\",  \"Black comedy\",  \"Action\",  \"Horror\"']\n",
      "    Summary: On a routine flight from Los Angeles to Paris, a renegade group of scientists has smuggled aboard a secret container holding a fellow scientist infected with a deadly genetically engineered virus which reanimates the dead. The virus is a variant of the malaria virus created by three scientists. They discovered and manufactured the virus with the intent of turning it into a biological weapon. Their...\n",
      "    ----------------------------------------------------------------------------------------------------\n",
      "    \n",
      "\n",
      "    -- Recommended #10[2689] ['Killing Birds'] --\n",
      "    Categories: ['\"Zombie Film\",  \"Natural horror films\",  \"Horror\",  \"World cinema\"']\n",
      "    Summary: Fred Brown, a soldier, returns to Louisiana from the Vietnam war to find his wife  in bed with another man, and kills them both and his parents , only sparing his son. While he is cleaning his knife, a falcon attacks him and tears out his left eye and blinds him in the other. He ends up at a hospital where he says goodbye to the child before he is taken into foster care. Twenty years later, a smal...\n",
      "    ----------------------------------------------------------------------------------------------------\n",
      "    \n"
     ]
    }
   ],
   "source": [
    "report_recommendations(1753, 10)"
   ]
  },
  {
   "cell_type": "markdown",
   "metadata": {},
   "source": [
    "    Ούτε η κανονικοποίηση των διανυσμάτων φάνηκε να έχει κάποια ιδιαίτερη επίδραση στα αποτελέσματα. Θα προχωρήσουμε με την εφα-ρμογή του sublinear scaling."
   ]
  },
  {
   "cell_type": "code",
   "execution_count": 24,
   "metadata": {},
   "outputs": [
    {
     "name": "stdout",
     "output_type": "stream",
     "text": [
      "(5000, 3748)\n"
     ]
    }
   ],
   "source": [
    "vectorizer = TfidfVectorizer(max_df=0.4, min_df=20, tokenizer=tokenize, strip_accents=ascii, norm='l2', sublinear_tf=False)\n",
    "corpus_tf_idf = vectorizer.fit_transform(corpus)\n",
    "print(corpus_tf_idf.shape)"
   ]
  },
  {
   "cell_type": "code",
   "execution_count": 25,
   "metadata": {},
   "outputs": [
    {
     "name": "stdout",
     "output_type": "stream",
     "text": [
      "\n",
      "    -- Target Movie[1753] ['House of the Dead'] --\n",
      "    Categories: ['\"Thriller\",  \"Horror\",  \"World cinema\",  \"Action/Adventure\",  \"Zombie Film\",  \"Action\",  \"Teen\"']\n",
      "    Summary: The film begins with Simon  and Greg  planning to take a boat to an island rave party. They meet up with Alicia , Karma  and Cynthia . Karma has a crush on Simon, Simon has a crush on Alicia and Cynthia is Greg's girlfriend. When they arrive at the dock, they find the boat to take them to the island has already left. They hitch a ride instead with Victor Kirk  and his first mate Salish . A cop nam...\n",
      "    ----------------------------------------------------------------------------------------------------\n",
      "    \n",
      "\n",
      "    -- Recommended #1[2812] ['Alien Dead'] --\n",
      "    Categories: ['\"Zombie Film\",  \"Science Fiction\",  \"Horror\"']\n",
      "    Summary: A meteor strikes a houseboat in the swamps near a southern town, causing the people on the houseboat to become zombies. The zombies feed on the alligators in the swamp and when they run out of alligators, they start going for the citizens. When the people start to disappear, a local scientist tries to figure out what's happening and how to stop the zombies from killing more people....\n",
      "    ----------------------------------------------------------------------------------------------------\n",
      "    \n",
      "\n",
      "    -- Recommended #2[2806] ['Hatchet II'] --\n",
      "    Categories: ['\"Thriller\",  \"Horror\",  \"Cult\",  \"Comedy\",  \"Black comedy\",  \"Action\",  \"Slasher\"']\n",
      "    Summary: Picking up immediately where the first film ended, Marybeth  is attacked by Victor Crowley , but manages to escape. Jack Cracker  finds her, pulls her out of the river, and takes her back to his cabin. After finding out her last name, he forces her to leave, telling her that if she wants help, she needs to see Reverend Zombie . Moments after she leaves Jack is killed by Victor Crowley who severs h...\n",
      "    ----------------------------------------------------------------------------------------------------\n",
      "    \n",
      "\n",
      "    -- Recommended #3[4265] ['First Platoon'] --\n",
      "    Categories: ['\"Comedy film\",  \"Horror\"']\n",
      "    Summary: First Platoon centers around Rock Brannigan ([[Scott Gibson  and his ragtag squad of ex-military zombie hunters trying to make a living in the desert Southwest two years after the zombie apocalypse. Along the way they encounter the grizzled Pa Jericho , and the eccentric Rex Necro ....\n",
      "    ----------------------------------------------------------------------------------------------------\n",
      "    \n",
      "\n",
      "    -- Recommended #4[3060] ['Hell of the Living Dead'] --\n",
      "    Categories: ['\"Zombie Film\",  \"Science Fiction\",  \"Horror\",  \"World cinema\"']\n",
      "    Summary: The film opens at a top secret chemical research facility called Hope Center #1 where a chemical leak in one of the modules at the facility turns the entire staff into flesh-eating zombies. The movie then shifts to an unnamed European country with a four-man team of commandos led by Lt. Mike London  being deployed to eliminate a group of terrorists who have taken hostages inside a large building. ...\n",
      "    ----------------------------------------------------------------------------------------------------\n",
      "    \n",
      "\n",
      "    -- Recommended #5[742] ['Vengeance of the Zombies'] --\n",
      "    Categories: ['\"Zombie Film\",  \"Drama\",  \"Horror\",  \"Creature Film\",  \"World cinema\"']\n",
      "    Summary: In this zombie horror film, a mysterious man rampages throughout England killing unsuspecting women. Each time a victim is murdered, they are brought back to life by an East Indian named Kantaka  to join his army of zombies....\n",
      "    ----------------------------------------------------------------------------------------------------\n",
      "    \n",
      "\n",
      "    -- Recommended #6[3576] ['The Ward'] --\n",
      "    Categories: ['\"Thriller\",  \"Psychological thriller\",  \"Horror\",  \"Haunted House Film\",  \"Supernatural\"']\n",
      "    Summary: At the North Bend Psychiatric Hospital in 1966, a young patient named Tammy is attacked and killed by an unseen force during the night. Kristen , a troubled young woman sets fire to an abandoned farmhouse. The local police take her to the psychiatric hospital. She is taken to the ward where she meets other patients: Iris , Sarah , Emily , and Zoey , and is given Tammy's old room. She meets Dr. Str...\n",
      "    ----------------------------------------------------------------------------------------------------\n",
      "    \n",
      "\n",
      "    -- Recommended #7[2526] ['The Incredibly Strange Creatures Who Stopped Living and Became Mixed-Up Zombies'] --\n",
      "    Categories: ['\"Parody\",  \"Zombie Film\",  \"Musical\",  \"Horror\"']\n",
      "    Summary: Jerry , his girlfriend Angela , and his buddy Harold  head out for a day at the carnival. In one venue, a dance number is performed by Marge , an alcoholic who drinks before and between shows, and her partner, Bill Ward, for a small audience. There Jerry sees stripper Carmelita  who hypnotizes him with her icy stare and he is compelled to see her act. Carmelita is the young sister of powerful fort...\n",
      "    ----------------------------------------------------------------------------------------------------\n",
      "    \n",
      "\n",
      "    -- Recommended #8[1491] ['Night of the Living Dead'] --\n",
      "    Categories: ['\"Horror\",  \"Indie\",  \"Doomsday film\",  \"Black-and-white\",  \"Cult\",  \"Mystery\",  \"Splatter film\",  \"Zombie Film\"']\n",
      "    Summary: The story begins with the siblings Barbra  and Johnny  driving to rural Pennsylvania to visit their father's grave. In the graveyard Johnny teases Barbra that \"They're coming to get you, Barbra\" and then they are violently attacked by a strange man . Johnny tries to rescue his sister, but is killed after he falls and cracks his head on a gravestone. Barbra flees with the zombie in pursuit to a far...\n",
      "    ----------------------------------------------------------------------------------------------------\n",
      "    \n",
      "\n",
      "    -- Recommended #9[605] ['Plane Dead'] --\n",
      "    Categories: ['\"Zombie Film\",  \"Black comedy\",  \"Action\",  \"Horror\"']\n",
      "    Summary: On a routine flight from Los Angeles to Paris, a renegade group of scientists has smuggled aboard a secret container holding a fellow scientist infected with a deadly genetically engineered virus which reanimates the dead. The virus is a variant of the malaria virus created by three scientists. They discovered and manufactured the virus with the intent of turning it into a biological weapon. Their...\n",
      "    ----------------------------------------------------------------------------------------------------\n",
      "    \n",
      "\n",
      "    -- Recommended #10[2689] ['Killing Birds'] --\n",
      "    Categories: ['\"Zombie Film\",  \"Natural horror films\",  \"Horror\",  \"World cinema\"']\n",
      "    Summary: Fred Brown, a soldier, returns to Louisiana from the Vietnam war to find his wife  in bed with another man, and kills them both and his parents , only sparing his son. While he is cleaning his knife, a falcon attacks him and tears out his left eye and blinds him in the other. He ends up at a hospital where he says goodbye to the child before he is taken into foster care. Twenty years later, a smal...\n",
      "    ----------------------------------------------------------------------------------------------------\n",
      "    \n"
     ]
    }
   ],
   "source": [
    "report_recommendations(1753, 10)"
   ]
  },
  {
   "cell_type": "markdown",
   "metadata": {},
   "source": [
    "Αφού πλέον καμία τεχνική δεν βοήθησε στα αποτελέσματα θα προσπαθήσουμε με μια γρήγορη επισκόπηση των features να κρίνουμε αν υπάρχουν \"λέξεις\" που δεν προσθέρουν ιδιαίτερα στο επιτυχημένο αποτέλεσμα παρά μόνο να επιβαρύνουν τον τελικό μας πίνακα με επιπλέον μέγεθος."
   ]
  },
  {
   "cell_type": "code",
   "execution_count": 26,
   "metadata": {},
   "outputs": [
    {
     "name": "stdout",
     "output_type": "stream",
     "text": [
      "['abandon', 'abduct', 'abil', 'abl', 'aboard', 'abort', 'abroad', 'abruptli', 'absenc', 'abus', 'academi', 'accept', 'access', 'accid', 'accident', 'accompani', 'accomplic', 'accomplish', 'accord', 'account', 'accus', 'achiev', 'acid', 'acknowledg', 'acquaint', 'acquir', 'across', 'act', 'action', 'activ', 'actor', 'actress', 'actual', 'ad', 'adam', 'adapt', 'add', 'addict', 'addit', 'address', 'adjust', 'administr', 'admir', 'admit', 'adopt', 'ador', 'adult', 'advanc', 'advantag', 'adventur', 'advertis', 'advic', 'advis', 'affair', 'affect', 'afford', 'afraid', 'africa', 'african', 'aftermath', 'afternoon', 'afterward', 'age', 'agenc', 'agent', 'aggress', 'agit', 'ago', 'agre', 'agreement', 'ahead', 'aid', 'aim', 'air', 'aircraft', 'airlin', 'airplan', 'airport', 'al', 'alan', 'alarm', 'albert', 'alcohol', 'alert', 'alex', 'alexand', 'ali', 'alia', 'alibi', 'alic', 'alien', 'aliv', 'alleg', 'alley', 'alli', 'allianc', 'allow', 'almost', 'alon', 'along', 'alongsid', 'alreadi', 'also', 'alter', 'altern', 'although', 'alway', 'amateur', 'amaz', 'ambassador', 'ambigu', 'ambit', 'ambiti', 'ambul', 'ambush', 'amend', 'america', 'american', 'ami', 'amidst', 'ammunit', 'among', 'amongst', 'amount', 'amus', 'anchor', 'ancient', 'anderson', 'andi', 'andrew', 'angel', 'angela', 'anger', 'angri', 'angrili', 'anim', 'ann', 'anna', 'anni', 'anniversari', 'announc', 'annoy', 'annual', 'anonym', 'anoth', 'answer', 'anthoni', 'antic', 'anticip', 'antiqu', 'anxiou', 'anymor', 'anyon', 'anyth', 'anyway', 'apart', 'apolog', 'apologis', 'appar', 'appeal', 'appear', 'appl', 'appli', 'appoint', 'appreci', 'apprehend', 'approach', 'approv', 'april', 'arab', 'architect', 'area', 'argu', 'argument', 'aris', 'aristocrat', 'arizona', 'arm', 'armi', 'armor', 'around', 'arous', 'arrang', 'arrest', 'arriv', 'arrog', 'arrow', 'art', 'arthur', 'articl', 'artifici', 'artist', 'ash', 'asham', 'asian', 'asid', 'ask', 'asleep', 'aspect', 'aspir', 'assail', 'assassin', 'assault', 'assembl', 'assert', 'assign', 'assist', 'associ', 'assum', 'assur', 'astonish', 'asylum', 'athlet', 'atlant', 'atmospher', 'atom', 'attach', 'attack', 'attempt', 'attend', 'attent', 'attic', 'attitud', 'attorney', 'attract', 'audienc', 'audit', 'august', 'aunt', 'australia', 'australian', 'author', 'automat', 'avail', 'aveng', 'avoid', 'await', 'awak', 'awaken', 'awar', 'award', 'away', 'awkward', 'axe', 'babi', 'bachelor', 'back', 'backfir', 'background', 'backward', 'backyard', 'bad', 'badli', 'bag', 'bail', 'bait', 'balanc', 'balconi', 'ball', 'ballet', 'balloon', 'ban', 'band', 'bandit', 'banish', 'bank', 'banker', 'bankrupt', 'bar', 'barbara', 'bare', 'barg', 'bargain', 'barn', 'baron', 'barrel', 'barri', 'bartend', 'base', 'basebal', 'basement', 'basi', 'basic', 'basketbal', 'bat', 'bath', 'bathroom', 'battl', 'battlefield', 'bay', 'be', 'beach', 'beam', 'bear', 'beast', 'beat', 'beaten', 'beauti', 'becam', 'becom', 'bed', 'bedroom', 'beer', 'befriend', 'beg', 'began', 'begin', 'begun', 'behalf', 'behav', 'behavior', 'behaviour', 'behind', 'belief', 'believ', 'bell', 'belong', 'belov', 'belt', 'ben', 'beneath', 'benefit', 'berat', 'berlin', 'besid', 'best', 'bet', 'betray', 'better', 'betti', 'beyond', 'bicycl', 'bid', 'big', 'bigger', 'biggest', 'bike', 'bill', 'billi', 'biolog', 'bird', 'birth', 'birthday', 'bishop', 'bit', 'bite', 'bitten', 'bitter', 'bizarr', 'black', 'blackmail', 'blade', 'blame', 'blank', 'blast', 'bleed', 'bless', 'blind', 'bliss', 'block', 'blond', 'blood', 'bloodi', 'blossom', 'blow', 'blown', 'blue', 'board', 'boat', 'bob', 'bobbi', 'bodi', 'bodyguard', 'boil', 'bomb', 'bombay', 'bomber', 'bond', 'bone', 'book', 'boot', 'booth', 'border', 'bore', 'born', 'borrow', 'boss', 'boston', 'bother', 'bottl', 'bottom', 'bought', 'bounc', 'bound', 'bounti', 'bow', 'bowl', 'box', 'boxer', 'boy', 'boyfriend', 'brag', 'brain', 'branch', 'brand', 'brave', 'braveri', 'brawl', 'break', 'breakdown', 'breakfast', 'breast', 'breath', 'brian', 'bribe', 'bride', 'bridg', 'brief', 'briefcas', 'briefli', 'bright', 'brilliant', 'bring', 'britain', 'british', 'broadcast', 'broadway', 'broke', 'broken', 'brook', 'brooklyn', 'brothel', 'brother', 'brought', 'brown', 'bruce', 'brush', 'brutal', 'bu', 'bubbl', 'buck', 'bud', 'buddi', 'bug', 'build', 'built', 'bull', 'bullet', 'bulli', 'bumbl', 'bump', 'bunni', 'buri', 'burial', 'burn', 'burnt', 'burst', 'bush', 'busi', 'businessman', 'butler', 'button', 'buy', 'ca', 'cab', 'cabin', 'cabl', 'cafe', 'cage', 'california', 'call', 'calm', 'calmli', 'came', 'camera', 'camp', 'campaign', 'campu', 'canada', 'canadian', 'cancel', 'cancer', 'candid', 'cannon', 'capabl', 'cape', 'capit', 'captain', 'captiv', 'captur', 'car', 'card', 'care', 'career', 'carefre', 'cargo', 'carl', 'carlo', 'carniv', 'carol', 'carri', 'carriag', 'carrier', 'cart', 'carter', 'cartoon', 'carv', 'case', 'cash', 'casino', 'cast', 'castl', 'casual', 'cat', 'catch', 'cathol', 'cattl', 'caught', 'caus', 'cavalri', 'cave', 'ceil', 'celebr', 'cell', 'cellar', 'cemeteri', 'center', 'centr', 'central', 'centuri', 'ceremoni', 'certain', 'chagrin', 'chain', 'chair', 'challeng', 'chamber', 'champagn', 'champion', 'championship', 'chanc', 'chang', 'channel', 'chao', 'charact', 'charg', 'chariti', 'charl', 'charli', 'charm', 'chase', 'chat', 'cheap', 'cheat', 'check', 'cheer', 'chees', 'chef', 'chemic', 'chennai', 'chest', 'chicago', 'chicken', 'chief', 'child', 'childhood', 'children', 'china', 'chines', 'choic', 'choos', 'chop', 'chosen', 'chri', 'christian', 'christma', 'christoph', 'chuck', 'church', 'cia', 'cigarett', 'cinema', 'circl', 'circu', 'circumst', 'cite', 'citi', 'citizen', 'civil', 'civilian', 'claim', 'clair', 'clan', 'clark', 'clash', 'class', 'classic', 'classmat', 'clay', 'clean', 'clear', 'clearli', 'clerk', 'client', 'cliff', 'climax', 'climb', 'clinic', 'clip', 'clock', 'clone', 'close', 'closer', 'closest', 'closet', 'cloth', 'cloud', 'club', 'clue', 'clumsi', 'clutch', 'coach', 'coal', 'coast', 'coat', 'coax', 'cocain', 'code', 'coerc', 'coffe', 'coffin', 'coin', 'coincid', 'coincident', 'cold', 'collabor', 'collaps', 'colleagu', 'collect', 'collector', 'colleg', 'collid', 'colonel', 'coloni', 'color', 'coma', 'combat', 'combin', 'come', 'comedi', 'comfort', 'comic', 'command', 'comment', 'commerci', 'commiss', 'commission', 'commit', 'common', 'commot', 'commun', 'communist', 'compani', 'companion', 'compar', 'compass', 'compel', 'compens', 'compet', 'competit', 'complain', 'complaint', 'complet', 'complex', 'compli', 'complic', 'compos', 'compromis', 'comput', 'comrad', 'con', 'conceal', 'conceiv', 'concentr', 'concept', 'concern', 'concert', 'conclud', 'conclus', 'concoct', 'condemn', 'condit', 'conduct', 'confer', 'confess', 'confid', 'confin', 'confirm', 'conflict', 'confront', 'confus', 'congratul', 'connect', 'conquer', 'conscienc', 'conscious', 'consent', 'consequ', 'conserv', 'consid', 'consider', 'consist', 'consol', 'conspir', 'conspiraci', 'constant', 'constantli', 'construct', 'consult', 'consum', 'contact', 'contain', 'contempl', 'contemporari', 'contend', 'content', 'contest', 'continu', 'contract', 'contrast', 'contribut', 'control', 'conveni', 'convent', 'convers', 'convert', 'convict', 'convinc', 'cook', 'cool', 'cooper', 'cop', 'cope', 'copi', 'corner', 'corpor', 'corps', 'correct', 'correspond', 'corrupt', 'cost', 'costum', 'cottag', 'could', 'council', 'counsel', 'counselor', 'count', 'counter', 'counti', 'countri', 'countrysid', 'coupl', 'courag', 'cours', 'court', 'cousin', 'cover', 'cowardli', 'cowboy', 'crack', 'craft', 'crash', 'crawl', 'crazi', 'cream', 'creat', 'creation', 'creativ', 'creatur', 'credit', 'crew', 'cri', 'crime', 'crimin', 'crippl', 'crisi', 'critic', 'crook', 'crop', 'cross', 'crow', 'crowd', 'crown', 'crucial', 'cruel', 'cruis', 'crumbl', 'crush', 'crystal', 'culmin', 'culprit', 'cultur', 'cup', 'cure', 'curios', 'curiou', 'current', 'curs', 'custodi', 'custom', 'cut', 'cycl', 'cynic', 'dad', 'daili', 'damag', 'dan', 'danc', 'dancer', 'danger', 'daniel', 'danni', 'dare', 'dark', 'dash', 'data', 'date', 'daughter', 'dave', 'davi', 'david', 'dawn', 'day', 'de', 'dead', 'deadli', 'deaf', 'deal', 'dealer', 'dean', 'death', 'debat', 'debt', 'debut', 'decad', 'decapit', 'deceas', 'deceiv', 'decemb', 'decept', 'decid', 'decis', 'deck', 'declar', 'declin', 'decor', 'dedic', 'deduc', 'deed', 'deep', 'deeper', 'deepli', 'defeat', 'defect', 'defend', 'defens', 'defi', 'deform', 'degre', 'delay', 'deliber', 'delight', 'deliv', 'deliveri', 'demand', 'demis', 'demolish', 'demon', 'demonstr', 'deni', 'denni', 'depart', 'departur', 'depend', 'depict', 'deposit', 'depress', 'deputi', 'descend', 'describ', 'desert', 'design', 'desir', 'desk', 'despair', 'desper', 'despis', 'despit', 'despond', 'destin', 'destini', 'destroy', 'destruct', 'detach', 'detail', 'detect', 'deterior', 'determin', 'deton', 'devast', 'develop', 'devic', 'devil', 'devis', 'devot', 'devour', 'diagnos', 'dialogu', 'diamond', 'diari', 'dick', 'die', 'differ', 'difficult', 'difficulti', 'dig', 'dilemma', 'dine', 'diner', 'dinner', 'direct', 'directli', 'director', 'dirt', 'dirti', 'disabl', 'disagre', 'disappear', 'disappoint', 'disapprov', 'disarm', 'disast', 'discharg', 'disclos', 'discov', 'discoveri', 'discuss', 'diseas', 'disfigur', 'disgrac', 'disguis', 'disgust', 'disillus', 'disintegr', 'dislik', 'dismay', 'dismiss', 'disobey', 'disord', 'dispatch', 'display', 'dispos', 'disput', 'disrupt', 'dissolv', 'distanc', 'distant', 'distract', 'distraught', 'distress', 'distribut', 'district', 'disturb', 'ditch', 'dive', 'divid', 'divis', 'divorc', 'dock', 'doctor', 'document', 'documentari', 'dodg', 'dog', 'doll', 'dollar', 'domest', 'domin', 'don', 'donald', 'donat', 'done', 'doom', 'door', 'doubl', 'doubt', 'dougla', 'downstair', 'dozen', 'dr', 'draft', 'drag', 'dragon', 'drain', 'drama', 'dramat', 'draw', 'drawn', 'dream', 'dress', 'dri', 'drift', 'drill', 'drink', 'drive', 'driven', 'driver', 'drop', 'drown', 'drug', 'drum', 'drunk', 'drunken', 'duck', 'due', 'duel', 'duke', 'dump', 'duo', 'dust', 'duti', 'dvd', 'dynamit', 'eager', 'ear', 'earl', 'earli', 'earlier', 'earn', 'earth', 'earthquak', 'easi', 'easili', 'east', 'eastern', 'eat', 'eaten', 'eccentr', 'econom', 'ed', 'eddi', 'edg', 'edit', 'editor', 'educ', 'edward', 'effect', 'effort', 'egg', 'egypt', 'eight', 'either', 'el', 'elabor', 'elder', 'elderli', 'eldest', 'elect', 'electr', 'electrocut', 'electron', 'element', 'eleph', 'elev', 'elimin', 'elit', 'elizabeth', 'elop', 'els', 'elsewher', 'elud', 'embark', 'embarrass', 'embrac', 'emerg', 'emot', 'emperor', 'empir', 'employ', 'employe', 'empti', 'en', 'enabl', 'encount', 'encourag', 'end', 'endang', 'endur', 'enemi', 'energi', 'enforc', 'engag', 'engin', 'england', 'english', 'engulf', 'enjoy', 'enlist', 'enorm', 'enough', 'enrag', 'enrol', 'ensu', 'ensur', 'enter', 'entertain', 'enthusiast', 'entir', 'entitl', 'entranc', 'entri', 'entrust', 'envelop', 'environ', 'epilogu', 'episod', 'equal', 'equip', 'era', 'eric', 'error', 'erupt', 'escal', 'escap', 'escort', 'especi', 'essenti', 'establish', 'estat', 'estrang', 'etern', 'europ', 'european', 'eva', 'evacu', 'evad', 'evan', 'eve', 'even', 'event', 'eventu', 'ever', 'everi', 'everybodi', 'everyday', 'everyon', 'everyth', 'everywher', 'evict', 'evid', 'evil', 'ex', 'exact', 'exactli', 'exam', 'examin', 'exampl', 'excel', 'except', 'exchang', 'excit', 'exclus', 'excus', 'execut', 'exercis', 'exhaust', 'exhibit', 'exil', 'exist', 'exit', 'expand', 'expect', 'expedit', 'expel', 'expens', 'experi', 'experienc', 'experiment', 'expert', 'explain', 'explan', 'explod', 'exploit', 'explor', 'explos', 'expos', 'exposur', 'express', 'extend', 'extens', 'extent', 'extermin', 'extort', 'extra', 'extract', 'extrem', 'eye', 'face', 'facil', 'fact', 'factori', 'fade', 'fail', 'failur', 'faint', 'fair', 'fairi', 'faith', 'fake', 'fall', 'fallen', 'fals', 'fame', 'famili', 'familiar', 'famou', 'fan', 'fanci', 'fantasi', 'far', 'farewel', 'farm', 'farmer', 'fascin', 'fashion', 'fast', 'fat', 'fatal', 'fate', 'father', 'fault', 'favor', 'favorit', 'favour', 'fbi', 'fear', 'feast', 'featur', 'fed', 'feder', 'feed', 'feel', 'feet', 'feign', 'fell', 'fellow', 'felt', 'femal', 'fenc', 'fend', 'ferri', 'festiv', 'fetch', 'feud', 'fever', 'fianc', 'fiance', 'fiction', 'field', 'fierc', 'fifteen', 'fifth', 'fight', 'fighter', 'figur', 'file', 'fill', 'film', 'filmmak', 'final', 'financ', 'financi', 'find', 'fine', 'finger', 'fingerprint', 'finish', 'fire', 'firefight', 'firework', 'firm', 'first', 'fish', 'fist', 'fit', 'five', 'fix', 'flag', 'flame', 'flash', 'flashback', 'flat', 'fled', 'flee', 'fleet', 'flesh', 'fli', 'flight', 'fling', 'flip', 'flirt', 'float', 'flood', 'floor', 'florida', 'flower', 'focu', 'focus', 'foil', 'follow', 'fond', 'food', 'fool', 'foot', 'footag', 'footbal', 'forbid', 'forbidden', 'forc', 'foreign', 'foreman', 'forest', 'forev', 'forg', 'forget', 'forgiv', 'forgotten', 'form', 'formal', 'format', 'former', 'formerli', 'formula', 'fort', 'forth', 'fortun', 'forward', 'foster', 'fought', 'found', 'four', 'fourth', 'fox', 'frame', 'franc', 'francisco', 'frank', 'franki', 'frantic', 'fraud', 'freak', 'fred', 'free', 'freed', 'freedom', 'freez', 'french', 'frequent', 'fresh', 'friend', 'friendli', 'friendship', 'frighten', 'frog', 'front', 'frozen', 'fruit', 'frustrat', 'fu', 'fuel', 'fugit', 'fulfil', 'full', 'fulli', 'fun', 'function', 'fund', 'funer', 'funni', 'fur', 'furiou', 'futil', 'futur', 'ga', 'gag', 'gain', 'gambl', 'gambler', 'game', 'gang', 'gangster', 'gap', 'garag', 'garbag', 'garden', 'gari', 'gate', 'gather', 'gave', 'gay', 'gener', 'genet', 'gentleman', 'genuin', 'georg', 'georgia', 'german', 'germani', 'gestur', 'get', 'getaway', 'ghost', 'giant', 'gift', 'gigant', 'girl', 'girlfriend', 'give', 'given', 'glanc', 'glass', 'glimps', 'global', 'glori', 'glow', 'go', 'goal', 'god', 'goe', 'gold', 'golden', 'golf', 'gone', 'good', 'goodby', 'goon', 'gordon', 'gossip', 'got', 'gotten', 'govern', 'governor', 'grab', 'grace', 'grade', 'gradual', 'graduat', 'grand', 'granddaught', 'grandfath', 'grandmoth', 'grandson', 'grant', 'grate', 'grave', 'gray', 'great', 'greater', 'greatest', 'greatli', 'greed', 'greedi', 'greek', 'green', 'greet', 'grenad', 'grew', 'grief', 'griev', 'grip', 'groceri', 'groom', 'ground', 'group', 'grow', 'grown', 'gruesom', 'guard', 'guardian', 'guerrilla', 'guest', 'guid', 'guidanc', 'guilt', 'guilti', 'guitar', 'gun', 'gunfight', 'gunfir', 'gunpoint', 'gunshot', 'guy', 'gypsi', 'habit', 'hack', 'hail', 'hair', 'half', 'hall', 'halloween', 'hallucin', 'hallway', 'halt', 'hammer', 'han', 'hand', 'handcuff', 'handl', 'handsom', 'hang', 'happen', 'happi', 'happili', 'harass', 'harbor', 'hard', 'hardship', 'harm', 'harri', 'harsh', 'hat', 'hatch', 'hate', 'hatr', 'haunt', 'havoc', 'hawaii', 'head', 'headquart', 'heal', 'health', 'hear', 'heard', 'heart', 'heartbroken', 'heat', 'heaven', 'heavi', 'heavili', 'height', 'heir', 'heist', 'held', 'helen', 'helicopt', 'hell', 'helmet', 'help', 'helpless', 'henc', 'henchman', 'henchmen', 'henri', 'herd', 'hero', 'heroic', 'heroin', 'hesit', 'hid', 'hidden', 'hide', 'hideout', 'high', 'higher', 'highli', 'highlight', 'highway', 'hijack', 'hilari', 'hill', 'hint', 'hire', 'histor', 'histori', 'hit', 'hitch', 'hitchhik', 'hitler', 'hold', 'hole', 'holi', 'holiday', 'hollywood', 'home', 'homeless', 'hometown', 'homicid', 'honest', 'honeymoon', 'hong', 'honor', 'hood', 'hook', 'hop', 'hope', 'hopeless', 'horn', 'horribl', 'horrifi', 'horror', 'hors', 'horseback', 'hospit', 'host', 'hostag', 'hostil', 'hot', 'hotel', 'hour', 'hous', 'household', 'housekeep', 'housewif', 'howard', 'howev', 'http', 'hug', 'huge', 'human', 'humili', 'humor', 'hundr', 'hung', 'hunger', 'hungri', 'hunt', 'hunter', 'hurl', 'hurri', 'hurt', 'husband', 'hyster', 'ice', 'idea', 'ideal', 'idealist', 'ident', 'identifi', 'idol', 'ignit', 'ignor', 'ii', 'iii', 'ill', 'illeg', 'illustr', 'imag', 'imagin', 'immedi', 'immigr', 'immin', 'immort', 'impact', 'impal', 'impend', 'imperi', 'imperson', 'impli', 'implic', 'import', 'imposs', 'impress', 'imprison', 'improv', 'impuls', 'inabl', 'inadvert', 'incarcer', 'incid', 'includ', 'incom', 'incompet', 'increas', 'increasingli', 'incred', 'incrimin', 'inde', 'independ', 'india', 'indian', 'indic', 'indiffer', 'individu', 'industri', 'inevit', 'infam', 'infant', 'infatu', 'infect', 'infidel', 'infiltr', 'inflict', 'influenc', 'influenti', 'inform', 'infuri', 'inhabit', 'inherit', 'initi', 'inject', 'injur', 'injuri', 'inmat', 'inn', 'inner', 'innoc', 'inquir', 'insan', 'insid', 'insist', 'inspect', 'inspector', 'inspir', 'instal', 'instantli', 'instead', 'institut', 'instruct', 'instrument', 'insult', 'insur', 'integr', 'intellig', 'intend', 'intens', 'intensifi', 'intent', 'interact', 'intercept', 'interest', 'interfer', 'intern', 'internet', 'interpret', 'interrog', 'interrupt', 'interven', 'intervent', 'interview', 'intim', 'intimid', 'intrigu', 'introduc', 'introduct', 'invad', 'invas', 'invent', 'invest', 'investig', 'invis', 'invit', 'involv', 'iraq', 'irish', 'iron', 'irrit', 'island', 'isol', 'issu', 'itali', 'italian', 'item', 'ivan', 'jack', 'jacket', 'jackson', 'jail', 'jake', 'jam', 'jame', 'jane', 'janitor', 'japan', 'japanes', 'jason', 'jay', 'jazz', 'jealou', 'jealousi', 'jean', 'jeep', 'jeff', 'jenni', 'jennif', 'jerri', 'jersey', 'jessica', 'jesu', 'jet', 'jew', 'jewel', 'jewelri', 'jewish', 'jim', 'jimmi', 'joan', 'job', 'joe', 'john', 'johnni', 'johnson', 'join', 'joke', 'jonathan', 'jone', 'jordan', 'joseph', 'journal', 'journalist', 'journey', 'joy', 'juan', 'judg', 'juli', 'jump', 'june', 'jungl', 'junior', 'juri', 'justic', 'justifi', 'kansa', 'kapoor', 'karen', 'kate', 'kati', 'keen', 'keep', 'kelli', 'kept', 'kerala', 'kevin', 'key', 'khan', 'kick', 'kid', 'kidnap', 'kidnapp', 'kill', 'killer', 'kim', 'kind', 'king', 'kingdom', 'kiss', 'kitchen', 'knee', 'knew', 'knife', 'knight', 'knock', 'know', 'knowledg', 'known', 'kong', 'korean', 'krishna', 'kumar', 'la', 'lab', 'label', 'labor', 'laboratori', 'labour', 'lack', 'ladder', 'ladi', 'laid', 'lair', 'lake', 'lament', 'land', 'landlord', 'landscap', 'lane', 'languag', 'larg', 'larger', 'largest', 'larri', 'last', 'late', 'later', 'latest', 'latter', 'laugh', 'launch', 'laura', 'lavish', 'law', 'lawrenc', 'lawyer', 'lay', 'lazi', 'lead', 'leader', 'leadership', 'leagu', 'leak', 'lean', 'leap', 'learn', 'least', 'leav', 'lectur', 'led', 'lee', 'left', 'leg', 'legal', 'legend', 'legendari', 'lend', 'length', 'lengthi', 'less', 'lesson', 'let', 'letter', 'level', 'lewi', 'liber', 'librari', 'licens', 'lie', 'lieuten', 'life', 'lifelong', 'lifestyl', 'lift', 'light', 'lightn', 'like', 'lili', 'limit', 'linda', 'line', 'link', 'lion', 'lip', 'liquid', 'lisa', 'list', 'listen', 'liter', 'littl', 'live', 'lo', 'load', 'loan', 'local', 'locat', 'lock', 'lodg', 'log', 'london', 'lone', 'long', 'longer', 'longtim', 'look', 'loos', 'loot', 'lord', 'lose', 'loss', 'lost', 'lot', 'loud', 'loudli', 'loui', 'love', 'lover', 'low', 'lower', 'loyal', 'loyalti', 'luci', 'luck', 'lucki', 'luckili', 'luggag', 'lunch', 'lung', 'lure', 'lust', 'luxuri', 'machin', 'mad', 'madam', 'made', 'mafia', 'magazin', 'maggi', 'magic', 'magician', 'maid', 'mail', 'main', 'mainli', 'maintain', 'major', 'make', 'male', 'malfunct', 'mall', 'man', 'manag', 'manhattan', 'mani', 'manifest', 'manipul', 'manner', 'mansion', 'manufactur', 'map', 'march', 'margaret', 'mari', 'maria', 'marin', 'marit', 'mark', 'market', 'marri', 'marriag', 'marshal', 'martha', 'martial', 'martin', 'mask', 'masquerad', 'mass', 'massacr', 'massiv', 'master', 'mastermind', 'match', 'mate', 'materi', 'matt', 'matter', 'matthew', 'matur', 'max', 'may', 'maya', 'mayhem', 'mayor', 'mdash', 'meal', 'mean', 'meant', 'meantim', 'meanwhil', 'measur', 'meat', 'mechan', 'media', 'medic', 'medicin', 'meet', 'melt', 'member', 'memor', 'memori', 'men', 'menac', 'mental', 'mention', 'mentor', 'mercenari', 'merchant', 'merci', 'mere', 'mess', 'messag', 'met', 'metal', 'method', 'mexican', 'mexico', 'miami', 'michael', 'michel', 'mickey', 'middl', 'midnight', 'midst', 'might', 'mike', 'mile', 'militari', 'milk', 'mill', 'miller', 'million', 'millionair', 'mind', 'mine', 'miner', 'minion', 'minist', 'minor', 'minut', 'miracl', 'miracul', 'mirror', 'miser', 'miseri', 'mishap', 'miss', 'missil', 'mission', 'mistak', 'mistaken', 'mistakenli', 'mistress', 'misunderstand', 'mitchel', 'mix', 'mob', 'mobil', 'mobster', 'mock', 'model', 'modern', 'mohan', 'mole', 'molest', 'mom', 'moment', 'momentarili', 'money', 'monitor', 'monk', 'monkey', 'monster', 'montag', 'month', 'mood', 'moon', 'moor', 'moral', 'morgan', 'morn', 'mortal', 'mostli', 'motel', 'mother', 'motion', 'motiv', 'motor', 'motorcycl', 'mount', 'mountain', 'mourn', 'mous', 'mouth', 'move', 'movement', 'movi', 'mr', 'much', 'multipl', 'mumbai', 'murder', 'museum', 'music', 'musician', 'muslim', 'must', 'mutant', 'mutat', 'mute', 'mutil', 'mutual', 'mysteri', 'na', 'nail', 'naiv', 'nake', 'name', 'namehttp', 'narr', 'narrat', 'narrowli', 'nasti', 'nation', 'nativ', 'natur', 'naval', 'navi', 'nazi', 'nbsp', 'ndash', 'near', 'nearbi', 'nearli', 'necessari', 'neck', 'necklac', 'need', 'needl', 'neg', 'neglect', 'negoti', 'neighbor', 'neighborhood', 'neighbour', 'neither', 'nemesi', 'nephew', 'nerv', 'nervou', 'nest', 'net', 'network', 'neutral', 'never', 'nevertheless', 'new', 'newborn', 'newli', 'newlyw', 'news', 'newspap', 'next', 'nice', 'nichola', 'nick', 'nicknam', 'niec', 'night', 'nightclub', 'nightmar', 'nine', 'nobl', 'nobodi', 'nois', 'none', 'nonetheless', 'normal', 'norman', 'north', 'northern', 'nose', 'notabl', 'note', 'noth', 'notic', 'notifi', 'notori', 'novel', 'novemb', 'nowher', 'nuclear', 'nude', 'number', 'numer', 'nun', 'nurs', 'object', 'oblig', 'oblivi', 'observ', 'obsess', 'obstacl', 'obtain', 'obviou', 'obvious', 'occas', 'occasion', 'occup', 'occupi', 'occur', 'ocean', 'octob', 'odd', 'offend', 'offens', 'offer', 'offic', 'offici', 'often', 'oil', 'old', 'older', 'oldest', 'oliv', 'oncom', 'onlin', 'onto', 'open', 'openli', 'oper', 'opera', 'opinion', 'oppon', 'opportun', 'oppos', 'opposit', 'oppress', 'opt', 'option', 'orang', 'orbit', 'ordeal', 'order', 'ordinari', 'organ', 'organis', 'origin', 'orphan', 'orphanag', 'other', 'otherwis', 'outbreak', 'outer', 'outfit', 'outlaw', 'outrag', 'outsid', 'outskirt', 'overcom', 'overdos', 'overhear', 'overjoy', 'overnight', 'overpow', 'overwhelm', 'owe', 'own', 'owner', 'pace', 'pacif', 'pack', 'packag', 'page', 'paid', 'pain', 'paint', 'painter', 'pair', 'pal', 'palac', 'pan', 'panic', 'pant', 'paper', 'parachut', 'parad', 'paradis', 'parallel', 'paranoid', 'parent', 'pari', 'park', 'parker', 'parol', 'part', 'parti', 'partial', 'particip', 'particular', 'particularli', 'partli', 'partner', 'pass', 'passag', 'passeng', 'passion', 'passport', 'past', 'pat', 'patch', 'path', 'patient', 'patrick', 'patriot', 'patrol', 'patron', 'paul', 'pay', 'payment', 'peac', 'pearl', 'peasant', 'peer', 'peggi', 'pen', 'peopl', 'per', 'perceiv', 'perfect', 'perform', 'perhap', 'period', 'perman', 'permiss', 'permit', 'perpetr', 'persist', 'person', 'personnel', 'perspect', 'persuad', 'pet', 'pete', 'peter', 'petti', 'phil', 'philip', 'phone', 'photo', 'photograph', 'physic', 'physician', 'piano', 'pick', 'picnic', 'pictur', 'piec', 'pierc', 'pig', 'pile', 'pill', 'pilot', 'pin', 'pink', 'pipe', 'pirat', 'pistol', 'pit', 'pitch', 'piti', 'place', 'plagu', 'plan', 'plane', 'planet', 'plant', 'plastic', 'plate', 'play', 'playboy', 'player', 'plea', 'plead', 'pleas', 'pleasur', 'pledg', 'plight', 'plot', 'plu', 'plung', 'pocket', 'poem', 'poet', 'poetri', 'point', 'poison', 'poker', 'pole', 'polic', 'policeman', 'policemen', 'polici', 'polish', 'polit', 'politician', 'pond', 'pool', 'poor', 'pop', 'popul', 'popular', 'port', 'portal', 'porter', 'portion', 'portrait', 'portray', 'pose', 'posit', 'poss', 'possess', 'possibl', 'post', 'pot', 'potenti', 'pound', 'pour', 'poverti', 'power', 'practic', 'prais', 'prank', 'pray', 'prayer', 'predica', 'predict', 'prefer', 'pregnanc', 'pregnant', 'premier', 'prepar', 'presenc', 'present', 'preserv', 'presid', 'press', 'pressur', 'presum', 'pretend', 'pretti', 'prevent', 'previou', 'previous', 'prey', 'price', 'pride', 'priest', 'primari', 'prime', 'princ', 'princess', 'princip', 'principl', 'print', 'prior', 'prison', 'privat', 'prize', 'probabl', 'problem', 'proce', 'procedur', 'proceed', 'process', 'proclaim', 'produc', 'product', 'profess', 'profession', 'professor', 'profil', 'profit', 'program', 'progress', 'project', 'promin', 'promis', 'promot', 'prompt', 'promptli', 'proof', 'propel', 'proper', 'properti', 'propos', 'prosecut', 'prospect', 'prosper', 'prostitut', 'protagonist', 'protect', 'protest', 'proud', 'prove', 'provid', 'provok', 'psychiatr', 'psychiatrist', 'psychic', 'psycholog', 'psychologist', 'psychot', 'pub', 'public', 'publicli', 'publish', 'pull', 'punch', 'punish', 'puppet', 'purchas', 'pure', 'purpos', 'pursu', 'pursuit', 'push', 'put', 'puzzl', 'qualiti', 'quarrel', 'quarter', 'queen', 'quest', 'question', 'quick', 'quickli', 'quiet', 'quietli', 'quit', 'quot', 'rabbit', 'race', 'rachel', 'racial', 'radiat', 'radio', 'raft', 'rage', 'raid', 'rail', 'railroad', 'railway', 'rain', 'rais', 'raj', 'raja', 'ralli', 'ram', 'rampag', 'ran', 'ranch', 'rang', 'ranger', 'rank', 'ransom', 'rape', 'rapidli', 'rare', 'rat', 'rate', 'rather', 'ration', 'ravi', 'ray', 'reach', 'react', 'reaction', 'read', 'readi', 'real', 'realis', 'realiti', 'realiz', 'realli', 'reappear', 'rear', 'reason', 'reassur', 'rebel', 'rebelli', 'rebellion', 'rebuff', 'rebuild', 'recal', 'recaptur', 'receiv', 'recent', 'recept', 'reciproc', 'recit', 'reclaim', 'reclus', 'recogn', 'recognis', 'recommend', 'reconcil', 'reconnect', 'record', 'recount', 'recov', 'recoveri', 'recreat', 'recruit', 'recur', 'red', 'redeem', 'reduc', 'ref', 'refer', 'reflect', 'reform', 'refug', 'refuge', 'refus', 'regain', 'regard', 'regardless', 'region', 'regret', 'regular', 'regularli', 'rehears', 'reign', 'reincarn', 'reinforc', 'reject', 'rejoin', 'rekindl', 'rel', 'relat', 'relationship', 'relax', 'releas', 'relent', 'reli', 'relief', 'reliev', 'religi', 'religion', 'reloc', 'reluct', 'reluctantli', 'remain', 'remaind', 'remark', 'remarri', 'rememb', 'remind', 'reminisc', 'remot', 'remov', 'render', 'rendezv', 'renew', 'renown', 'rent', 'repair', 'repay', 'repeat', 'repeatedli', 'replac', 'repli', 'report', 'repres', 'repress', 'reprimand', 'republ', 'reput', 'request', 'requir', 'rescu', 'research', 'resembl', 'resent', 'reserv', 'resid', 'resign', 'resist', 'resolv', 'resort', 'resourc', 'respect', 'respond', 'respons', 'rest', 'restaur', 'restor', 'restrain', 'restrict', 'result', 'resum', 'retain', 'retali', 'retir', 'retreat', 'retriev', 'return', 'reunion', 'reunit', 'reveal', 'revel', 'reveng', 'revers', 'review', 'reviv', 'revolt', 'revolut', 'revolutionari', 'revolv', 'reward', 'rice', 'rich', 'richard', 'rid', 'ride', 'rider', 'ridicul', 'rifl', 'rig', 'right', 'ring', 'riot', 'rip', 'rise', 'risk', 'ritual', 'rival', 'rivalri', 'river', 'road', 'roadsid', 'roam', 'rob', 'robber', 'robberi', 'robert', 'robin', 'robot', 'rock', 'rocket', 'rocki', 'roger', 'role', 'roll', 'roman', 'romanc', 'romant', 'rome', 'roof', 'rooftop', 'room', 'roommat', 'root', 'rope', 'rose', 'rough', 'round', 'rout', 'routin', 'row', 'roy', 'royal', 'rude', 'ruin', 'rule', 'ruler', 'rumor', 'run', 'rural', 'ruse', 'rush', 'russel', 'russia', 'russian', 'ruthless', 'ryan', 'sabotag', 'sack', 'sacrif', 'sacrific', 'sad', 'sadist', 'safe', 'safeti', 'said', 'sail', 'sailor', 'saint', 'sake', 'sale', 'salesman', 'salli', 'saloon', 'salut', 'sam', 'san', 'sand', 'saniti', 'santa', 'sara', 'sarah', 'satellit', 'satisfi', 'savag', 'save', 'saw', 'say', 'scam', 'scandal', 'scar', 'scare', 'scene', 'schedul', 'scheme', 'scholarship', 'school', 'schoolteach', 'scienc', 'scientif', 'scientist', 'scold', 'score', 'scotland', 'scott', 'scout', 'scream', 'screen', 'script', 'scuffl', 'sea', 'seal', 'sean', 'search', 'seasid', 'season', 'seat', 'seattl', 'seclud', 'second', 'secret', 'secretari', 'secretli', 'section', 'secur', 'seduc', 'seduct', 'see', 'seek', 'seem', 'seemingli', 'seen', 'segment', 'seiz', 'select', 'self', 'selfish', 'sell', 'senat', 'send', 'senior', 'sens', 'sensit', 'sent', 'sentenc', 'separ', 'septemb', 'sequenc', 'sergeant', 'seri', 'serial', 'seriou', 'serious', 'serv', 'servant', 'servic', 'session', 'set', 'settl', 'seven', 'sever', 'sewer', 'sex', 'sexi', 'sexual', 'shadi', 'shadow', 'shaft', 'shake', 'shaken', 'shame', 'shanghai', 'shape', 'share', 'shark', 'sharp', 'shatter', 'shave', 'shed', 'shell', 'shelter', 'sheriff', 'shi', 'shield', 'shift', 'shine', 'ship', 'shirt', 'shock', 'shoe', 'shoot', 'shootout', 'shop', 'shore', 'short', 'shortli', 'shot', 'shotgun', 'shoulder', 'shout', 'shove', 'shovel', 'show', 'showdown', 'shower', 'shown', 'shut', 'sibl', 'sick', 'side', 'sidekick', 'sieg', 'sight', 'sign', 'signal', 'signatur', 'signific', 'silenc', 'silent', 'silver', 'similar', 'simon', 'simpl', 'simpli', 'simultan', 'sin', 'sinc', 'sincer', 'sing', 'singer', 'singh', 'singl', 'sinist', 'sink', 'sir', 'sister', 'sit', 'site', 'situat', 'six', 'size', 'skeleton', 'skeptic', 'ski', 'skill', 'skin', 'skip', 'skull', 'sky', 'slam', 'slap', 'slaughter', 'slave', 'slay', 'sleep', 'slide', 'slightli', 'slip', 'slow', 'slowli', 'small', 'smart', 'smash', 'smell', 'smile', 'smith', 'smitten', 'smoke', 'smuggl', 'smuggler', 'snake', 'snap', 'snatch', 'sneak', 'sniper', 'snow', 'social', 'socialit', 'societi', 'sold', 'soldier', 'sole', 'solo', 'solut', 'solv', 'somebodi', 'somehow', 'someon', 'someth', 'sometim', 'somewhat', 'somewher', 'son', 'song', 'soon', 'sorri', 'sorrow', 'sort', 'sought', 'soul', 'sound', 'sourc', 'south', 'southern', 'soviet', 'space', 'spain', 'spanish', 'spare', 'spark', 'speak', 'spear', 'speci', 'special', 'specialist', 'specif', 'specul', 'speech', 'speed', 'spell', 'spend', 'spent', 'spi', 'spike', 'spill', 'spin', 'spirit', 'spiritu', 'spite', 'split', 'spoil', 'sponsor', 'sport', 'spot', 'spray', 'spread', 'spree', 'spring', 'squad', 'squadron', 'squar', 'stab', 'stabl', 'staff', 'stage', 'stair', 'staircas', 'stake', 'stalk', 'stall', 'stand', 'standard', 'stanley', 'star', 'stare', 'start', 'startl', 'starv', 'stash', 'state', 'statement', 'station', 'statu', 'stay', 'steal', 'steel', 'steer', 'step', 'stepfath', 'stephen', 'stepmoth', 'steve', 'steven', 'stick', 'still', 'stir', 'stock', 'stole', 'stolen', 'stomach', 'stone', 'stoog', 'stop', 'store', 'stori', 'storm', 'straight', 'strain', 'strand', 'strang', 'stranger', 'strangl', 'strap', 'straw', 'stray', 'stream', 'street', 'strength', 'stress', 'stretch', 'strict', 'strike', 'string', 'strip', 'stroke', 'strong', 'stronger', 'strongli', 'struck', 'structur', 'struggl', 'stuart', 'stuck', 'student', 'studi', 'studio', 'stuf', 'stuff', 'stumbl', 'stun', 'stunt', 'stupid', 'style', 'subdu', 'subject', 'submarin', 'submit', 'subplot', 'subsequ', 'substanti', 'substitut', 'suburb', 'suburban', 'subway', 'succe', 'succeed', 'success', 'succumb', 'suck', 'sudden', 'suddenli', 'sue', 'suffer', 'suffoc', 'suggest', 'suicid', 'suit', 'suitcas', 'suitor', 'sum', 'summer', 'summon', 'sun', 'sunset', 'super', 'superior', 'supernatur', 'suppli', 'support', 'suppos', 'supposedli', 'sure', 'surfac', 'surgeon', 'surgeri', 'surpris', 'surprisingli', 'surrend', 'surround', 'surveil', 'surviv', 'survivor', 'susan', 'suspect', 'suspend', 'suspici', 'suspicion', 'sustain', 'swallow', 'swear', 'sweep', 'sweet', 'sweetheart', 'swim', 'swing', 'switch', 'sword', 'sydney', 'symbol', 'sympathet', 'sympathi', 'synopsi', 'system', 'tabl', 'tactic', 'tag', 'tail', 'taken', 'tale', 'talent', 'talk', 'tall', 'tank', 'tap', 'tape', 'target', 'task', 'tast', 'tattoo', 'taught', 'taunt', 'tax', 'taxi', 'taylor', 'tea', 'teach', 'teacher', 'team', 'tear', 'teas', 'technic', 'technician', 'techniqu', 'technolog', 'ted', 'teddi', 'teen', 'teenag', 'teeth', 'telephon', 'televis', 'tell', 'temper', 'templ', 'temporari', 'temporarili', 'tempt', 'ten', 'tenant', 'tend', 'tenni', 'tens', 'tension', 'tent', 'term', 'termin', 'terri', 'terribl', 'terrifi', 'territori', 'terror', 'terrorist', 'test', 'testifi', 'testimoni', 'texa', 'text', 'thank', 'theater', 'theatr', 'theft', 'theme', 'theori', 'therapi', 'thereaft', 'therebi', 'therefor', 'thief', 'thiev', 'thin', 'thing', 'think', 'third', 'thirti', 'thoma', 'though', 'thought', 'thousand', 'threat', 'threaten', 'three', 'threw', 'thrill', 'throat', 'throne', 'throughout', 'throw', 'thrown', 'thu', 'thug', 'thwart', 'ticket', 'tie', 'tiger', 'till', 'time', 'tini', 'tip', 'tire', 'titl', 'toast', 'today', 'togeth', 'toilet', 'tokyo', 'told', 'toler', 'tom', 'tommi', 'tone', 'toni', 'took', 'tool', 'top', 'torch', 'torment', 'torn', 'tortur', 'toss', 'total', 'touch', 'tough', 'tour', 'tourist', 'tournament', 'tow', 'toward', 'tower', 'town', 'townspeopl', 'toy', 'trace', 'track', 'trade', 'trader', 'tradit', 'traffic', 'tragedi', 'tragic', 'trail', 'trailer', 'train', 'trainer', 'traitor', 'transfer', 'transform', 'translat', 'transport', 'trap', 'trash', 'trauma', 'traumat', 'travel', 'treasur', 'treat', 'treatment', 'tree', 'trek', 'tri', 'trial', 'triangl', 'tribe', 'trick', 'trigger', 'trio', 'trip', 'triumph', 'troop', 'trophi', 'troubl', 'troup', 'truck', 'true', 'truli', 'trunk', 'trust', 'truth', 'tune', 'tunnel', 'turkey', 'turn', 'tv', 'twelv', 'twenti', 'twice', 'twin', 'twist', 'two', 'tycoon', 'type', 'typic', 'ultim', 'unabl', 'unawar', 'unbeknownst', 'uncertain', 'uncl', 'uncomfort', 'unconsci', 'uncov', 'undercov', 'undergo', 'underground', 'underneath', 'understand', 'undertak', 'underwat', 'underworld', 'unemploy', 'unexpect', 'unexpectedli', 'unfaith', 'unfold', 'unfortun', 'unhappi', 'unharm', 'unidentifi', 'uniform', 'unintent', 'union', 'uniqu', 'unit', 'univers', 'unknowingli', 'unknown', 'unleash', 'unless', 'unlik', 'unlock', 'unnam', 'unravel', 'unseen', 'unstabl', 'unsuccess', 'unsur', 'unsuspect', 'unusu', 'unwant', 'unwil', 'unwittingli', 'upcom', 'upon', 'upper', 'upset', 'upsid', 'upstair', 'urban', 'urg', 'urin', 'us', 'use', 'useless', 'usual', 'utter', 'vacat', 'vain', 'valley', 'valu', 'valuabl', 'vampir', 'van', 'vanish', 'varieti', 'variou', 'vast', 'vault', 'vega', 'vehicl', 'vengeanc', 'ventur', 'venu', 'verbal', 'verg', 'version', 'vessel', 'veteran', 'via', 'vice', 'viciou', 'victim', 'victor', 'victori', 'video', 'videotap', 'vietnam', 'view', 'viewer', 'vijay', 'villag', 'villain', 'violat', 'violenc', 'violent', 'virgin', 'virginia', 'virtual', 'viru', 'visibl', 'vision', 'visit', 'visitor', 'vital', 'voic', 'volunt', 'von', 'vote', 'vow', 'voyag', 'wage', 'wagon', 'wait', 'waiter', 'waitress', 'wake', 'walk', 'walker', 'wall', 'wallet', 'walter', 'wander', 'want', 'war', 'ward', 'warden', 'warehous', 'warm', 'warn', 'warrior', 'wash', 'washington', 'wast', 'watch', 'water', 'wave', 'way', 'weak', 'weaken', 'wealth', 'wealthi', 'weapon', 'wear', 'weather', 'websit', 'wed', 'week', 'weekend', 'weep', 'weight', 'weird', 'welcom', 'well', 'went', 'west', 'western', 'whatev', 'wheel', 'wheelchair', 'whenev', 'whereabout', 'whereupon', 'whether', 'whilst', 'whip', 'white', 'whoever', 'whole', 'whose', 'wide', 'widow', 'wield', 'wife', 'wild', 'wilder', 'will', 'willi', 'william', 'wilson', 'win', 'wind', 'window', 'wine', 'wing', 'winner', 'winter', 'wipe', 'wire', 'wise', 'wish', 'wit', 'witch', 'withdraw', 'within', 'without', 'wive', 'wizard', 'wo', 'wolf', 'woman', 'women', 'wonder', 'woo', 'wood', 'wooden', 'word', 'work', 'worker', 'world', 'worri', 'wors', 'worsen', 'worship', 'worst', 'worth', 'worthi', 'would', 'wound', 'wrap', 'wrath', 'wreak', 'wreck', 'wrestl', 'wrist', 'write', 'writer', 'written', 'wrong', 'wrote', 'yacht', 'yard', 'year', 'yell', 'yellow', 'yet', 'york', 'young', 'younger', 'youngest', 'youngster', 'youth', 'zombi', 'zone', 'zoo']\n"
     ]
    }
   ],
   "source": [
    "print(vectorizer.get_feature_names())"
   ]
  },
  {
   "cell_type": "markdown",
   "metadata": {},
   "source": [
    "Το μόνο που παρατηρούμε είναι ορισμένα ονόματα όπως Dan, Dave, David, Christopher, Edward. Δυστυχώς τα όνομα δεν διαθέτουν κάποιο νοηματικό βάρος στις περιλήψεις των κειμένων για αυτό είναι καλό να μην υπάρχουν ως features. Για να το πετύχουμε αυτό θα χρειαστεί να εισάγουμε ορισμένες επιπλέον *stop_words* στον tokenizer μας."
   ]
  },
  {
   "cell_type": "code",
   "execution_count": 27,
   "metadata": {},
   "outputs": [],
   "source": [
    "from nltk.corpus import names\n",
    "\n",
    "invalid_names = []\n",
    "for name in names.words():\n",
    "    invalid_names.append(name.lower())\n",
    "\n",
    "stop_words += invalid_names"
   ]
  },
  {
   "cell_type": "code",
   "execution_count": 28,
   "metadata": {},
   "outputs": [
    {
     "name": "stdout",
     "output_type": "stream",
     "text": [
      "(5000, 3032)\n"
     ]
    }
   ],
   "source": [
    "vectorizer = TfidfVectorizer(max_df=0.4, min_df=25, tokenizer=tokenize, strip_accents=ascii)\n",
    "corpus_tf_idf = vectorizer.fit_transform(corpus)\n",
    "print(corpus_tf_idf.shape)"
   ]
  },
  {
   "cell_type": "markdown",
   "metadata": {
    "colab_type": "text",
    "id": "NPVK7Z5c1p5F"
   },
   "source": [
    "## Ποιοτική ερμηνεία\n",
    "\n",
    "Θα δώσουμε 10 παραδείγματα (IDs) από τη συλλογή σας που επιστρέφουν καλά αποτελέσματα μέχρι `max_recommendations` (5 και παραπάνω) και σημειώστε συνοπτικά ποια είναι η θεματική που ενώνει τις ταινίες."
   ]
  },
  {
   "cell_type": "code",
   "execution_count": 30,
   "metadata": {},
   "outputs": [
    {
     "name": "stdout",
     "output_type": "stream",
     "text": [
      "\n",
      "    -- Target Movie[124] ['Step Up'] --\n",
      "    Categories: ['\"Crime Fiction\",  \"Dance\",  \"Musical\",  \"Drama\",  \"Romantic drama\",  \"Romance Film\",  \"Teen\"']\n",
      "    Summary: Following a party, brothers Mac  and Skinny Carter , with their friend Tyler Gage , break into the Maryland School of Arts and trash the school's theatre, damaging many of the props. When a security guard appears, Tyler helps the two escape, accepting full blame for the vandalism, himself. He is sentenced to 200 hours of community service, which is to be served at the school. While working, he pee...\n",
      "    ----------------------------------------------------------------------------------------------------\n",
      "    \n",
      "\n",
      "    -- Recommended #1[4433] ['Girls Just Want to Have Fun'] --\n",
      "    Categories: ['\"Musical\",  \"Indie\",  \"Teen\",  \"Comedy\"']\n",
      "    Summary: Janey Glenn  is an army brat who is thrilled when her father  is transferred to Chicago, the home of her favorite dance show Dance TV. At her Catholic school she quickly makes a new friend in Lynne Stone  due to their shared love of dance and Dance TV. When her strict and conservative dad nixes the idea of her traveling to downtown Chicago to try out, Janey accompanies Lynne to the auditions. At t...\n",
      "    ----------------------------------------------------------------------------------------------------\n",
      "    \n",
      "\n",
      "    -- Recommended #2[932] ['Dirty Dancing: Havana Nights'] --\n",
      "    Categories: ['\"Dance\",  \"Indie\",  \"Period piece\",  \"Musical\",  \"Coming of age\",  \"Drama\",  \"Romantic drama\",  \"Romance Film\",  \"Musical Drama\",  \"Teen\"']\n",
      "    Summary: Katey Miller , her parents , and her younger sister Susie  arrive in Cuba during the Cuban revolution. A self-described bookworm, Katey is not very happy about having to move to a different country during her senior year of high school, as she had been planning to attend Radcliffe College, although the rest of her family seem extremely pleased to be in Cuba. Meeting several other rich American tee...\n",
      "    ----------------------------------------------------------------------------------------------------\n",
      "    \n",
      "\n",
      "    -- Recommended #3[2789] ['Center Stage'] --\n",
      "    Categories: ['\"Ensemble Film\",  \"Dance\",  \"Musical\",  \"Drama\",  \"Musical Drama\",  \"Teen\"']\n",
      "    Summary: After a series of country-wide auditions, 12 young dancers gain entry to the American Ballet Academy . They work hard, attending classes every day for weeks to make them the best dancers they can possibly be, and in preparations for a final dance workshop which will determine the three boys and three girls who will be asked to join the American Ballet Company . The workshop will also provide an op...\n",
      "    ----------------------------------------------------------------------------------------------------\n",
      "    \n",
      "\n",
      "    -- Recommended #4[1195] ['The Barn Dance'] --\n",
      "    Categories: ['\"Short Film\",  \"Comedy\",  \"Black-and-white\",  \"Animation\"']\n",
      "    Summary: The barn dance of the title is the occasion which brings together Minnie Mouse and her two suitors: Mickey and Peg-Leg Pete. The latter two and their vehicles are first seen arriving at Minnie's house in an attempt to pick her up for the dance. Mickey turns up in his horse-cart while Pete in a newly purchased automobile. Minnie initially chooses Pete to drive her to the dance but the automobile un...\n",
      "    ----------------------------------------------------------------------------------------------------\n",
      "    \n",
      "\n",
      "    -- Recommended #5[1852] [\"The Night They Raided Minsky's\"] --\n",
      "    Categories: ['\"Comedy\"']\n",
      "    Summary: Rachel Schpitendavel , an innocent Amish girl from rural Pennsylvania, arrives in New York's Lower East Side, hoping to make it as a dancer. Rachel's dances are based on Bible stories. She auditions at Minsky's Burlesque, but her dances are much too dull  for the bawdy show. But then Billy Minsky  and the show's jaded straight man, Raymond Paine , concoct a plan to foil moral crusader Vance Fowler...\n",
      "    ----------------------------------------------------------------------------------------------------\n",
      "    \n",
      "\n",
      "    -- Recommended #6[1850] ['The Red Shoes'] --\n",
      "    Categories: ['\"Dance\",  \"Roadshow theatrical release\",  \"Musical\",  \"Drama\",  \"Romantic drama\",  \"Music\",  \"Romance Film\"']\n",
      "    Summary: Victoria 'Vicky' Page  is a young, unknown dancer from an aristocratic background. At an after-ballet party, arranged by her aunt as a surreptitious audition, she meets Boris Lermontov , the ruthless but charismatic impresario of the Ballet Lermontov, who questions her:Lermontov: Why do you want to dance?Vicky: Why do you want to live?Lermontov: Well, I don't know exactly why, but... I must.Vicky:...\n",
      "    ----------------------------------------------------------------------------------------------------\n",
      "    \n",
      "\n",
      "    -- Recommended #7[1027] ['Luna de Miel'] --\n",
      "    Categories: ['\"Romantic drama\",  \"Romance Film\",  \"Drama\",  \"Musical Drama\"']\n",
      "    Summary: Ballet dancer Anna Cato  has just given up the ballet to marry Australian farmer Kit Kelly . They are touring Spain in their open top Bentley for their honeymoon before going to live on the sheep station that Kit runs in Australia. An American car races past them at high speed but it soon has to stop to change a burst tyre. The car is driven by the famous Spanish dancer Antonio and his wife Rosita...\n",
      "    ----------------------------------------------------------------------------------------------------\n",
      "    \n"
     ]
    }
   ],
   "source": [
    "# Χωρός και εφηβικές σχέσεις\n",
    "report_recommendations(124, 7)"
   ]
  },
  {
   "cell_type": "code",
   "execution_count": 32,
   "metadata": {},
   "outputs": [
    {
     "name": "stdout",
     "output_type": "stream",
     "text": [
      "\n",
      "    -- Target Movie[64] ['The Spring River Flows East'] --\n",
      "    Categories: ['\"Drama\",  \"Chinese Movies\",  \"World cinema\"']\n",
      "    Summary:  Part One is about 100 minutes in length. The film is set in Shanghai and begins shortly after the Mukden Incident of 1931. Sufen ([[Bai Yang  works in a textile factory; Zhang Zhongliang ([[Tao Jin  gives evening classes to the workers. During a National Day  celebration at the factory, Zhang successfully urges the workers to donate to the Northeastern Volunteer Army who are fighting the Japanese...\n",
      "    ----------------------------------------------------------------------------------------------------\n",
      "    \n",
      "\n",
      "    -- Recommended #1[2947] ['No Man Is an Island'] --\n",
      "    Categories: ['\"Biography\",  \"Adventure\",  \"Action/Adventure\",  \"Drama\",  \"War film\",  \"Action\"']\n",
      "    Summary: The film begins at an outpost with Tweed expecting to leave Guam to go back to mainland America. His replacement, Roy, arrives along with Vicente, a local. Shortly after the bombing of Pearl Harbor, the Japanese launch an air attack on Guam, and the resulting chaos kills both Vicente and Chief Schultz. The five remaining men run for the hills. Meanwhile, the Japanese have attained medical document...\n",
      "    ----------------------------------------------------------------------------------------------------\n",
      "    \n",
      "\n",
      "    -- Recommended #2[4702] ['Tunnel War'] --\n",
      "    Categories: ['\"Chinese Movies\",  \"War film\"']\n",
      "    Summary:  The movie begins with the ringing of a large bell, in Gao village, causing the villagers to all gather in the village square. They await the return of Chuanbao, the village militia Sergent, and the village elder. The twosome arrive with Chuanbao carrying the village elder on his back. The village elder explains that they were attacked by Japanese forces in the middle of a meeting and has been ser...\n",
      "    ----------------------------------------------------------------------------------------------------\n",
      "    \n",
      "\n",
      "    -- Recommended #3[38] ['Arirang'] --\n",
      "    Categories: ['\"Silent film\",  \"Indie\",  \"Black-and-white\"']\n",
      "    Summary: The film concerns a student, Ch'oe Yeongjin, who has become mentally ill after being imprisoned and tortured by the Japanese for his involvement in the March 1, 1919 protest against the Japanese colonial rule. He returns to live with his father and sister, Yeongheui, in their small village home. Yeongjin's friend, Yun Hyeon'gu, is in love with Yeongheui. While the villagers are preoccupied with a ...\n",
      "    ----------------------------------------------------------------------------------------------------\n",
      "    \n",
      "\n",
      "    -- Recommended #4[133] ['Purple Sunset'] --\n",
      "    Categories: ['\"Action/Adventure\",  \"Drama\",  \"Chinese Movies\",  \"World cinema\",  \"War film\"']\n",
      "    Summary: The film begins with a flashback of an elderly Chinese man Yang in 2000 who is interviewed and who begins reminiscing about the Second Sino-Japanese War, prompted on by a journalist. He grasps an old okiagari-koboshi musical doll which brings his memories back to August 1945, near the end of the war. In 1945 Yang, a Hebei peasant in his 30s, was captured by Japanese imperial soldiers, and was brou...\n",
      "    ----------------------------------------------------------------------------------------------------\n",
      "    \n",
      "\n",
      "    -- Recommended #5[3513] ['Sayonara'] --\n",
      "    Categories: ['\"Romantic drama\",  \"Romance Film\",  \"Drama\",  \"War film\"']\n",
      "    Summary: Lloyd \"Ace\" Gruver, a major and the son of a U.S. Army general, is stationed at Itami Air Force Base  near Kobe, Japan. He falls in love with a Japanese entertainer  who is a performer for a Takarazuka-like theater company, whom he meets through his enlisted crew chief, Airman Kelly. Kelly is about to wed a Japanese woman, Katsumi, in spite of the disapproval of the United States military, which w...\n",
      "    ----------------------------------------------------------------------------------------------------\n",
      "    \n",
      "\n",
      "    -- Recommended #6[1999] ['Fear and Trembling'] --\n",
      "    Categories: ['\"Drama\",  \"Japanese Movies\",  \"Comedy\",  \"World cinema\"']\n",
      "    Summary: Amélie, a young Belgian woman , having spent her childhood in Japan, decides to return to live there and tries to integrate in the Japanese society. She is determined to be a \"real Japanese\" before her year contract runs out, though it is precisely this determination that is incompatible with Japanese humility. Though she is hired for a choice position as a translator at an import/export firm, her...\n",
      "    ----------------------------------------------------------------------------------------------------\n",
      "    \n",
      "\n",
      "    -- Recommended #7[3561] ['The Great Raid'] --\n",
      "    Categories: ['\"Action\",  \"Drama\",  \"War film\"']\n",
      "    Summary: In 1944, American forces were closing in on the Japanese-occupied Philippines. The Japanese held around 500 American prisoners who had survived the Bataan Death March in a notorious POW camp at Cabanatuan and subjected them to harsh treatment; many prisoners were also stricken with malaria. The film opens with the massacre of prisoners of war on Palawan by the Kempeitai, the Imperial Japanese mili...\n",
      "    ----------------------------------------------------------------------------------------------------\n",
      "    \n",
      "\n",
      "    -- Recommended #8[1871] ['First Yank into Tokyo'] --\n",
      "    Categories: ['\"Drama\",  \"Black-and-white\",  \"War film\"']\n",
      "    Summary: In the film, the U.S. government assigns Major Steve Ross to receive plastic surgery to appear Japanese; Ross had lived in Japan and is well versed with Japanese culture. The government assigns Ross to rescue Lewis Jardine, a scientist bearing valuable secrets about the atomic bomb. Ross is also driven by the knowledge that his one true love, Abby, was captured by the Japanese and \"is in their han...\n",
      "    ----------------------------------------------------------------------------------------------------\n",
      "    \n",
      "\n",
      "    -- Recommended #9[3502] ['American Guerrilla in the Philippines'] --\n",
      "    Categories: ['\"War film\"']\n",
      "    Summary: In April 1942 in the Philippines, an American motor torpedo boat is destroyed by Japanese planes. The survivors, among them Ensign Chuck Palmer , make their way ashore on Cebu. Their commander orders them to split up. Chuck pairs up with Jim Mitchell  and reaches Colonel Benson on Leyte, only to be told that he has been ordered by General Douglas MacArthur to surrender his forces soon. Chuck helps...\n",
      "    ----------------------------------------------------------------------------------------------------\n",
      "    \n",
      "\n",
      "    -- Recommended #10[1907] ['Ambush Bay'] --\n",
      "    Categories: ['\"Action/Adventure\",  \"Action\",  \"Drama\",  \"War film\"']\n",
      "    Summary: Prior to the 1944 American invasion of the Philippines a hand picked team of U.S. Marine Corps amphibious reconnaissance scouts is landed by a PBY Catalina with the mission of contacting an intelligence agent who has crucial information. Each Marine is not only experienced but has a special skill with the exception of the radio operator, PFC Grenier . Grenier, an air crew radioman with only six mo...\n",
      "    ----------------------------------------------------------------------------------------------------\n",
      "    \n"
     ]
    }
   ],
   "source": [
    "# Πόλεμος και εξέλιξη ιστορίας, Χώρες της Άπω Ανατολής\n",
    "report_recommendations(64, 10)"
   ]
  },
  {
   "cell_type": "code",
   "execution_count": 33,
   "metadata": {},
   "outputs": [
    {
     "name": "stdout",
     "output_type": "stream",
     "text": [
      "\n",
      "    -- Target Movie[1753] ['House of the Dead'] --\n",
      "    Categories: ['\"Thriller\",  \"Horror\",  \"World cinema\",  \"Action/Adventure\",  \"Zombie Film\",  \"Action\",  \"Teen\"']\n",
      "    Summary: The film begins with Simon  and Greg  planning to take a boat to an island rave party. They meet up with Alicia , Karma  and Cynthia . Karma has a crush on Simon, Simon has a crush on Alicia and Cynthia is Greg's girlfriend. When they arrive at the dock, they find the boat to take them to the island has already left. They hitch a ride instead with Victor Kirk  and his first mate Salish . A cop nam...\n",
      "    ----------------------------------------------------------------------------------------------------\n",
      "    \n",
      "\n",
      "    -- Recommended #1[2806] ['Hatchet II'] --\n",
      "    Categories: ['\"Thriller\",  \"Horror\",  \"Cult\",  \"Comedy\",  \"Black comedy\",  \"Action\",  \"Slasher\"']\n",
      "    Summary: Picking up immediately where the first film ended, Marybeth  is attacked by Victor Crowley , but manages to escape. Jack Cracker  finds her, pulls her out of the river, and takes her back to his cabin. After finding out her last name, he forces her to leave, telling her that if she wants help, she needs to see Reverend Zombie . Moments after she leaves Jack is killed by Victor Crowley who severs h...\n",
      "    ----------------------------------------------------------------------------------------------------\n",
      "    \n",
      "\n",
      "    -- Recommended #2[2812] ['Alien Dead'] --\n",
      "    Categories: ['\"Zombie Film\",  \"Science Fiction\",  \"Horror\"']\n",
      "    Summary: A meteor strikes a houseboat in the swamps near a southern town, causing the people on the houseboat to become zombies. The zombies feed on the alligators in the swamp and when they run out of alligators, they start going for the citizens. When the people start to disappear, a local scientist tries to figure out what's happening and how to stop the zombies from killing more people....\n",
      "    ----------------------------------------------------------------------------------------------------\n",
      "    \n",
      "\n",
      "    -- Recommended #3[1491] ['Night of the Living Dead'] --\n",
      "    Categories: ['\"Horror\",  \"Indie\",  \"Doomsday film\",  \"Black-and-white\",  \"Cult\",  \"Mystery\",  \"Splatter film\",  \"Zombie Film\"']\n",
      "    Summary: The story begins with the siblings Barbra  and Johnny  driving to rural Pennsylvania to visit their father's grave. In the graveyard Johnny teases Barbra that \"They're coming to get you, Barbra\" and then they are violently attacked by a strange man . Johnny tries to rescue his sister, but is killed after he falls and cracks his head on a gravestone. Barbra flees with the zombie in pursuit to a far...\n",
      "    ----------------------------------------------------------------------------------------------------\n",
      "    \n",
      "\n",
      "    -- Recommended #4[4265] ['First Platoon'] --\n",
      "    Categories: ['\"Comedy film\",  \"Horror\"']\n",
      "    Summary: First Platoon centers around Rock Brannigan ([[Scott Gibson  and his ragtag squad of ex-military zombie hunters trying to make a living in the desert Southwest two years after the zombie apocalypse. Along the way they encounter the grizzled Pa Jericho , and the eccentric Rex Necro ....\n",
      "    ----------------------------------------------------------------------------------------------------\n",
      "    \n",
      "\n",
      "    -- Recommended #5[3576] ['The Ward'] --\n",
      "    Categories: ['\"Thriller\",  \"Psychological thriller\",  \"Horror\",  \"Haunted House Film\",  \"Supernatural\"']\n",
      "    Summary: At the North Bend Psychiatric Hospital in 1966, a young patient named Tammy is attacked and killed by an unseen force during the night. Kristen , a troubled young woman sets fire to an abandoned farmhouse. The local police take her to the psychiatric hospital. She is taken to the ward where she meets other patients: Iris , Sarah , Emily , and Zoey , and is given Tammy's old room. She meets Dr. Str...\n",
      "    ----------------------------------------------------------------------------------------------------\n",
      "    \n",
      "\n",
      "    -- Recommended #6[2526] ['The Incredibly Strange Creatures Who Stopped Living and Became Mixed-Up Zombies'] --\n",
      "    Categories: ['\"Parody\",  \"Zombie Film\",  \"Musical\",  \"Horror\"']\n",
      "    Summary: Jerry , his girlfriend Angela , and his buddy Harold  head out for a day at the carnival. In one venue, a dance number is performed by Marge , an alcoholic who drinks before and between shows, and her partner, Bill Ward, for a small audience. There Jerry sees stripper Carmelita  who hypnotizes him with her icy stare and he is compelled to see her act. Carmelita is the young sister of powerful fort...\n",
      "    ----------------------------------------------------------------------------------------------------\n",
      "    \n",
      "\n",
      "    -- Recommended #7[3060] ['Hell of the Living Dead'] --\n",
      "    Categories: ['\"Zombie Film\",  \"Science Fiction\",  \"Horror\",  \"World cinema\"']\n",
      "    Summary: The film opens at a top secret chemical research facility called Hope Center #1 where a chemical leak in one of the modules at the facility turns the entire staff into flesh-eating zombies. The movie then shifts to an unnamed European country with a four-man team of commandos led by Lt. Mike London  being deployed to eliminate a group of terrorists who have taken hostages inside a large building. ...\n",
      "    ----------------------------------------------------------------------------------------------------\n",
      "    \n",
      "\n",
      "    -- Recommended #8[2689] ['Killing Birds'] --\n",
      "    Categories: ['\"Zombie Film\",  \"Natural horror films\",  \"Horror\",  \"World cinema\"']\n",
      "    Summary: Fred Brown, a soldier, returns to Louisiana from the Vietnam war to find his wife  in bed with another man, and kills them both and his parents , only sparing his son. While he is cleaning his knife, a falcon attacks him and tears out his left eye and blinds him in the other. He ends up at a hospital where he says goodbye to the child before he is taken into foster care. Twenty years later, a smal...\n",
      "    ----------------------------------------------------------------------------------------------------\n",
      "    \n",
      "\n",
      "    -- Recommended #9[742] ['Vengeance of the Zombies'] --\n",
      "    Categories: ['\"Zombie Film\",  \"Drama\",  \"Horror\",  \"Creature Film\",  \"World cinema\"']\n",
      "    Summary: In this zombie horror film, a mysterious man rampages throughout England killing unsuspecting women. Each time a victim is murdered, they are brought back to life by an East Indian named Kantaka  to join his army of zombies....\n",
      "    ----------------------------------------------------------------------------------------------------\n",
      "    \n",
      "\n",
      "    -- Recommended #10[605] ['Plane Dead'] --\n",
      "    Categories: ['\"Zombie Film\",  \"Black comedy\",  \"Action\",  \"Horror\"']\n",
      "    Summary: On a routine flight from Los Angeles to Paris, a renegade group of scientists has smuggled aboard a secret container holding a fellow scientist infected with a deadly genetically engineered virus which reanimates the dead. The virus is a variant of the malaria virus created by three scientists. They discovered and manufactured the virus with the intent of turning it into a biological weapon. Their...\n",
      "    ----------------------------------------------------------------------------------------------------\n",
      "    \n"
     ]
    }
   ],
   "source": [
    "# Zombies, Supernatural και Horror στοιχεία\n",
    "report_recommendations(1753, 10)"
   ]
  },
  {
   "cell_type": "code",
   "execution_count": 34,
   "metadata": {},
   "outputs": [
    {
     "name": "stdout",
     "output_type": "stream",
     "text": [
      "\n",
      "    -- Target Movie[570] ['Q Planes'] --\n",
      "    Categories: ['\"Spy\"']\n",
      "    Summary: Advanced British aircraft prototypes carrying experimental and highly secret equipment being developed under government contract, are regularly vanishing with their crews on their test flights. No one can deduce the problem, not even spymaster Major Hammond  or his sister Kay , a newspaper reporter who is working undercover in the works canteen used by the crews at the Barrett & Ward Aircraft Comp...\n",
      "    ----------------------------------------------------------------------------------------------------\n",
      "    \n",
      "\n",
      "    -- Recommended #1[4527] ['Atlantic Flight'] --\n",
      "    Categories: ['\"Action/Adventure\",  \"Action\",  \"Drama\",  \"Adventure\"']\n",
      "    Summary: When pilot Dick Bennett  undertakes a flight in stormy conditions to save a dying girl, he brings the aircraft in, despite warnings that it is too dangerous. Later, he meets socialite Gail Strong , who is interested in aviation and persuades Bennett's aircraft engineer friend Bill Edwards  to try a parachute jump. Her fiancé, Baron Hayygard  pledges that he will win the Stanley Trophy Race, to mak...\n",
      "    ----------------------------------------------------------------------------------------------------\n",
      "    \n",
      "\n",
      "    -- Recommended #2[1011] ['Air Force'] --\n",
      "    Categories: ['\"Black-and-white\",  \"Action/Adventure\",  \"Drama\",  \"War film\",  \"Action\",  \"Combat Films\"']\n",
      "    Summary: The film opens on December 6, 1941,Excerpts from the Gettysburg Address precede the film's action scenes. In the aftermath, the beleaguered crew is taxed to the limit, as they are sent on with little rest first to Wake Island, then to Clark Field in the Philippines, with both locations under Japanese attack.  They take along fighter pilot Lt. Thomas \"Tex\" Rader ([[James Brown  and a small dog from...\n",
      "    ----------------------------------------------------------------------------------------------------\n",
      "    \n",
      "\n",
      "    -- Recommended #3[1562] ['Odin: Photon Sailer Starlight'] --\n",
      "    Categories: ['\"Anime\",  \"Japanese Movies\"']\n",
      "    Summary: Odin centers around the novice crew of the laser sailing space schooner Starlight as they embark on an historic interstellar test flight. They are intercepted by what seems to be a wrecked spaceship only to find that it contains a lone survivor; a young woman named Sara Cyanbaker. Unknown to the crew at this time, a mechanized space fleet approaches Earth and a scout vessel from that fleet was res...\n",
      "    ----------------------------------------------------------------------------------------------------\n",
      "    \n",
      "\n",
      "    -- Recommended #4[2537] ['Star Trek IV: The Voyage Home'] --\n",
      "    Categories: ['\"Time travel\",  \"Science Fiction\",  \"Family Film\",  \"Adventure\",  \"Comedy\"']\n",
      "    Summary: In 2286, a large cylindrical probe moves through space, sending out an indecipherable signal and disabling the power of starships it passes. As it takes up orbit around Earth, its signal disables the global power grid and generates planetary storms, creating catastrophic, sun-blocking cloud cover. Starfleet Command sends out a planetary distress call and warns starships not to approach Earth. On t...\n",
      "    ----------------------------------------------------------------------------------------------------\n",
      "    \n",
      "\n",
      "    -- Recommended #5[2624] ['Amelia'] --\n",
      "    Categories: ['\"Biography\",  \"Adventure\",  \"Period piece\",  \"Drama\",  \"Romance Film\",  \"Biographical film\"']\n",
      "    Summary: On July 2, 1937, Amelia Earhart  and her navigator, Fred Noonan , are on the last leg of an around-the-world flight. Moving in vignettes from her early years when Earhart was captivated by the sight of an aircraft flying overhead on the Kansas prairie where she grew up, her life over the preceding decade gradually unfolds. As a young woman, she is recruited by publishing tycoon and eventual husban...\n",
      "    ----------------------------------------------------------------------------------------------------\n",
      "    \n",
      "\n",
      "    -- Recommended #6[3726] ['Live from Baghdad'] --\n",
      "    Categories: ['\"Television movie\",  \"Gulf War\",  \"Docudrama\",  \"Drama\",  \"War film\",  \"Biographical film\",  \"Political drama\"']\n",
      "    Summary: On August 2, 1990, with Iraqi forces and tanks roll into Kuwait City, as the Iraqi invasion of Kuwait begins. In Atlanta, CNN picks Robert Wiener  and his crew to go to Baghdad and cover the invasion. At Rome International Airport, Wiener meets his colleague and producer Ingrid Formanek . Wiener and his crew arrive in Baghdad on August 23, and stay at the Al-Rasheed Hotel. As they settle in their ...\n",
      "    ----------------------------------------------------------------------------------------------------\n",
      "    \n",
      "\n",
      "    -- Recommended #7[2750] [\"Airport '77\"] --\n",
      "    Categories: ['\"Thriller\",  \"Action/Adventure\",  \"Ensemble Film\",  \"Action Thrillers\",  \"Disaster\",  \"Action\",  \"Airplanes and airports\"']\n",
      "    Summary: A privately owned luxury Boeing 747-100, Stevens' Flight 23  complete with piano bar, office, and bedroom, is used to ferry invited guests to an estate owned by wealthy philanthropist Philip Stevens . Valuable artwork from Stevens's private collection is also on board the jetliner, to be eventually displayed in his new museum. Such a collection motivates a group of thieves led by co-pilot Bob Cham...\n",
      "    ----------------------------------------------------------------------------------------------------\n",
      "    \n",
      "\n",
      "    -- Recommended #8[1683] ['The Net'] --\n",
      "    Categories: ['\"Drama\"']\n",
      "    Summary: At a secret aviation research station in the English countryside, an international group of scientists are working on the prototype of a revolutionary new aircraft, known as the M7, capable of flying at up to 2,000 miles per hour. The atmosphere is competitive rather than co-operative, with fierce rivalry between the various scientists. The project leader Michael Heathley  is so wrapped up with th...\n",
      "    ----------------------------------------------------------------------------------------------------\n",
      "    \n",
      "\n",
      "    -- Recommended #9[817] ['Northern Pursuit'] --\n",
      "    Categories: ['\"Drama\",  \"Action\",  \"War film\",  \"Northern\",  \"Spy\"']\n",
      "    Summary: After a German U-boat drops off Nazi saboteurs, RCMP Corporal Wagner  captures the leader, Colonel Hugo von Keller , the only survivor after an avalanche wipes out the rest of the group. When left alone with the Canadian Mountie, von Keller discovers that Wagner speaks German and is of German ancestry, and tries to persuade his captor to help him. After being taken into custody, von Keller leads a...\n",
      "    ----------------------------------------------------------------------------------------------------\n",
      "    \n",
      "\n",
      "    -- Recommended #10[3493] ['Evil Dead Trap'] --\n",
      "    Categories: ['\"Japanese Movies\",  \"Horror\",  \"World cinema\"']\n",
      "    Summary: TV show host Nami asks her viewers to send in home movies; she receives a snuff film apparently shot at a nearby factory. Taking a camera crew out to investigate, Nami finds the factory deserted. As Nami and her crew begin to scour the factory, they are murdered one-by-one in grisly fashion until only Nami remains. She ultimately discovers that the killer is Hideki, a small, fetus-like man conjoin...\n",
      "    ----------------------------------------------------------------------------------------------------\n",
      "    \n"
     ]
    }
   ],
   "source": [
    "# Αεροπλάνο, πιλότοι, αερομαχίες\n",
    "report_recommendations(570, 10)"
   ]
  },
  {
   "cell_type": "code",
   "execution_count": 35,
   "metadata": {},
   "outputs": [
    {
     "name": "stdout",
     "output_type": "stream",
     "text": [
      "\n",
      "    -- Target Movie[4243] ['The Southern Star'] --\n",
      "    Categories: ['\"Crime Fiction\",  \"Comedy film\",  \"Adventure\"']\n",
      "    Summary: Fortune hunter Dan Rockland comes to West Africa pretending to be a geologist. He is actually employed by Kramer, whose business is diamonds, and when Kramer's workers discover a huge uncut gem, Rockland is sent to retrieve it. He and his African guide Matakit have opposition to contend with, first from Capt. Karl Ludwig, who is Kramer's security chief, and another is the diabolical Plankett, whos...\n",
      "    ----------------------------------------------------------------------------------------------------\n",
      "    \n",
      "\n",
      "    -- Recommended #1[2383] ['Dark of the Sun'] --\n",
      "    Categories: ['\"Adventure\",  \"War film\"']\n",
      "    Summary: Sometime in 1964 or 1965, mercenary Bruce Curry  is hired by Congolese President Ubi  supposedly to rescue the European residents of an isolated town about to be attacked by rebel Simbas. But in reality his pressing mission is to retrieve diamonds, worth fifty million dollars, from a mine company's vault. Curry's subordinates include his friend Ruffo  and alcoholic Doctor Wreid . Reluctantly he al...\n",
      "    ----------------------------------------------------------------------------------------------------\n",
      "    \n",
      "\n",
      "    -- Recommended #2[1204] ['Cash'] --\n",
      "    Categories: ['\"Thriller\",  \"World cinema\",  \"Musical\",  \"Crime Thriller\",  \"Action\",  \"Bollywood\"']\n",
      "    Summary: The story focuses on 99 con-men, Karan , Sam  and Lucky . The three make a plan along with Pooja  to find and steal a heist of missing diamonds. But they do not know that Karan's girlfriend Shania  also knows about the diamonds and is planning to steal them. While they are all on the run, lovers Angad  and Aditi  find the diamonds. Lucky starts thinking what he can do with all the money and wealth...\n",
      "    ----------------------------------------------------------------------------------------------------\n",
      "    \n",
      "\n",
      "    -- Recommended #3[2141] ['Duel in the Jungle'] --\n",
      "    Categories: ['\"Adventure\"']\n",
      "    Summary: Its plot involves an American insurance investigator who is sent to Rhodesia in Southern Africa to investigate the suspicous death of a major diamond dealer....\n",
      "    ----------------------------------------------------------------------------------------------------\n",
      "    \n",
      "\n",
      "    -- Recommended #4[4586] ['Hitler'] --\n",
      "    Categories: ['\"Crime Fiction\"']\n",
      "    Summary: Hitler is an action film with Mithun Chakraborty leading while Southern star Raghuvaran played the villain...\n",
      "    ----------------------------------------------------------------------------------------------------\n",
      "    \n",
      "\n",
      "    -- Recommended #5[4034] ['Mara of the Wilderness'] --\n",
      "    Categories: ['\"Action/Adventure\",  \"Adventure\"']\n",
      "    Summary: Filmed and set in the contemporary areas of Alaska, the film is about Mara, whose parents are killed in a plane crash. Raised by wolves, she rescues and befriends an anthropologist named Ken, who is interested in teaching her what is in the world. But she is hunted as well by a ruthless carnival worker named Jarnagan....\n",
      "    ----------------------------------------------------------------------------------------------------\n",
      "    \n",
      "\n",
      "    -- Recommended #6[827] ['A Fish Called Wanda'] --\n",
      "    Categories: ['\"Crime Fiction\",  \"Heist\",  \"Crime Comedy\",  \"Caper story\",  \"Screwball comedy\",  \"Comedy\"']\n",
      "    Summary: London-based gangster George Thomason  and his right-hand man, Ken Pile , a beleaguered animal lover with a bad stutter, plan a jewel heist. They bring in two Americans to help: an alluring con artist, Wanda Gershwitz  and their \"weapons man\" Otto West , an Anglophobe who fancies himself as an intellectual. Wanda and Otto are lovers, but hide this fact from George and Ken, pretending to be brother...\n",
      "    ----------------------------------------------------------------------------------------------------\n",
      "    \n",
      "\n",
      "    -- Recommended #7[4762] ['Carry On Pickpocket'] --\n",
      "    Categories: ['\"Crime Comedy\",  \"World cinema\",  \"Action Comedy\",  \"Action/Adventure\",  \"Comedy\",  \"Action\",  \"Chinese Movies\"']\n",
      "    Summary: Hung Tai Kong aka \"Rice Pot\"  and Chan Yin Tung aka \"Chimney\"  are two brothers who work with their master Kam Ming  and his daughter Ann  as a team of pickpockets. Rice Pot, Chimney and Ann later meet Inspector Ling Ah Nam , who investigating a diamond robbery and later becomes Rice Pot's girlfriend. She tells Rice Pot that she has to leave for 2 to 3 months. He found out that she lied to him, an...\n",
      "    ----------------------------------------------------------------------------------------------------\n",
      "    \n",
      "\n",
      "    -- Recommended #8[1107] ['Bopha!'] --\n",
      "    Categories: ['\"Drama\",  \"Political drama\"']\n",
      "    Summary: The film opens with a black crowd burning alive a black police officer, from a nearby ghetto that they regard as a traitor. It then switches to the peaceful home of Micah Mangena, a black sergeant in the South African Police Force. His son Zweli Mangena increasingly questions Micah belief and Micah's wish that Zweli would follow him into the police. Micha's wife also has doubts as the once-peacefu...\n",
      "    ----------------------------------------------------------------------------------------------------\n",
      "    \n",
      "\n",
      "    -- Recommended #9[2852] ['Valiant Is the Word for Carrie'] --\n",
      "    Categories: ['\"Melodrama\",  \"Drama\",  \"Black-and-white\"']\n",
      "    Summary: Carrie Snyder  is a prostitute, who is forced out of the fictional southern town of Crebillon, after forming a friendship with a young boy named Paul , whose dying mother  is unable to protest against her son visiting such a woman. After Carrie has left town Paul runs away from his abusive father ([[John Wray , and meets a girl named Lady  who has run away from a burning trainwreck, not wanting to...\n",
      "    ----------------------------------------------------------------------------------------------------\n",
      "    \n",
      "\n",
      "    -- Recommended #10[4031] ['Dough for the Do-Do'] --\n",
      "    Categories: ['\"Short Film\",  \"Family Film\",  \"Comedy\",  \"Animation\"']\n",
      "    Summary: A newspaper shows Porky traveling to Africa to hunt the rare dodo bird, worth $6,000,000,000,000. Porky uses his airplane to go to Dark Africa, then Darker Africa, and finally lands in Darkest Africa . When Porky lands, a sign tells him that he's in Wackyland , while a scary voice booms out \"IT CAN HAPPEN... HERE!\" Soon he sees many strange, weird, and oafish creatures around. Suddenly, the last d...\n",
      "    ----------------------------------------------------------------------------------------------------\n",
      "    \n"
     ]
    }
   ],
   "source": [
    "# Ληστείες λαθρεμπόρειο διαμαντιών\n",
    "report_recommendations(4243, 10)"
   ]
  },
  {
   "cell_type": "code",
   "execution_count": 36,
   "metadata": {},
   "outputs": [
    {
     "name": "stdout",
     "output_type": "stream",
     "text": [
      "\n",
      "    -- Target Movie[2032] ['Three Violent People'] --\n",
      "    Categories: ['\"Western\",  \"Family Drama\",  \"Drama\",  \"Period piece\"']\n",
      "    Summary: Confederate soldier Capt. Colt Saunders comes home to Texas from the war. Victorious supporters of the Union have taken control of his town, including a corrupt commissioner named Cable. When he sees a Yankee insult a Southern belle named Lorna Hunter, the gallant Colt comes to her aid. He isn't aware of her past as a St. Louis dance-hall girl or her villainous true nature. Colt is knocked cold an...\n",
      "    ----------------------------------------------------------------------------------------------------\n",
      "    \n",
      "\n",
      "    -- Recommended #1[4008] ['Giant'] --\n",
      "    Categories: ['\"Action/Adventure\",  \"Western\",  \"Drama\",  \"Epic\"']\n",
      "    Summary: Jordan \"Bick\" Benedict , the head of the rich Benedict ranching family of Texas, goes to Maryland to buy a stud horse, War Winds. There he meets and courts the socialite Leslie Lynnton , who breaks off her engagement to a diplomat  and becomes Bick's wife. They return to Texas to start their life together on the family ranch, Reata, where Bick's sister Luz  runs the household. Luz resents Leslie's...\n",
      "    ----------------------------------------------------------------------------------------------------\n",
      "    \n",
      "\n",
      "    -- Recommended #2[1826] ['Horse Sense'] --\n",
      "    Categories: ['\"Family Film\",  \"Drama\"']\n",
      "    Summary:  A lazy and spoiled 20 year old named Michael Woods invites his cousin Tommy Biggs to come to spend over at his house for the weekend, Tommy is excited that he is going to see his cousin after not seeing him for awhile. After arriving at Michael's house he begins to ignore Tommy through out the weekend making him feel unwelcome on the last day for Tommy to leave Arlene the housekeeper has a talk w...\n",
      "    ----------------------------------------------------------------------------------------------------\n",
      "    \n",
      "\n",
      "    -- Recommended #3[2359] ['Mackintosh and T.J.'] --\n",
      "    Categories: ['\"Western\"']\n",
      "    Summary: MacKintosh  is an aging migrant cowboy drifting from ranch to ranch doing odd jobs along the way with the exception of his World War II service in the Pacific. When passing through a town he sees T.J.  a 14 year old recently released from doing clean up work for vagrancy. Shopping for supplies, MacKintosh sights T.J. preparing to steal an apple being watched by the store owner. MacKintosh pretends...\n",
      "    ----------------------------------------------------------------------------------------------------\n",
      "    \n",
      "\n",
      "    -- Recommended #4[371] ['The Red Stallion'] --\n",
      "    Categories: ['\"Action/Adventure\",  \"Family Film\",  \"Family Drama\",  \"Drama\",  \"Western\"']\n",
      "    Summary: Joel Curtis  is a young orphan who is living with his grandmother, Aggie Curtis , on her ranch. Joel finds an orphaned colt in the nearby woods, and names the horse Red. Joel learns that Grandma Curtis has extensive debts, and will be forced to sell her ranch to pay them off. Joel is friends with Andy McBride , a ranch hand at the nearby Moresby Farms. Joel convinces Andy to help him train Red as ...\n",
      "    ----------------------------------------------------------------------------------------------------\n",
      "    \n",
      "\n",
      "    -- Recommended #5[2606] ['Oh, Susanna!'] --\n",
      "    Categories: ['\"Action/Adventure\",  \"Romance Film\",  \"Western\",  \"Black-and-white\"']\n",
      "    Summary: Singing cowboy Gene Autry  is traveling to Mineral Springs Ranch to visit an old friend, Jefferson Lee , whom he hasn't seen in fifteen years. On the train he is robbed and then thrown from the train by escaped murderer Wolf Benson . Believing Gene to be dead, Wolf plans to travel to Mineral Springs Ranch and pose as the radio celebrity in order to collect the $10,000 that Lee owes Gene. Meanwhile...\n",
      "    ----------------------------------------------------------------------------------------------------\n",
      "    \n",
      "\n",
      "    -- Recommended #6[4582] ['Fanboys'] --\n",
      "    Categories: ['\"Parody\",  \"Comedy\",  \"Drama\",  \"Adventure\",  \"Indie\"']\n",
      "    Summary: On October 31, 1998, Eric Bottler reunites with his old high school buddies Linus, Hutch, Windows, and Zoe at a Halloween party. There is tension between Bottler and his old friends, due to Bottler being the only one that matured since high school. Bottler, now a car salesman at his father's dealership, finds that his friends have not changed a bit since high school; the number one thing they stil...\n",
      "    ----------------------------------------------------------------------------------------------------\n",
      "    \n",
      "\n",
      "    -- Recommended #7[652] ['The Vigilante Fighting Hero of the West'] --\n",
      "    Categories: ['\"Crime Fiction\",  \"Western\",  \"Action\",  \"Adventure\",  \"Black-and-white\"']\n",
      "    Summary: The Vigilante, a masked government agent, is assigned to investigate the case of the \"100 Tears of Blood\", a cursed string of rare blood red pearls sought by a gang led by the unknown X-1 that may have been smuggled into the country. Greg Sanders , in his civilian guise as an actor, is filming a western on George Pierce's ranch. Pierce is a wealthy rancher and nightclub owner. When the Prince Hami...\n",
      "    ----------------------------------------------------------------------------------------------------\n",
      "    \n",
      "\n",
      "    -- Recommended #8[3193] ['The Big Country'] --\n",
      "    Categories: ['\"Action/Adventure\",  \"Epic Western\",  \"Western\",  \"Drama\",  \"Romance Film\"']\n",
      "    Summary: Wealthy, newly retired sea captain James McKay  travels to the American West to join his fiancée Patricia  at the enormous ranch owned by her father, Major Terrill . Terrill has been feuding with Rufus Hannassey , the patriarch of a poorer, less refined ranching clan. Patricia's friend, schoolteacher Julie Maragon , owns the \"Big Muddy\", a large ranch with a vital water supply. She is caught in th...\n",
      "    ----------------------------------------------------------------------------------------------------\n",
      "    \n",
      "\n",
      "    -- Recommended #9[4585] ['Texas Terror'] --\n",
      "    Categories: ['\"Action/Adventure\",  \"Western\",  \"Action\",  \"Romance Film\",  \"Black-and-white\"']\n",
      "    Summary: Sheriff John Higgins quits and goes into prospecting after he thinks he has killed his best friend in shooting it out with robbers. He encounters his dead buddy's daughter and helps her run Lazy End Ranch. Then she finds out about his past....\n",
      "    ----------------------------------------------------------------------------------------------------\n",
      "    \n",
      "\n",
      "    -- Recommended #10[4870] ['The Sea of Grass'] --\n",
      "    Categories: ['\"Period piece\",  \"Black-and-white\",  \"Action/Adventure\",  \"Western\",  \"Marriage Drama\",  \"Drama\",  \"Film adaptation\"']\n",
      "    Summary: The film opens in St. Louis on Lutie Cameron's  wedding day. As she dresses, she receives a telegram from her fiancee Col. Brewton  ordering her to board the train for Salt Fork, New Mexico to marry him there instead. The first person she meets in the town is Brice Chamberlain , who warns her that she is bound for unhappiness with Brewton. He takes her over to the courthouse where she witnesses Br...\n",
      "    ----------------------------------------------------------------------------------------------------\n",
      "    \n"
     ]
    }
   ],
   "source": [
    "# Cowboys, άγρια Δύση, άλογα\n",
    "report_recommendations(2032, 10)"
   ]
  },
  {
   "cell_type": "code",
   "execution_count": 37,
   "metadata": {},
   "outputs": [
    {
     "name": "stdout",
     "output_type": "stream",
     "text": [
      "\n",
      "    -- Target Movie[3065] ['Eat and Run'] --\n",
      "    Categories: ['\"Parody\",  \"Crime Fiction\",  \"Science Fiction\",  \"Comedy\"']\n",
      "    Summary: A humanoid alien  lands on Earth and soon discovers he likes to eat Italian people. Detective McSorely  is an incompetent police officer, and the only one who knows what's going on. The rest of the police force thinks McSorely has gone nuts, while the alien continues eating the Italian population of New York City....\n",
      "    ----------------------------------------------------------------------------------------------------\n",
      "    \n",
      "\n",
      "    -- Recommended #1[1904] ['Being from Another Planet'] --\n",
      "    Categories: ['\"Science Fiction\",  \"Horror\",  \"Indie\"']\n",
      "    Summary: While California University professor Douglas McCadden  explores the tomb of the ancient Egyptian king Tutankhamun, an earthquake causes a wall in the tomb to collapse, revealing a hidden chamber. Inside, McCadden finds a mummy in a sarcophagus. Unbeknownst to McCadden, the \"mummy\" is not the body of a dead Egyptian, but an extraterrestrial alien in suspended animation. It was wrapped up and burie...\n",
      "    ----------------------------------------------------------------------------------------------------\n",
      "    \n",
      "\n",
      "    -- Recommended #2[2715] [\"Once You're Born You Can No Longer Hide\"] --\n",
      "    Categories: ['\"Drama\"']\n",
      "    Summary: A young Italian boy accidentally falls overboard while yachting with his father on the Mediterranean. He is rescued by a boatload of undocumented immigrants attempting to reach Italy by sailing across the Mediterranean. On the ship, he is befriended by a young Romanian man and his sister. The film follows the relationship of the Italian boy with the Romanian once they reach the Italian shores....\n",
      "    ----------------------------------------------------------------------------------------------------\n",
      "    \n",
      "\n",
      "    -- Recommended #3[386] ['Alien vs Ninja'] --\n",
      "    Categories: ['\"Thriller\",  \"Science Fiction\",  \"Horror\",  \"Adventure\",  \"World cinema\",  \"Action/Adventure\",  \"Fantasy\",  \"Comedy\",  \"Japanese Movies\",  \"Action\"']\n",
      "    Summary: A band of ninja warriors, led by an Iga Ninja named Yamata and his comrades Jinnai and Nezumi, are assigned to investigate the crash of a mysterious object from the sky. Upon arriving at the crash site, they discover the remains of other ninjas that have been brutally torn apart. Shortly after joining forces with another band of ninjas led by the kunoichi Rin, they encounter a boy whose village wa...\n",
      "    ----------------------------------------------------------------------------------------------------\n",
      "    \n",
      "\n",
      "    -- Recommended #4[4941] ['Commandos'] --\n",
      "    Categories: ['\"Action/Adventure\",  \"Western\",  \"Drama\",  \"World cinema\",  \"War film\"']\n",
      "    Summary: It is the middle of World War II and in the deserts of Africa, Sgt. Sullivan puts together a group of Italian-Americans into disguise as Italian soldiers in order to infiltrate a North African camp held by the Italians. After the soldiers have killed the Italians in their beds, they find a hooker living at the camp. Sullivan's commandos are to hold this camp and its weaponry until an American batt...\n",
      "    ----------------------------------------------------------------------------------------------------\n",
      "    \n",
      "\n",
      "    -- Recommended #5[3817] ['Returner'] --\n",
      "    Categories: ['\"Science Fiction\",  \"Japanese Movies\",  \"World cinema\",  \"Doomsday film\",  \"Action/Adventure\",  \"Alien Film\"']\n",
      "    Summary: Milly  is a soldier from 2084, where humanity is on the verge of extinction because of the \"Daggra\", an alien race. In mankind's final stronghold in Tibet Milly leaps into a newly-built time portal just before the fortress is overrun. The portal sends her to 2002, where her mission is to kill the first Daggra, who faked a crash landing, and stop him from signaling his invasion fleet. Milly lands i...\n",
      "    ----------------------------------------------------------------------------------------------------\n",
      "    \n",
      "\n",
      "    -- Recommended #6[2388] ['Interceptor Force 2'] --\n",
      "    Categories: ['\"Action Thrillers\",  \"Action\"']\n",
      "    Summary: Over Grozny, Russia, a pair of F-16 Falcon fighter jets chase down an unidentified spacecraft moving at supersonic speeds. Within minutes, it is the F-16s that are chased and eventually blasted out of the sky by the spacecraft. Minutes later, residents report a \"meteor\" flying pasat the city and landing somewhere in the distant hills. Jack Weber, head of the Alpha Force, calls in Lieutenant Sean L...\n",
      "    ----------------------------------------------------------------------------------------------------\n",
      "    \n",
      "\n",
      "    -- Recommended #7[4036] ['Men in Black'] --\n",
      "    Categories: ['\"Action/Adventure\",  \"Science Fiction\",  \"Action\",  \"Buddy film\",  \"Comedy\"']\n",
      "    Summary: In 1997, Agent K  is a member of the Men in Black , a secret agency without ties to any government, whose goal is to maintain Earth as a \"neutral zone\" for extraterrestrial aliens, whom they disguise as humans around New York City. The agency maintains its secrecy by using a neuralyzer to wipe the memories of those that encounter either them or the aliens, and also the memories of former agents wh...\n",
      "    ----------------------------------------------------------------------------------------------------\n",
      "    \n",
      "\n",
      "    -- Recommended #8[2375] ['Alien Hunter'] --\n",
      "    Categories: ['\"Thriller\",  \"Action/Adventure\",  \"Science Fiction\",  \"Action\",  \"Television movie\"']\n",
      "    Summary: In 1947 New Mexico, a radio operator receives a bizarre signal, coming from Roswell. He decides to investigate the signal's origin and goes out to follow it, to never be seen again. Present day and the same signal is received from the South Pole and then retransmitted from the Falkland Islands to the United States. A satellite image captures an unknown object sitting on the Antarctic snow. Cryptol...\n",
      "    ----------------------------------------------------------------------------------------------------\n",
      "    \n",
      "\n",
      "    -- Recommended #9[1605] ['Hangar 18'] --\n",
      "    Categories: ['\"Thriller\",  \"Mystery\",  \"Science Fiction\",  \"Drama\"']\n",
      "    Summary: Hangar 18 involves a U.F.O. cover-up following an incident aboard the space shuttle. The orbiter is launching a satellite, which collides with a nearby unidentified object. The collision kills an astronaut in the launch bay. The incident is witnessed by astronauts Price and Bancroff. After returning to Earth, both men investigate what they know happened, but which the government tries its best to ...\n",
      "    ----------------------------------------------------------------------------------------------------\n",
      "    \n",
      "\n",
      "    -- Recommended #10[1005] ['The Lake'] --\n",
      "    Categories: ['\"Thriller\",  \"Science Fiction\",  \"Horror\"']\n",
      "    Summary: Jackie Ivers  is a Los Angeles nurse who returns home to the small town of San Vicente to find that her friends and family have taken on bizarrely different personalities. Jackie notices that everyone who goes into the town's lake come out different. As the movie progresses, Jackie first-handedly witnesses what is happening to everyone around her as she is kidnapped by aliens from a parallel world...\n",
      "    ----------------------------------------------------------------------------------------------------\n",
      "    \n"
     ]
    }
   ],
   "source": [
    "# Περιπέτεια και (πρωτόγενες) φυλές\n",
    "report_recommendations(3065, 10)"
   ]
  },
  {
   "cell_type": "code",
   "execution_count": 38,
   "metadata": {},
   "outputs": [
    {
     "name": "stdout",
     "output_type": "stream",
     "text": [
      "\n",
      "    -- Target Movie[1312] ['Trouble Along the Way'] --\n",
      "    Categories: ['\"Sports\",  \"Melodrama\",  \"Drama\",  \"Comedy\",  \"Black-and-white\"']\n",
      "    Summary: John Wayne portrays a college football coach  who has been fired from previous jobs for violating rules relating to players' eligibility. Wayne's character is a divorced father of an eleven-year-old tomboy, Carol . Charles Coburn  plays the dean of a financially distressed Catholic college in New York City who hires Wayne to make the college's football team competitive so that receipts from game t...\n",
      "    ----------------------------------------------------------------------------------------------------\n",
      "    \n",
      "\n",
      "    -- Recommended #1[2329] ['Acceptance'] --\n",
      "    Categories: ['\"Family Film\",  \"Comedy\",  \"Television movie\"']\n",
      "    Summary: It is the story about a high school student and overachiever Taylor Rockefeller, who must deal with the pressures of the college admissions process. She also cuts her wrists throughout the movie. She struggles with finding her dream colleges. In the meantime, her mother wants her to go to a top college so she could find a suitable husband. Taylor's parents are about to breakup. Taylor realizes tha...\n",
      "    ----------------------------------------------------------------------------------------------------\n",
      "    \n",
      "\n",
      "    -- Recommended #2[1590] ['The Substitute 3: Winner Takes All'] --\n",
      "    Categories: ['\"Thriller\",  \"Action Thrillers\",  \"Action\"']\n",
      "    Summary: Students at a local college have become unusually antagonistic, and when a teacher is attacked by a gang of steroid-pumped students, Karl Thomasson -- having earned a teacher's degree to facilitate his actions in the previous film -- returns to the classroom to uncover the truth. What he finds is shocking: the college's football coach is involved in a steroid-doping scandal, and his 'juiced' stude...\n",
      "    ----------------------------------------------------------------------------------------------------\n",
      "    \n",
      "\n",
      "    -- Recommended #3[4524] ['College Coach'] --\n",
      "    Categories: ['\"Drama\",  \"Black-and-white\"']\n",
      "    Summary: Calvert College begins taking football more seriously, over the objections of Dr. Sargeant, the president of the school. Coach Gore is brought in and given a free rein, which he uses to pay money to standout players. He is so obsessed with winning that he ignores his wife, Claire. The president's son, Phil Sargeant, is also an outstanding athlete, but is far more interested in studying chemistry. ...\n",
      "    ----------------------------------------------------------------------------------------------------\n",
      "    \n",
      "\n",
      "    -- Recommended #4[3418] ['Accepted'] --\n",
      "    Categories: ['\"Comedy\",  \"Teen\"']\n",
      "    Summary: Bartleby Gaines  is a persuasive high-school senior who, among other pranks, creates fake IDs. His gifts do not extend to grades, however, and he receives rejection letters from all of the universities and colleges to which he applies, including those with high acceptance rates. In an attempt to seek approval from his strict father , Bartleby creates a fake college, the South Harmon Institute of T...\n",
      "    ----------------------------------------------------------------------------------------------------\n",
      "    \n",
      "\n",
      "    -- Recommended #5[3131] ['Necessary Roughness'] --\n",
      "    Categories: ['\"Sports\",  \"Comedy\"']\n",
      "    Summary: The Texas State University Fightin' Armadillos were once one of the most powerful teams in college football. However, shortly after winning consecutive national championships, massive NCAA violations resulted in the program having to forfeit several years' worth of victories. All of the previous players and coaches are banned from returning except Charlie Banks, the only \"clean\" player, who never ...\n",
      "    ----------------------------------------------------------------------------------------------------\n",
      "    \n",
      "\n",
      "    -- Recommended #6[4333] ['The Guy Who Came Back'] --\n",
      "    Categories: ['\"Drama\"']\n",
      "    Summary: Injured and out of shape, \"Hurricane\" Harry Joplin is unhappy about not being accepted for World War II duty by the Navy and unhappier still when the New York Titans decline to offer him a new contract, suggesting he become a coach instead. Harry refuses to believe his football days are over. While his wife Kathy supports the family, Harry spends time with his son, Willie, teaching him football. B...\n",
      "    ----------------------------------------------------------------------------------------------------\n",
      "    \n",
      "\n",
      "    -- Recommended #7[503] ['Rakkilippattu'] --\n",
      "    Categories: ['\"Drama\"']\n",
      "    Summary: Josephine , her best friend Radhika  and their friends are pranksters in a ladies' college. Like other college girls, they sing songs, break rules and wreak havoc. They also have a grudge against Gita, another girl from the college. Lakshmi, who plays Radhika's aunt, wants her niece to get married. To escape, Josephine and Radhika fake a boyfriend whose name is Ramesh. However, this fantasy takes ...\n",
      "    ----------------------------------------------------------------------------------------------------\n",
      "    \n",
      "\n",
      "    -- Recommended #8[3191] ['Nee Manasu Naaku Telusu'] --\n",
      "    Categories: ['\"Romance Film\"']\n",
      "    Summary: Sridhar ([[Tarun  is a final year degree student and gets selected in the campus selections. He goes to Mumbai for an interview and while returning finds Preeti  and loses his heart to her. Sridhar comes to know that Preeti was about to join in degree college and Preeti learns that he was a final year degree student. Sridhar is an ardent cricket fan, so is Preeti, while Sridhar is also a good foot...\n",
      "    ----------------------------------------------------------------------------------------------------\n",
      "    \n",
      "\n",
      "    -- Recommended #9[3649] ['Hoosiers'] --\n",
      "    Categories: ['\"Family Drama\",  \"Docudrama\",  \"Sports\",  \"Drama\",  \"Family Film\",  \"Teen\"']\n",
      "    Summary: Norman Dale arrives in the rural Indiana town of Hickory to be a high school teacher and basketball coach. He had lost a previous coaching position after striking a student, so he is under pressure to succeed. Like much of the state, Hickory's community is passionate about basketball. People are aware that the best player in town, Jimmy Chitwood, does not intend to play on this season's team. Facu...\n",
      "    ----------------------------------------------------------------------------------------------------\n",
      "    \n",
      "\n",
      "    -- Recommended #10[2307] ['For Those Who Think Young'] --\n",
      "    Categories: ['\"Cult\",  \"Romantic comedy\",  \"Romance Film\",  \"Comedy\",  \"Beach Film\"']\n",
      "    Summary: Rich kid and party animal Gardner Pruitt III , known as “Ding” to his friends, is on the prowl for a new conquest in the form of teenager Sandy Palmer . In the meantime, Ding’s influential grandfather, B.S. Cronin  wants to curtail the romance and shut down a popular local college teen hangout. Sandy’s guardians Sid Hoyt  and Woody Woodbury  get mixed up in the proceedings, with Woody becoming the...\n",
      "    ----------------------------------------------------------------------------------------------------\n",
      "    \n"
     ]
    }
   ],
   "source": [
    "# Κολλέγιο, ποδοσφαιρικές ομάδες κολλεγίου\n",
    "report_recommendations(1312, 10)"
   ]
  },
  {
   "cell_type": "code",
   "execution_count": 39,
   "metadata": {},
   "outputs": [
    {
     "name": "stdout",
     "output_type": "stream",
     "text": [
      "\n",
      "    -- Target Movie[4965] ['Kyofu densetsu: Kaiki! Furankenshutain'] --\n",
      "    Categories: ['\"Japanese Movies\"']\n",
      "    Summary: The film centers around the life of Victor Frankenstein. After creating the monster together with his partner Zuckel, the monster attacks the assistant and falls from a cliff. Assuming the monster is dead, Victor returns to his wife Elizabeth and daughter Emily. A police inspector named Bellbeau investigates some mysterious mutilations killings, and Victor is blackmailed by his former assistant, w...\n",
      "    ----------------------------------------------------------------------------------------------------\n",
      "    \n",
      "\n",
      "    -- Recommended #1[4300] ['Bride of Frankenstein'] --\n",
      "    Categories: ['\"Science Fiction\",  \"Horror\",  \"Comedy\",  \"Black-and-white\",  \"Monster\"']\n",
      "    Summary: On a stormy night, Percy Bysshe Shelley  and Lord Byron  praise Mary Shelley  for her story of Frankenstein and his Monster. Reminding them that her intention was to impart a moral lesson, Mary says she has more of the story to tell. The scene shifts to the end of the 1931 Frankenstein. Villagers gathered around the burning windmill cheer the apparent death of the Monster . Their joy is tempered b...\n",
      "    ----------------------------------------------------------------------------------------------------\n",
      "    \n",
      "\n",
      "    -- Recommended #2[1036] ['Scooby-Doo and the Loch Ness Monster'] --\n",
      "    Categories: ['\"Animation\",  \"Family-Oriented Adventure\",  \"Children\\'s/Family\"']\n",
      "    Summary: The Mystery, Inc. gang travel to Loch Ness in Scotland to see the famous Blake Castle, the home of Daphne Blake's cousin, Shannon. The Castle grounds is home to the first annual Highland Games, composed of many traditional Scottish sports. But when they arrive Shannon informs them that the Castle had recently been terrorized by the Loch Ness Monster. Shannon says she has seen the monster and it is...\n",
      "    ----------------------------------------------------------------------------------------------------\n",
      "    \n",
      "\n",
      "    -- Recommended #3[2638] ['Frankenstein'] --\n",
      "    Categories: ['\"Science Fiction\",  \"Horror\",  \"Black-and-white\",  \"Monster\"']\n",
      "    Summary: Henry Frankenstein , an ardent young scientist, and his devoted assistant Fritz , a hunchback, piece together a human body, the parts of which have been secretly collected from various sources. Frankenstein's consuming desire is to create human life through various electrical devices which he has perfected. Elizabeth Lavenza , his fiancée, is worried to distraction over his peculiar actions. She c...\n",
      "    ----------------------------------------------------------------------------------------------------\n",
      "    \n",
      "\n",
      "    -- Recommended #4[4972] ['Monster Mash'] --\n",
      "    Categories: ['\"Children\\'s\",  \"Comedy\",  \"Animation\"']\n",
      "    Summary: As the story unfolds, we meet the three main monsters: Frank, Drac, and Wolf, the werewolf. They were once the scariest of monsters, but now they have become associated with \"fun.\" The three end up on a TV show called Foolish Monster Tricks, which is witnessed by three new modern monsters who decide to have them thrown out of the Ghoul Guild. They are then called before the Court of Horrors just b...\n",
      "    ----------------------------------------------------------------------------------------------------\n",
      "    \n",
      "\n",
      "    -- Recommended #5[201] ['Son of Frankenstein'] --\n",
      "    Categories: ['\"Horror\",  \"Creature Film\",  \"Black-and-white\",  \"Monster\"']\n",
      "    Summary: It's been years since the events of the last movie. Baron Wolf von Frankenstein , son of Henry Frankenstein , relocates his wife Elsa  and young son Peter  to the family castle in the eponymous village. Wolf wants to redeem his father's reputation, but finds that such a feat will be harder than he thought after he encounters hostility from the villagers. Aside from his family, Wolf's only friend i...\n",
      "    ----------------------------------------------------------------------------------------------------\n",
      "    \n",
      "\n",
      "    -- Recommended #6[646] ['Godzilla: Final Wars'] --\n",
      "    Categories: ['\"Science Fiction\",  \"Japanese Movies\",  \"World cinema\",  \"Creature Film\",  \"Cult\",  \"Fantasy\",  \"Monster\"']\n",
      "    Summary:  Endless warfare and environmental pollution has resulted in dangerous kaiju and the Earth Defense Force  is created to protect the planet. The organization is equipped with the best technology, weapons and soldiers, as well as mutants with special abilities. Godzilla is the EDF's only unstoppable opponent. The EDF's best combat vehicle, the Gotengo, corners Godzilla at the South Pole and buries h...\n",
      "    ----------------------------------------------------------------------------------------------------\n",
      "    \n",
      "\n",
      "    -- Recommended #7[3662] ['Destroy All Monsters'] --\n",
      "    Categories: ['\"Monster movie\",  \"Action/Adventure\",  \"Science Fiction\",  \"Japanese Movies\",  \"World cinema\",  \"Cult\",  \"Fantasy\",  \"Monster\",  \"Action\"']\n",
      "    Summary: At the close of the 20th Century, all of the Earth's kaiju have been collected and confined in an area known as Monster Island, by the United Nations Science Committee, in the Ogasawara island chain. A special control center is constructed underneath the island to ensure the monsters stay secure, and serve as a research facility to study them. When communications with Monster Island are suddenly a...\n",
      "    ----------------------------------------------------------------------------------------------------\n",
      "    \n",
      "\n",
      "    -- Recommended #8[948] ['Alvin and the Chipmunks Meet Frankenstein'] --\n",
      "    Categories: ['\"Family Film\",  \"Horror\",  \"Animation\"']\n",
      "    Summary: The Chipmunks are performing at a theme park called Majestic Movie Studios . While taking a break from their concert, the Chipmunks get lost, and eventually get locked inside the park. They find their way to the \"Frankenstein's Castle\" attraction, where a real Dr. Frankenstein is working on his monster. The monster is brought to life, and the doctor sends it in pursuit of the Chipmunks. In their e...\n",
      "    ----------------------------------------------------------------------------------------------------\n",
      "    \n",
      "\n",
      "    -- Recommended #9[417] [\"Doug's 1st Movie\"] --\n",
      "    Categories: ['\"Children\\'s/Family\",  \"Children\\'s\",  \"Comedy\",  \"Teen\",  \"Animation\"']\n",
      "    Summary: Doug and Skeeter discover a monster that lives in Lucky Duck Lake. At first they are scared of him, but they later on find him to be nice. But, the monster is proof that Bill Bluff is polluting the lake which created this monster. The Monster almost eats the book Moby Dick, but Skeeter stops him and says, \"Stop! You almost ate Herman Melville\", and the monster responded, so they name him Herman Me...\n",
      "    ----------------------------------------------------------------------------------------------------\n",
      "    \n",
      "\n",
      "    -- Recommended #10[1498] ['Unearthed'] --\n",
      "    Categories: ['\"Monster movie\",  \"Action\",  \"Horror\",  \"Indie\"']\n",
      "    Summary: After a sinister crash on the highway in a small New Mexican town, people start disappearing and animals begin dying. The cause of the crash is later revealed to be a 900-year old creature which was unearthed during an archaeological dig in the area. Meanwhile, a gas station owner informs a group of people that the gas tank never arrived, which meant that the small group needed to spend the night ...\n",
      "    ----------------------------------------------------------------------------------------------------\n",
      "    \n"
     ]
    }
   ],
   "source": [
    "# Frankenstein, υπερφυσικά τέρατα, μυστήριο\n",
    "report_recommendations(4965, 10)"
   ]
  },
  {
   "cell_type": "markdown",
   "metadata": {},
   "source": [
    "Η απόδοση μιας συνάρτησης σαν τη δική μας, φαίνεται να επηρεάζεται πρώτα απ' όλα απ' την ποιότητα των κειμένων στα οποία δουλεύει.\n",
    "\n",
    "Όπως είχαμε προβλέψει απ' την αρχή, ταινίες με πολύ μικρή υπόθεση (1-2 γραμμές) δεν έδιναν αρκετές και σημαντικές πληροφορίες για να βρούμε προτεινόμενες.\n",
    "\n",
    "Στο άλλο άκρο, εκτενείς υποθέσεις πλάτειαζαν και \"μπέρδευαν\" τη συνάρτηση στο να ξεχωρίσει την ουσία της υπόθεσης.\n",
    "\n",
    "Τέλος, σημειώνεται το προφανές: δεν μπορούσαμε να \"αντιμετωπίσουμε\" λέξεις με διπλό νόημα. Για παράδειγμα δοκιμάζοντας ταινίες Χριστουγέννων, υπήρχε σύγχηση μεταξύ του \"snow\" (χιόνι) και \"snow white\" (χιονάτη)."
   ]
  },
  {
   "cell_type": "markdown",
   "metadata": {
    "colab_type": "text",
    "id": "4irg4K-IPSym"
   },
   "source": [
    "## Persistence αντικειμένων με joblib.dump\n",
    "\n",
    "Ας αποθηκεύσουμε το `corpus_tf_idf` και στη συνέχεια ας το ανακαλέσουμε."
   ]
  },
  {
   "cell_type": "code",
   "execution_count": null,
   "metadata": {
    "colab": {},
    "colab_type": "code",
    "id": "aESOPYQaPSyo",
    "scrolled": true
   },
   "outputs": [],
   "source": [
    "from sklearn.externals import joblib\n",
    "joblib.dump(corpus_tf_idf, 'corpus_tf_idf.pkl') "
   ]
  },
  {
   "cell_type": "markdown",
   "metadata": {
    "colab_type": "text",
    "id": "7_rAEj5ZPSy1"
   },
   "source": [
    "\n",
    "\n",
    "Μπορείτε με ένα απλό `!ls` να δείτε ότι το αρχείο `corpus_tf_idf.pkl` υπάρχει στο filesystem σας (== persistence):"
   ]
  },
  {
   "cell_type": "code",
   "execution_count": null,
   "metadata": {
    "colab": {},
    "colab_type": "code",
    "id": "ZhwXmTEIPSy3",
    "scrolled": true
   },
   "outputs": [],
   "source": [
    "!ls -lh | grep corpus*"
   ]
  }
 ],
 "metadata": {
  "colab": {
   "name": "Άσκηση 2 Εκφώνηση.ipynb",
   "provenance": [],
   "version": "0.3.2"
  },
  "kernelspec": {
   "display_name": "Python 3",
   "language": "python",
   "name": "python3"
  },
  "language_info": {
   "codemirror_mode": {
    "name": "ipython",
    "version": 3
   },
   "file_extension": ".py",
   "mimetype": "text/x-python",
   "name": "python",
   "nbconvert_exporter": "python",
   "pygments_lexer": "ipython3",
   "version": "3.6.6"
  }
 },
 "nbformat": 4,
 "nbformat_minor": 1
}
